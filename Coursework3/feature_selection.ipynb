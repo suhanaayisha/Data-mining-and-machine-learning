{
 "cells": [
  {
   "cell_type": "code",
   "execution_count": 58,
   "id": "8ac0efbf-233c-406b-9547-c8ff85a00d6a",
   "metadata": {
    "tags": []
   },
   "outputs": [],
   "source": [
    "import pandas as pd\n",
    "import numpy as np\n",
    "import matplotlib.pyplot as plt\n",
    "import cv2\n",
    "import scipy.ndimage as ndimage\n",
    "from sklearn.model_selection import train_test_split\n",
    "from sklearn.utils import resample\n",
    "from sklearn.preprocessing import StandardScaler\n",
    "from sklearn.cluster import KMeans\n",
    "from sklearn.metrics import silhouette_samples, silhouette_score, confusion_matrix, ConfusionMatrixDisplay\n",
    "import matplotlib.cm as cm\n",
    "from sklearn.mixture import GaussianMixture\n",
    "from sklearn.metrics import adjusted_rand_score"
   ]
  },
  {
   "cell_type": "code",
   "execution_count": 106,
   "id": "24755bb6-2f84-4ebf-ae11-32ebc26f1aa7",
   "metadata": {
    "tags": []
   },
   "outputs": [],
   "source": [
    "X_train = pd.read_csv(\"../x_train_all.csv\")\n",
    "X_test = pd.read_csv(\"../x_test_all.csv\")\n",
    "y_train = pd.read_csv(\"../y_train_all.csv\")\n",
    "y_test = pd.read_csv(\"../y_test_all.csv\")"
   ]
  },
  {
   "cell_type": "code",
   "execution_count": 110,
   "id": "b09a9e28-11fc-46e3-8afb-7d1e0f8e1931",
   "metadata": {
    "tags": []
   },
   "outputs": [],
   "source": [
    "pca_dims = PCA()\n",
    "pca_dims.fit(X_train)\n",
    "cumsum = np.cumsum(pca_dims.explained_variance_ratio_)\n",
    "d = np.argmax(cumsum >= 0.98) + 1"
   ]
  },
  {
   "cell_type": "code",
   "execution_count": 111,
   "id": "3b62ccca-b068-46ad-b859-1d8b91feb065",
   "metadata": {
    "tags": []
   },
   "outputs": [
    {
     "data": {
      "text/plain": [
       "190"
      ]
     },
     "execution_count": 111,
     "metadata": {},
     "output_type": "execute_result"
    }
   ],
   "source": [
    "d"
   ]
  },
  {
   "cell_type": "code",
   "execution_count": 114,
   "id": "e88d9e37-e4bf-40e0-a67c-78f49a5b2971",
   "metadata": {
    "tags": []
   },
   "outputs": [],
   "source": [
    "pca = PCA(n_components=d)\n",
    "X_train_PCA = pca.fit_transform(X_train)\n",
    "X_test_PCA = pca.transform(X_test)"
   ]
  }
 ],
 "metadata": {
  "kernelspec": {
   "display_name": "Python 3 (ipykernel)",
   "language": "python",
   "name": "python3"
  },
  "language_info": {
   "codemirror_mode": {
    "name": "ipython",
    "version": 3
   },
   "file_extension": ".py",
   "mimetype": "text/x-python",
   "name": "python",
   "nbconvert_exporter": "python",
   "pygments_lexer": "ipython3",
   "version": "3.11.4"
  }
 },
 "nbformat": 4,
 "nbformat_minor": 5
}
