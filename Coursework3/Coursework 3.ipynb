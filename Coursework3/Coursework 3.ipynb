{
 "cells": [
  {
   "cell_type": "code",
   "execution_count": 74,
   "id": "156abef5",
   "metadata": {},
   "outputs": [],
   "source": [
    "# Python ≥3.5 is required\n",
    "import sys\n",
    "assert sys.version_info >= (3, 5)\n",
    "\n",
    "# Scikit-Learn ≥0.20 is\n",
    "import sklearn\n",
    "assert sklearn.__version__ >= \"0.20\"\n",
    "from sklearn.model_selection import KFold, cross_val_score\n",
    "from sklearn.metrics import (\n",
    "    accuracy_score,\n",
    "    auc,\n",
    "    confusion_matrix,\n",
    "    ConfusionMatrixDisplay,\n",
    "    f1_score,\n",
    "    precision_score,\n",
    "    recall_score,\n",
    "    roc_curve\n",
    ")\n",
    "from sklearn.ensemble import RandomForestClassifier\n",
    "from sklearn.tree import DecisionTreeClassifier,plot_tree\n",
    "# Common imports\n",
    "import numpy as np\n",
    "import os\n",
    "import pandas as pd\n",
    "# to make this notebook's output stable across runs\n",
    "np.random.seed(42)\n",
    "\n",
    "# To plot pretty figures\n",
    "%matplotlib inline\n",
    "import matplotlib as mpl\n",
    "import matplotlib.pyplot as plt\n",
    "mpl.rc('axes', labelsize=14)\n",
    "mpl.rc('xtick', labelsize=12)\n",
    "mpl.rc('ytick', labelsize=12)\n",
    "\n"
   ]
  },
  {
   "cell_type": "code",
   "execution_count": 75,
   "id": "36909341",
   "metadata": {},
   "outputs": [],
   "source": [
    "X_train = pd.read_csv(\"x_train_all.csv\")\n",
    "X_test = pd.read_csv(\"x_test_all.csv\")\n",
    "y_train = pd.read_csv(\"y_train_all.csv\")\n",
    "y_test = pd.read_csv(\"y_test_all.csv\")"
   ]
  },
  {
   "cell_type": "markdown",
   "id": "1cf76386",
   "metadata": {},
   "source": [
    "# Balance the dataset"
   ]
  },
  {
   "cell_type": "code",
   "execution_count": 76,
   "id": "7331bc05",
   "metadata": {},
   "outputs": [
    {
     "data": {
      "text/plain": [
       "0\n",
       "2    2250\n",
       "1    2220\n",
       "4    1980\n",
       "3    1410\n",
       "8     540\n",
       "6     360\n",
       "9     270\n",
       "7     240\n",
       "0     210\n",
       "5     210\n",
       "dtype: int64"
      ]
     },
     "execution_count": 76,
     "metadata": {},
     "output_type": "execute_result"
    }
   ],
   "source": [
    "a= y_train.value_counts()\n",
    "a"
   ]
  },
  {
   "cell_type": "code",
   "execution_count": 77,
   "id": "09bfc256",
   "metadata": {},
   "outputs": [
    {
     "data": {
      "text/html": [
       "<div>\n",
       "<style scoped>\n",
       "    .dataframe tbody tr th:only-of-type {\n",
       "        vertical-align: middle;\n",
       "    }\n",
       "\n",
       "    .dataframe tbody tr th {\n",
       "        vertical-align: top;\n",
       "    }\n",
       "\n",
       "    .dataframe thead th {\n",
       "        text-align: right;\n",
       "    }\n",
       "</style>\n",
       "<table border=\"1\" class=\"dataframe\">\n",
       "  <thead>\n",
       "    <tr style=\"text-align: right;\">\n",
       "      <th></th>\n",
       "      <th>0</th>\n",
       "      <th>1</th>\n",
       "      <th>2</th>\n",
       "      <th>3</th>\n",
       "      <th>4</th>\n",
       "      <th>5</th>\n",
       "      <th>6</th>\n",
       "      <th>7</th>\n",
       "      <th>8</th>\n",
       "      <th>9</th>\n",
       "      <th>...</th>\n",
       "      <th>2295</th>\n",
       "      <th>2296</th>\n",
       "      <th>2297</th>\n",
       "      <th>2298</th>\n",
       "      <th>2299</th>\n",
       "      <th>2300</th>\n",
       "      <th>2301</th>\n",
       "      <th>2302</th>\n",
       "      <th>2303</th>\n",
       "      <th>Class</th>\n",
       "    </tr>\n",
       "  </thead>\n",
       "  <tbody>\n",
       "    <tr>\n",
       "      <th>0</th>\n",
       "      <td>21.0</td>\n",
       "      <td>23.0</td>\n",
       "      <td>25.0</td>\n",
       "      <td>26.0</td>\n",
       "      <td>29.0</td>\n",
       "      <td>30.0</td>\n",
       "      <td>32.0</td>\n",
       "      <td>34.0</td>\n",
       "      <td>36.0</td>\n",
       "      <td>39.0</td>\n",
       "      <td>...</td>\n",
       "      <td>144.0</td>\n",
       "      <td>134.0</td>\n",
       "      <td>125.0</td>\n",
       "      <td>116.0</td>\n",
       "      <td>109.0</td>\n",
       "      <td>101.0</td>\n",
       "      <td>121.0</td>\n",
       "      <td>138.0</td>\n",
       "      <td>143.0</td>\n",
       "      <td>0</td>\n",
       "    </tr>\n",
       "    <tr>\n",
       "      <th>1</th>\n",
       "      <td>138.0</td>\n",
       "      <td>112.0</td>\n",
       "      <td>110.0</td>\n",
       "      <td>110.0</td>\n",
       "      <td>110.0</td>\n",
       "      <td>110.0</td>\n",
       "      <td>108.0</td>\n",
       "      <td>106.0</td>\n",
       "      <td>104.0</td>\n",
       "      <td>106.0</td>\n",
       "      <td>...</td>\n",
       "      <td>196.0</td>\n",
       "      <td>198.0</td>\n",
       "      <td>209.0</td>\n",
       "      <td>203.0</td>\n",
       "      <td>197.0</td>\n",
       "      <td>199.0</td>\n",
       "      <td>194.0</td>\n",
       "      <td>193.0</td>\n",
       "      <td>203.0</td>\n",
       "      <td>0</td>\n",
       "    </tr>\n",
       "    <tr>\n",
       "      <th>2</th>\n",
       "      <td>22.0</td>\n",
       "      <td>22.0</td>\n",
       "      <td>21.0</td>\n",
       "      <td>22.0</td>\n",
       "      <td>22.0</td>\n",
       "      <td>23.0</td>\n",
       "      <td>27.0</td>\n",
       "      <td>31.0</td>\n",
       "      <td>35.0</td>\n",
       "      <td>37.0</td>\n",
       "      <td>...</td>\n",
       "      <td>158.0</td>\n",
       "      <td>162.0</td>\n",
       "      <td>160.0</td>\n",
       "      <td>158.0</td>\n",
       "      <td>159.0</td>\n",
       "      <td>141.0</td>\n",
       "      <td>112.0</td>\n",
       "      <td>86.0</td>\n",
       "      <td>69.0</td>\n",
       "      <td>0</td>\n",
       "    </tr>\n",
       "    <tr>\n",
       "      <th>3</th>\n",
       "      <td>132.0</td>\n",
       "      <td>134.0</td>\n",
       "      <td>98.0</td>\n",
       "      <td>70.0</td>\n",
       "      <td>67.0</td>\n",
       "      <td>88.0</td>\n",
       "      <td>138.0</td>\n",
       "      <td>216.0</td>\n",
       "      <td>247.0</td>\n",
       "      <td>254.0</td>\n",
       "      <td>...</td>\n",
       "      <td>81.0</td>\n",
       "      <td>87.0</td>\n",
       "      <td>82.0</td>\n",
       "      <td>80.0</td>\n",
       "      <td>74.0</td>\n",
       "      <td>74.0</td>\n",
       "      <td>82.0</td>\n",
       "      <td>92.0</td>\n",
       "      <td>102.0</td>\n",
       "      <td>0</td>\n",
       "    </tr>\n",
       "    <tr>\n",
       "      <th>4</th>\n",
       "      <td>24.0</td>\n",
       "      <td>26.0</td>\n",
       "      <td>27.0</td>\n",
       "      <td>28.0</td>\n",
       "      <td>30.0</td>\n",
       "      <td>33.0</td>\n",
       "      <td>35.0</td>\n",
       "      <td>37.0</td>\n",
       "      <td>38.0</td>\n",
       "      <td>36.0</td>\n",
       "      <td>...</td>\n",
       "      <td>145.0</td>\n",
       "      <td>141.0</td>\n",
       "      <td>127.0</td>\n",
       "      <td>110.0</td>\n",
       "      <td>100.0</td>\n",
       "      <td>98.0</td>\n",
       "      <td>100.0</td>\n",
       "      <td>115.0</td>\n",
       "      <td>128.0</td>\n",
       "      <td>0</td>\n",
       "    </tr>\n",
       "    <tr>\n",
       "      <th>...</th>\n",
       "      <td>...</td>\n",
       "      <td>...</td>\n",
       "      <td>...</td>\n",
       "      <td>...</td>\n",
       "      <td>...</td>\n",
       "      <td>...</td>\n",
       "      <td>...</td>\n",
       "      <td>...</td>\n",
       "      <td>...</td>\n",
       "      <td>...</td>\n",
       "      <td>...</td>\n",
       "      <td>...</td>\n",
       "      <td>...</td>\n",
       "      <td>...</td>\n",
       "      <td>...</td>\n",
       "      <td>...</td>\n",
       "      <td>...</td>\n",
       "      <td>...</td>\n",
       "      <td>...</td>\n",
       "      <td>...</td>\n",
       "      <td>...</td>\n",
       "    </tr>\n",
       "    <tr>\n",
       "      <th>22495</th>\n",
       "      <td>25.0</td>\n",
       "      <td>23.0</td>\n",
       "      <td>26.0</td>\n",
       "      <td>26.0</td>\n",
       "      <td>30.0</td>\n",
       "      <td>32.0</td>\n",
       "      <td>29.0</td>\n",
       "      <td>25.0</td>\n",
       "      <td>25.0</td>\n",
       "      <td>23.0</td>\n",
       "      <td>...</td>\n",
       "      <td>23.0</td>\n",
       "      <td>23.0</td>\n",
       "      <td>23.0</td>\n",
       "      <td>23.0</td>\n",
       "      <td>24.0</td>\n",
       "      <td>24.0</td>\n",
       "      <td>22.0</td>\n",
       "      <td>24.0</td>\n",
       "      <td>24.0</td>\n",
       "      <td>2</td>\n",
       "    </tr>\n",
       "    <tr>\n",
       "      <th>22496</th>\n",
       "      <td>21.0</td>\n",
       "      <td>21.0</td>\n",
       "      <td>20.0</td>\n",
       "      <td>21.0</td>\n",
       "      <td>21.0</td>\n",
       "      <td>22.0</td>\n",
       "      <td>23.0</td>\n",
       "      <td>22.0</td>\n",
       "      <td>22.0</td>\n",
       "      <td>21.0</td>\n",
       "      <td>...</td>\n",
       "      <td>25.0</td>\n",
       "      <td>25.0</td>\n",
       "      <td>24.0</td>\n",
       "      <td>23.0</td>\n",
       "      <td>23.0</td>\n",
       "      <td>24.0</td>\n",
       "      <td>24.0</td>\n",
       "      <td>25.0</td>\n",
       "      <td>27.0</td>\n",
       "      <td>2</td>\n",
       "    </tr>\n",
       "    <tr>\n",
       "      <th>22497</th>\n",
       "      <td>21.0</td>\n",
       "      <td>20.0</td>\n",
       "      <td>20.0</td>\n",
       "      <td>20.0</td>\n",
       "      <td>20.0</td>\n",
       "      <td>22.0</td>\n",
       "      <td>24.0</td>\n",
       "      <td>24.0</td>\n",
       "      <td>24.0</td>\n",
       "      <td>22.0</td>\n",
       "      <td>...</td>\n",
       "      <td>20.0</td>\n",
       "      <td>22.0</td>\n",
       "      <td>22.0</td>\n",
       "      <td>24.0</td>\n",
       "      <td>25.0</td>\n",
       "      <td>24.0</td>\n",
       "      <td>23.0</td>\n",
       "      <td>24.0</td>\n",
       "      <td>25.0</td>\n",
       "      <td>2</td>\n",
       "    </tr>\n",
       "    <tr>\n",
       "      <th>22498</th>\n",
       "      <td>24.0</td>\n",
       "      <td>22.0</td>\n",
       "      <td>20.0</td>\n",
       "      <td>20.0</td>\n",
       "      <td>21.0</td>\n",
       "      <td>21.0</td>\n",
       "      <td>20.0</td>\n",
       "      <td>19.0</td>\n",
       "      <td>19.0</td>\n",
       "      <td>22.0</td>\n",
       "      <td>...</td>\n",
       "      <td>25.0</td>\n",
       "      <td>21.0</td>\n",
       "      <td>22.0</td>\n",
       "      <td>24.0</td>\n",
       "      <td>24.0</td>\n",
       "      <td>22.0</td>\n",
       "      <td>23.0</td>\n",
       "      <td>22.0</td>\n",
       "      <td>20.0</td>\n",
       "      <td>2</td>\n",
       "    </tr>\n",
       "    <tr>\n",
       "      <th>22499</th>\n",
       "      <td>21.0</td>\n",
       "      <td>22.0</td>\n",
       "      <td>22.0</td>\n",
       "      <td>21.0</td>\n",
       "      <td>20.0</td>\n",
       "      <td>22.0</td>\n",
       "      <td>23.0</td>\n",
       "      <td>21.0</td>\n",
       "      <td>20.0</td>\n",
       "      <td>21.0</td>\n",
       "      <td>...</td>\n",
       "      <td>22.0</td>\n",
       "      <td>22.0</td>\n",
       "      <td>22.0</td>\n",
       "      <td>22.0</td>\n",
       "      <td>22.0</td>\n",
       "      <td>19.0</td>\n",
       "      <td>18.0</td>\n",
       "      <td>18.0</td>\n",
       "      <td>17.0</td>\n",
       "      <td>2</td>\n",
       "    </tr>\n",
       "  </tbody>\n",
       "</table>\n",
       "<p>22500 rows × 2305 columns</p>\n",
       "</div>"
      ],
      "text/plain": [
       "           0      1      2      3      4      5      6      7      8      9  \\\n",
       "0       21.0   23.0   25.0   26.0   29.0   30.0   32.0   34.0   36.0   39.0   \n",
       "1      138.0  112.0  110.0  110.0  110.0  110.0  108.0  106.0  104.0  106.0   \n",
       "2       22.0   22.0   21.0   22.0   22.0   23.0   27.0   31.0   35.0   37.0   \n",
       "3      132.0  134.0   98.0   70.0   67.0   88.0  138.0  216.0  247.0  254.0   \n",
       "4       24.0   26.0   27.0   28.0   30.0   33.0   35.0   37.0   38.0   36.0   \n",
       "...      ...    ...    ...    ...    ...    ...    ...    ...    ...    ...   \n",
       "22495   25.0   23.0   26.0   26.0   30.0   32.0   29.0   25.0   25.0   23.0   \n",
       "22496   21.0   21.0   20.0   21.0   21.0   22.0   23.0   22.0   22.0   21.0   \n",
       "22497   21.0   20.0   20.0   20.0   20.0   22.0   24.0   24.0   24.0   22.0   \n",
       "22498   24.0   22.0   20.0   20.0   21.0   21.0   20.0   19.0   19.0   22.0   \n",
       "22499   21.0   22.0   22.0   21.0   20.0   22.0   23.0   21.0   20.0   21.0   \n",
       "\n",
       "       ...   2295   2296   2297   2298   2299   2300   2301   2302   2303  \\\n",
       "0      ...  144.0  134.0  125.0  116.0  109.0  101.0  121.0  138.0  143.0   \n",
       "1      ...  196.0  198.0  209.0  203.0  197.0  199.0  194.0  193.0  203.0   \n",
       "2      ...  158.0  162.0  160.0  158.0  159.0  141.0  112.0   86.0   69.0   \n",
       "3      ...   81.0   87.0   82.0   80.0   74.0   74.0   82.0   92.0  102.0   \n",
       "4      ...  145.0  141.0  127.0  110.0  100.0   98.0  100.0  115.0  128.0   \n",
       "...    ...    ...    ...    ...    ...    ...    ...    ...    ...    ...   \n",
       "22495  ...   23.0   23.0   23.0   23.0   24.0   24.0   22.0   24.0   24.0   \n",
       "22496  ...   25.0   25.0   24.0   23.0   23.0   24.0   24.0   25.0   27.0   \n",
       "22497  ...   20.0   22.0   22.0   24.0   25.0   24.0   23.0   24.0   25.0   \n",
       "22498  ...   25.0   21.0   22.0   24.0   24.0   22.0   23.0   22.0   20.0   \n",
       "22499  ...   22.0   22.0   22.0   22.0   22.0   19.0   18.0   18.0   17.0   \n",
       "\n",
       "       Class  \n",
       "0          0  \n",
       "1          0  \n",
       "2          0  \n",
       "3          0  \n",
       "4          0  \n",
       "...      ...  \n",
       "22495      2  \n",
       "22496      2  \n",
       "22497      2  \n",
       "22498      2  \n",
       "22499      2  \n",
       "\n",
       "[22500 rows x 2305 columns]"
      ]
     },
     "execution_count": 77,
     "metadata": {},
     "output_type": "execute_result"
    }
   ],
   "source": [
    "from sklearn.utils import resample\n",
    "\n",
    "y_train.columns = ['Class']\n",
    "\n",
    "concatenated = pd.concat([X_train, y_train.rename(columns={0: \"Output\"})], axis=\"columns\")\n",
    "concatenated.head()\n",
    "\n",
    "#create two different dataframe of majority and minority class \n",
    "df_class_2 = concatenated[(concatenated['Class']==2)] \n",
    "df_class_0 = concatenated[(concatenated['Class']==0)] \n",
    "df_class_1 = concatenated[(concatenated['Class']==1)] \n",
    "df_class_3 = concatenated[(concatenated['Class']==3)] \n",
    "df_class_4 = concatenated[(concatenated['Class']==4)] \n",
    "df_class_5 = concatenated[(concatenated['Class']==5)] \n",
    "df_class_6 = concatenated[(concatenated['Class']==6)] \n",
    "df_class_7 = concatenated[(concatenated['Class']==7)] \n",
    "df_class_8 = concatenated[(concatenated['Class']==8)] \n",
    "df_class_9 = concatenated[(concatenated['Class']==9)] \n",
    "\n",
    "\n",
    "df_class_0_upsampled = resample(df_class_0, \n",
    "                                 replace=True,    # sample with replacement\n",
    "                                 n_samples= 2250, # to match majority class\n",
    "                                 random_state=42)  # reproducible results\n",
    "\n",
    "df_class_1_upsampled = resample(df_class_1, \n",
    "                                 replace=True,    # sample with replacement\n",
    "                                 n_samples= 2250, # to match majority class\n",
    "                                 random_state=42)  # reproducible results\n",
    "df_class_3_upsampled = resample(df_class_3, \n",
    "                                 replace=True,    # sample with replacement\n",
    "                                 n_samples= 2250, # to match majority class\n",
    "                                 random_state=42)  # reproducible results\n",
    "\n",
    "df_class_4_upsampled = resample(df_class_4, \n",
    "                                 replace=True,    # sample with replacement\n",
    "                                 n_samples= 2250, # to match majority class\n",
    "                                 random_state=42)  # reproducible results\n",
    "df_class_5_upsampled = resample(df_class_5, \n",
    "                                 replace=True,    # sample with replacement\n",
    "                                 n_samples= 2250, # to match majority class\n",
    "                                 random_state=42)  # reproducible results\n",
    "\n",
    "df_class_6_upsampled = resample(df_class_6, \n",
    "                                 replace=True,    # sample with replacement\n",
    "                                 n_samples= 2250, # to match majority class\n",
    "                                 random_state=42)  # reproducible results\n",
    "df_class_7_upsampled = resample(df_class_7, \n",
    "                                 replace=True,    # sample with replacement\n",
    "                                 n_samples= 2250, # to match majority class\n",
    "                                 random_state=42)  # reproducible results\n",
    "\n",
    "\n",
    "df_class_8_upsampled = resample(df_class_8, \n",
    "                                 replace=True,    # sample with replacement\n",
    "                                 n_samples= 2250, # to match majority class\n",
    "                                 random_state=42)  # reproducible results\n",
    "df_class_9_upsampled = resample(df_class_9, \n",
    "                                 replace=True,    # sample with replacement\n",
    "                                 n_samples= 2250, # to match majority class\n",
    "                                 random_state=42)  # reproducible results\n",
    "\n",
    "dfs = [df_class_0_upsampled, df_class_1_upsampled, df_class_3_upsampled, df_class_4_upsampled, \n",
    "                          df_class_5_upsampled, df_class_6_upsampled, df_class_7_upsampled, df_class_8_upsampled, df_class_9_upsampled,\n",
    "                          df_class_2]\n",
    "\n",
    "\n",
    "result = pd.concat(dfs)\n",
    "\n",
    "result = result.reset_index(drop=True)\n",
    "result"
   ]
  },
  {
   "cell_type": "code",
   "execution_count": 78,
   "id": "281dea6c",
   "metadata": {},
   "outputs": [
    {
     "data": {
      "text/html": [
       "<div>\n",
       "<style scoped>\n",
       "    .dataframe tbody tr th:only-of-type {\n",
       "        vertical-align: middle;\n",
       "    }\n",
       "\n",
       "    .dataframe tbody tr th {\n",
       "        vertical-align: top;\n",
       "    }\n",
       "\n",
       "    .dataframe thead th {\n",
       "        text-align: right;\n",
       "    }\n",
       "</style>\n",
       "<table border=\"1\" class=\"dataframe\">\n",
       "  <thead>\n",
       "    <tr style=\"text-align: right;\">\n",
       "      <th></th>\n",
       "      <th>0</th>\n",
       "      <th>1</th>\n",
       "      <th>2</th>\n",
       "      <th>3</th>\n",
       "      <th>4</th>\n",
       "      <th>5</th>\n",
       "      <th>6</th>\n",
       "      <th>7</th>\n",
       "      <th>8</th>\n",
       "      <th>9</th>\n",
       "      <th>...</th>\n",
       "      <th>2294</th>\n",
       "      <th>2295</th>\n",
       "      <th>2296</th>\n",
       "      <th>2297</th>\n",
       "      <th>2298</th>\n",
       "      <th>2299</th>\n",
       "      <th>2300</th>\n",
       "      <th>2301</th>\n",
       "      <th>2302</th>\n",
       "      <th>2303</th>\n",
       "    </tr>\n",
       "  </thead>\n",
       "  <tbody>\n",
       "    <tr>\n",
       "      <th>0</th>\n",
       "      <td>21.0</td>\n",
       "      <td>23.0</td>\n",
       "      <td>25.0</td>\n",
       "      <td>26.0</td>\n",
       "      <td>29.0</td>\n",
       "      <td>30.0</td>\n",
       "      <td>32.0</td>\n",
       "      <td>34.0</td>\n",
       "      <td>36.0</td>\n",
       "      <td>39.0</td>\n",
       "      <td>...</td>\n",
       "      <td>153.0</td>\n",
       "      <td>144.0</td>\n",
       "      <td>134.0</td>\n",
       "      <td>125.0</td>\n",
       "      <td>116.0</td>\n",
       "      <td>109.0</td>\n",
       "      <td>101.0</td>\n",
       "      <td>121.0</td>\n",
       "      <td>138.0</td>\n",
       "      <td>143.0</td>\n",
       "    </tr>\n",
       "    <tr>\n",
       "      <th>1</th>\n",
       "      <td>138.0</td>\n",
       "      <td>112.0</td>\n",
       "      <td>110.0</td>\n",
       "      <td>110.0</td>\n",
       "      <td>110.0</td>\n",
       "      <td>110.0</td>\n",
       "      <td>108.0</td>\n",
       "      <td>106.0</td>\n",
       "      <td>104.0</td>\n",
       "      <td>106.0</td>\n",
       "      <td>...</td>\n",
       "      <td>193.0</td>\n",
       "      <td>196.0</td>\n",
       "      <td>198.0</td>\n",
       "      <td>209.0</td>\n",
       "      <td>203.0</td>\n",
       "      <td>197.0</td>\n",
       "      <td>199.0</td>\n",
       "      <td>194.0</td>\n",
       "      <td>193.0</td>\n",
       "      <td>203.0</td>\n",
       "    </tr>\n",
       "    <tr>\n",
       "      <th>2</th>\n",
       "      <td>22.0</td>\n",
       "      <td>22.0</td>\n",
       "      <td>21.0</td>\n",
       "      <td>22.0</td>\n",
       "      <td>22.0</td>\n",
       "      <td>23.0</td>\n",
       "      <td>27.0</td>\n",
       "      <td>31.0</td>\n",
       "      <td>35.0</td>\n",
       "      <td>37.0</td>\n",
       "      <td>...</td>\n",
       "      <td>155.0</td>\n",
       "      <td>158.0</td>\n",
       "      <td>162.0</td>\n",
       "      <td>160.0</td>\n",
       "      <td>158.0</td>\n",
       "      <td>159.0</td>\n",
       "      <td>141.0</td>\n",
       "      <td>112.0</td>\n",
       "      <td>86.0</td>\n",
       "      <td>69.0</td>\n",
       "    </tr>\n",
       "    <tr>\n",
       "      <th>3</th>\n",
       "      <td>132.0</td>\n",
       "      <td>134.0</td>\n",
       "      <td>98.0</td>\n",
       "      <td>70.0</td>\n",
       "      <td>67.0</td>\n",
       "      <td>88.0</td>\n",
       "      <td>138.0</td>\n",
       "      <td>216.0</td>\n",
       "      <td>247.0</td>\n",
       "      <td>254.0</td>\n",
       "      <td>...</td>\n",
       "      <td>75.0</td>\n",
       "      <td>81.0</td>\n",
       "      <td>87.0</td>\n",
       "      <td>82.0</td>\n",
       "      <td>80.0</td>\n",
       "      <td>74.0</td>\n",
       "      <td>74.0</td>\n",
       "      <td>82.0</td>\n",
       "      <td>92.0</td>\n",
       "      <td>102.0</td>\n",
       "    </tr>\n",
       "    <tr>\n",
       "      <th>4</th>\n",
       "      <td>24.0</td>\n",
       "      <td>26.0</td>\n",
       "      <td>27.0</td>\n",
       "      <td>28.0</td>\n",
       "      <td>30.0</td>\n",
       "      <td>33.0</td>\n",
       "      <td>35.0</td>\n",
       "      <td>37.0</td>\n",
       "      <td>38.0</td>\n",
       "      <td>36.0</td>\n",
       "      <td>...</td>\n",
       "      <td>147.0</td>\n",
       "      <td>145.0</td>\n",
       "      <td>141.0</td>\n",
       "      <td>127.0</td>\n",
       "      <td>110.0</td>\n",
       "      <td>100.0</td>\n",
       "      <td>98.0</td>\n",
       "      <td>100.0</td>\n",
       "      <td>115.0</td>\n",
       "      <td>128.0</td>\n",
       "    </tr>\n",
       "    <tr>\n",
       "      <th>...</th>\n",
       "      <td>...</td>\n",
       "      <td>...</td>\n",
       "      <td>...</td>\n",
       "      <td>...</td>\n",
       "      <td>...</td>\n",
       "      <td>...</td>\n",
       "      <td>...</td>\n",
       "      <td>...</td>\n",
       "      <td>...</td>\n",
       "      <td>...</td>\n",
       "      <td>...</td>\n",
       "      <td>...</td>\n",
       "      <td>...</td>\n",
       "      <td>...</td>\n",
       "      <td>...</td>\n",
       "      <td>...</td>\n",
       "      <td>...</td>\n",
       "      <td>...</td>\n",
       "      <td>...</td>\n",
       "      <td>...</td>\n",
       "      <td>...</td>\n",
       "    </tr>\n",
       "    <tr>\n",
       "      <th>22495</th>\n",
       "      <td>25.0</td>\n",
       "      <td>23.0</td>\n",
       "      <td>26.0</td>\n",
       "      <td>26.0</td>\n",
       "      <td>30.0</td>\n",
       "      <td>32.0</td>\n",
       "      <td>29.0</td>\n",
       "      <td>25.0</td>\n",
       "      <td>25.0</td>\n",
       "      <td>23.0</td>\n",
       "      <td>...</td>\n",
       "      <td>24.0</td>\n",
       "      <td>23.0</td>\n",
       "      <td>23.0</td>\n",
       "      <td>23.0</td>\n",
       "      <td>23.0</td>\n",
       "      <td>24.0</td>\n",
       "      <td>24.0</td>\n",
       "      <td>22.0</td>\n",
       "      <td>24.0</td>\n",
       "      <td>24.0</td>\n",
       "    </tr>\n",
       "    <tr>\n",
       "      <th>22496</th>\n",
       "      <td>21.0</td>\n",
       "      <td>21.0</td>\n",
       "      <td>20.0</td>\n",
       "      <td>21.0</td>\n",
       "      <td>21.0</td>\n",
       "      <td>22.0</td>\n",
       "      <td>23.0</td>\n",
       "      <td>22.0</td>\n",
       "      <td>22.0</td>\n",
       "      <td>21.0</td>\n",
       "      <td>...</td>\n",
       "      <td>25.0</td>\n",
       "      <td>25.0</td>\n",
       "      <td>25.0</td>\n",
       "      <td>24.0</td>\n",
       "      <td>23.0</td>\n",
       "      <td>23.0</td>\n",
       "      <td>24.0</td>\n",
       "      <td>24.0</td>\n",
       "      <td>25.0</td>\n",
       "      <td>27.0</td>\n",
       "    </tr>\n",
       "    <tr>\n",
       "      <th>22497</th>\n",
       "      <td>21.0</td>\n",
       "      <td>20.0</td>\n",
       "      <td>20.0</td>\n",
       "      <td>20.0</td>\n",
       "      <td>20.0</td>\n",
       "      <td>22.0</td>\n",
       "      <td>24.0</td>\n",
       "      <td>24.0</td>\n",
       "      <td>24.0</td>\n",
       "      <td>22.0</td>\n",
       "      <td>...</td>\n",
       "      <td>21.0</td>\n",
       "      <td>20.0</td>\n",
       "      <td>22.0</td>\n",
       "      <td>22.0</td>\n",
       "      <td>24.0</td>\n",
       "      <td>25.0</td>\n",
       "      <td>24.0</td>\n",
       "      <td>23.0</td>\n",
       "      <td>24.0</td>\n",
       "      <td>25.0</td>\n",
       "    </tr>\n",
       "    <tr>\n",
       "      <th>22498</th>\n",
       "      <td>24.0</td>\n",
       "      <td>22.0</td>\n",
       "      <td>20.0</td>\n",
       "      <td>20.0</td>\n",
       "      <td>21.0</td>\n",
       "      <td>21.0</td>\n",
       "      <td>20.0</td>\n",
       "      <td>19.0</td>\n",
       "      <td>19.0</td>\n",
       "      <td>22.0</td>\n",
       "      <td>...</td>\n",
       "      <td>25.0</td>\n",
       "      <td>25.0</td>\n",
       "      <td>21.0</td>\n",
       "      <td>22.0</td>\n",
       "      <td>24.0</td>\n",
       "      <td>24.0</td>\n",
       "      <td>22.0</td>\n",
       "      <td>23.0</td>\n",
       "      <td>22.0</td>\n",
       "      <td>20.0</td>\n",
       "    </tr>\n",
       "    <tr>\n",
       "      <th>22499</th>\n",
       "      <td>21.0</td>\n",
       "      <td>22.0</td>\n",
       "      <td>22.0</td>\n",
       "      <td>21.0</td>\n",
       "      <td>20.0</td>\n",
       "      <td>22.0</td>\n",
       "      <td>23.0</td>\n",
       "      <td>21.0</td>\n",
       "      <td>20.0</td>\n",
       "      <td>21.0</td>\n",
       "      <td>...</td>\n",
       "      <td>24.0</td>\n",
       "      <td>22.0</td>\n",
       "      <td>22.0</td>\n",
       "      <td>22.0</td>\n",
       "      <td>22.0</td>\n",
       "      <td>22.0</td>\n",
       "      <td>19.0</td>\n",
       "      <td>18.0</td>\n",
       "      <td>18.0</td>\n",
       "      <td>17.0</td>\n",
       "    </tr>\n",
       "  </tbody>\n",
       "</table>\n",
       "<p>22500 rows × 2304 columns</p>\n",
       "</div>"
      ],
      "text/plain": [
       "           0      1      2      3      4      5      6      7      8      9  \\\n",
       "0       21.0   23.0   25.0   26.0   29.0   30.0   32.0   34.0   36.0   39.0   \n",
       "1      138.0  112.0  110.0  110.0  110.0  110.0  108.0  106.0  104.0  106.0   \n",
       "2       22.0   22.0   21.0   22.0   22.0   23.0   27.0   31.0   35.0   37.0   \n",
       "3      132.0  134.0   98.0   70.0   67.0   88.0  138.0  216.0  247.0  254.0   \n",
       "4       24.0   26.0   27.0   28.0   30.0   33.0   35.0   37.0   38.0   36.0   \n",
       "...      ...    ...    ...    ...    ...    ...    ...    ...    ...    ...   \n",
       "22495   25.0   23.0   26.0   26.0   30.0   32.0   29.0   25.0   25.0   23.0   \n",
       "22496   21.0   21.0   20.0   21.0   21.0   22.0   23.0   22.0   22.0   21.0   \n",
       "22497   21.0   20.0   20.0   20.0   20.0   22.0   24.0   24.0   24.0   22.0   \n",
       "22498   24.0   22.0   20.0   20.0   21.0   21.0   20.0   19.0   19.0   22.0   \n",
       "22499   21.0   22.0   22.0   21.0   20.0   22.0   23.0   21.0   20.0   21.0   \n",
       "\n",
       "       ...   2294   2295   2296   2297   2298   2299   2300   2301   2302  \\\n",
       "0      ...  153.0  144.0  134.0  125.0  116.0  109.0  101.0  121.0  138.0   \n",
       "1      ...  193.0  196.0  198.0  209.0  203.0  197.0  199.0  194.0  193.0   \n",
       "2      ...  155.0  158.0  162.0  160.0  158.0  159.0  141.0  112.0   86.0   \n",
       "3      ...   75.0   81.0   87.0   82.0   80.0   74.0   74.0   82.0   92.0   \n",
       "4      ...  147.0  145.0  141.0  127.0  110.0  100.0   98.0  100.0  115.0   \n",
       "...    ...    ...    ...    ...    ...    ...    ...    ...    ...    ...   \n",
       "22495  ...   24.0   23.0   23.0   23.0   23.0   24.0   24.0   22.0   24.0   \n",
       "22496  ...   25.0   25.0   25.0   24.0   23.0   23.0   24.0   24.0   25.0   \n",
       "22497  ...   21.0   20.0   22.0   22.0   24.0   25.0   24.0   23.0   24.0   \n",
       "22498  ...   25.0   25.0   21.0   22.0   24.0   24.0   22.0   23.0   22.0   \n",
       "22499  ...   24.0   22.0   22.0   22.0   22.0   22.0   19.0   18.0   18.0   \n",
       "\n",
       "        2303  \n",
       "0      143.0  \n",
       "1      203.0  \n",
       "2       69.0  \n",
       "3      102.0  \n",
       "4      128.0  \n",
       "...      ...  \n",
       "22495   24.0  \n",
       "22496   27.0  \n",
       "22497   25.0  \n",
       "22498   20.0  \n",
       "22499   17.0  \n",
       "\n",
       "[22500 rows x 2304 columns]"
      ]
     },
     "execution_count": 78,
     "metadata": {},
     "output_type": "execute_result"
    }
   ],
   "source": [
    "X_train_upsampled = result.drop([\"Class\"], axis=1)\n",
    "X_train_upsampled"
   ]
  },
  {
   "cell_type": "code",
   "execution_count": 79,
   "id": "fd3223e1",
   "metadata": {},
   "outputs": [],
   "source": [
    "y_train_upsampled =result[\"Class\"]\n",
    "y_train_upsampled\n",
    "y_train_upsampled.columns = ['Class']"
   ]
  },
  {
   "cell_type": "code",
   "execution_count": 80,
   "id": "30d0cd16",
   "metadata": {},
   "outputs": [],
   "source": [
    "features = [0,1,2,3,4,5,6,7,8,9]"
   ]
  },
  {
   "cell_type": "markdown",
   "id": "b773f833",
   "metadata": {},
   "source": [
    "# Functions"
   ]
  },
  {
   "cell_type": "code",
   "execution_count": 81,
   "id": "da1f9b7a",
   "metadata": {},
   "outputs": [],
   "source": [
    "def overall_model_eval(actual,pred):\n",
    "    accuracy = accuracy_score(actual, pred)\n",
    "    f1 = f1_score(actual, pred, average=\"weighted\")\n",
    "    precision = precision_score(actual, pred,  average=\"weighted\")\n",
    "    recall = recall_score(actual, pred,  average=\"weighted\")\n",
    "    print(\"Accuracy:\", accuracy)\n",
    "    print(\"F1 Score:\", f1)\n",
    "    print(\"Precision:\", precision)\n",
    "    print(\"Recall:\", recall)\n",
    "    return accuracy, f1, precision, recall\n",
    "    "
   ]
  },
  {
   "cell_type": "code",
   "execution_count": 82,
   "id": "888970cf",
   "metadata": {},
   "outputs": [],
   "source": [
    "def each_cat_eval(conf_matrix):\n",
    "    FP = conf_matrix.sum(axis=0) - np.diag(conf_matrix)  \n",
    "    FN = conf_matrix.sum(axis=1) - np.diag(conf_matrix)\n",
    "    TP = np.diag(conf_matrix)\n",
    "    TN = conf_matrix.sum() - (FP + FN + TP)\n",
    "    \n",
    "    # Sensitivity, hit rate, recall, or true positive rate\n",
    "    TPR = TP/(TP+FN)\n",
    "    # Specificity or true negative rate\n",
    "    TNR = TN/(TN+FP) \n",
    "    # Precision or positive predictive value\n",
    "    PPV = TP/(TP+FP)\n",
    "    # Negative predictive value\n",
    "    NPV = TN/(TN+FN)\n",
    "    # Fall out or false positive rate\n",
    "    FPR = FP/(FP+TN)\n",
    "    # False negative rate\n",
    "    FNR = FN/(TP+FN)\n",
    "    # False discovery rate\n",
    "    FDR = FP/(TP+FP)\n",
    "    # Accuracy\n",
    "    ACC = (TP+TN)/(TP+FP+FN+TN)\n",
    "    \n",
    "    d = {'Recall': TPR, 'TNR': TNR, 'Precision':PPV, 'NPV': NPV, 'FPR':FPR, 'FNR':FNR,'FDR':FDR, 'ACC':ACC}\n",
    "    df = pd.DataFrame(data=d)\n",
    "    print(\"Against each category\\n\", df)\n",
    "\n",
    "    \n",
    "    return TPR, TNR, PPV, NPV, FPR, FNR, FDR, ACC"
   ]
  },
  {
   "cell_type": "code",
   "execution_count": 83,
   "id": "7056be6f",
   "metadata": {},
   "outputs": [],
   "source": [
    "def cross_validation_kfold(model_arg,train_inp,train_out):\n",
    "    k_fold = KFold(n_splits=10, shuffle=True, random_state=0)\n",
    "    y_scores = cross_val_score(model_arg, train_inp, train_out, cv=k_fold, n_jobs=1)\n",
    "    print(y_scores)"
   ]
  },
  {
   "cell_type": "code",
   "execution_count": 84,
   "id": "28546e0a",
   "metadata": {},
   "outputs": [],
   "source": [
    "from sklearn.metrics import classification_report\n",
    "label_names = ['0','1','2','3','4','5','6','7','8','9']\n",
    "# print(classification_report(y_test, y_pred_1, target_names=label_names))"
   ]
  },
  {
   "cell_type": "code",
   "execution_count": 85,
   "id": "4f280676",
   "metadata": {},
   "outputs": [],
   "source": [
    "from sklearn.preprocessing import label_binarize\n",
    "\n",
    "def plot_roc_curves(actual, pred_prob_arg, classes=features):\n",
    "    y_test_binarized = label_binarize(actual, classes=classes)\n",
    "    \n",
    "    fpr = {}\n",
    "    tpr = {}\n",
    "    thresh = {}\n",
    "    roc_auc = dict()\n",
    "    \n",
    "    for i in range(len(classes)):\n",
    "        fpr[i], tpr[i], thresh[i] = roc_curve(y_test_binarized[:, i], pred_prob_arg[:, i])\n",
    "        roc_auc[i] = auc(fpr[i], tpr[i])\n",
    "        plt.plot(fpr[i], tpr[i], linestyle='--', label='%s vs Rest (AUC=%0.2f)'%(classes[i],roc_auc[i]))\n",
    "    \n",
    "    \n",
    "    plt.plot([0,1],[0,1],'b--')\n",
    "    plt.xlim([0,1])\n",
    "    plt.ylim([0,1.05])\n",
    "    plt.title('Multiclass ROC curve')\n",
    "    plt.xlabel('False Positive Rate')\n",
    "    plt.ylabel('True Positive rate')\n",
    "    plt.legend(loc='lower right')\n",
    "    plt.show()"
   ]
  },
  {
   "cell_type": "code",
   "execution_count": 86,
   "id": "db656524",
   "metadata": {},
   "outputs": [],
   "source": [
    "def get_new_test_train_data(training_data, testing_data, training_labels, testing_labels, perc):\n",
    "    new_x_train = training_data.sample(frac=perc, random_state=42)\n",
    "    last_row_index_1 = new_x_train.shape[0]\n",
    "    testing_data_subset = training_data.iloc[last_row_index_1:]\n",
    "    frames_1 = [testing_data, testing_data_subset]\n",
    "    new_x_test = pd.concat(frames_1)\n",
    "    print(\"new_x_test shape\",new_x_test.shape)\n",
    "    \n",
    "    new_y_train = training_labels.sample(frac=perc, random_state=42)\n",
    "    last_row_index_2 = new_y_train.shape[0]\n",
    "    testing_label_subset = training_labels.iloc[last_row_index_2:]\n",
    "   \n",
    "    \n",
    "    #New Testing set:\n",
    "    \n",
    "\n",
    "    arr1= testing_labels.values.ravel();\n",
    "    arr2= testing_label_subset.values.ravel();\n",
    "    new_y_test = np.concatenate([arr1, arr2])\n",
    "    new_y_test = pd.DataFrame(new_y_test)\n",
    "    print(\"new_y_test\\n\", new_y_test.shape)\n",
    "\n",
    "    return new_x_train, new_y_train, new_x_test, new_y_test"
   ]
  },
  {
   "cell_type": "markdown",
   "id": "02f6d25a",
   "metadata": {},
   "source": [
    "# Feature selection"
   ]
  },
  {
   "cell_type": "code",
   "execution_count": 87,
   "id": "ca3aa26c",
   "metadata": {},
   "outputs": [],
   "source": [
    "from sklearn.feature_selection import SelectKBest, mutual_info_classif, f_classif\n",
    "def selectFTest(top_features, x_train_arg, y_train_arg, range_arg, x_test_arg, y_test_arg):\n",
    "    selected_features = []\n",
    "\n",
    "    for y_class in range(range_arg):\n",
    "        selector = SelectKBest(score_func=f_classif, k=top_features)\n",
    "        selector.fit(x_train_arg, (y_train_arg == y_class).astype(int))\n",
    "        selected_indices = selector.get_support(indices=True)\n",
    "        selected_features.extend(selected_indices)\n",
    "\n",
    "    return x_train_arg.iloc[:, selected_features],x_test_arg.iloc[:, selected_features]\n",
    "\n",
    "feature_selected_50 = selectFTest(5, X_train_upsampled, y_train_upsampled, 10, X_test, y_test) # 50 features\n",
    "x_train_50 = feature_selected_50[0];\n",
    "x_test_50 = feature_selected_50[1];"
   ]
  },
  {
   "cell_type": "markdown",
   "id": "5250e1e4",
   "metadata": {},
   "source": [
    "# Decision tree"
   ]
  },
  {
   "cell_type": "code",
   "execution_count": 88,
   "id": "12c08287",
   "metadata": {},
   "outputs": [
    {
     "data": {
      "text/html": [
       "<style>#sk-container-id-4 {color: black;}#sk-container-id-4 pre{padding: 0;}#sk-container-id-4 div.sk-toggleable {background-color: white;}#sk-container-id-4 label.sk-toggleable__label {cursor: pointer;display: block;width: 100%;margin-bottom: 0;padding: 0.3em;box-sizing: border-box;text-align: center;}#sk-container-id-4 label.sk-toggleable__label-arrow:before {content: \"▸\";float: left;margin-right: 0.25em;color: #696969;}#sk-container-id-4 label.sk-toggleable__label-arrow:hover:before {color: black;}#sk-container-id-4 div.sk-estimator:hover label.sk-toggleable__label-arrow:before {color: black;}#sk-container-id-4 div.sk-toggleable__content {max-height: 0;max-width: 0;overflow: hidden;text-align: left;background-color: #f0f8ff;}#sk-container-id-4 div.sk-toggleable__content pre {margin: 0.2em;color: black;border-radius: 0.25em;background-color: #f0f8ff;}#sk-container-id-4 input.sk-toggleable__control:checked~div.sk-toggleable__content {max-height: 200px;max-width: 100%;overflow: auto;}#sk-container-id-4 input.sk-toggleable__control:checked~label.sk-toggleable__label-arrow:before {content: \"▾\";}#sk-container-id-4 div.sk-estimator input.sk-toggleable__control:checked~label.sk-toggleable__label {background-color: #d4ebff;}#sk-container-id-4 div.sk-label input.sk-toggleable__control:checked~label.sk-toggleable__label {background-color: #d4ebff;}#sk-container-id-4 input.sk-hidden--visually {border: 0;clip: rect(1px 1px 1px 1px);clip: rect(1px, 1px, 1px, 1px);height: 1px;margin: -1px;overflow: hidden;padding: 0;position: absolute;width: 1px;}#sk-container-id-4 div.sk-estimator {font-family: monospace;background-color: #f0f8ff;border: 1px dotted black;border-radius: 0.25em;box-sizing: border-box;margin-bottom: 0.5em;}#sk-container-id-4 div.sk-estimator:hover {background-color: #d4ebff;}#sk-container-id-4 div.sk-parallel-item::after {content: \"\";width: 100%;border-bottom: 1px solid gray;flex-grow: 1;}#sk-container-id-4 div.sk-label:hover label.sk-toggleable__label {background-color: #d4ebff;}#sk-container-id-4 div.sk-serial::before {content: \"\";position: absolute;border-left: 1px solid gray;box-sizing: border-box;top: 0;bottom: 0;left: 50%;z-index: 0;}#sk-container-id-4 div.sk-serial {display: flex;flex-direction: column;align-items: center;background-color: white;padding-right: 0.2em;padding-left: 0.2em;position: relative;}#sk-container-id-4 div.sk-item {position: relative;z-index: 1;}#sk-container-id-4 div.sk-parallel {display: flex;align-items: stretch;justify-content: center;background-color: white;position: relative;}#sk-container-id-4 div.sk-item::before, #sk-container-id-4 div.sk-parallel-item::before {content: \"\";position: absolute;border-left: 1px solid gray;box-sizing: border-box;top: 0;bottom: 0;left: 50%;z-index: -1;}#sk-container-id-4 div.sk-parallel-item {display: flex;flex-direction: column;z-index: 1;position: relative;background-color: white;}#sk-container-id-4 div.sk-parallel-item:first-child::after {align-self: flex-end;width: 50%;}#sk-container-id-4 div.sk-parallel-item:last-child::after {align-self: flex-start;width: 50%;}#sk-container-id-4 div.sk-parallel-item:only-child::after {width: 0;}#sk-container-id-4 div.sk-dashed-wrapped {border: 1px dashed gray;margin: 0 0.4em 0.5em 0.4em;box-sizing: border-box;padding-bottom: 0.4em;background-color: white;}#sk-container-id-4 div.sk-label label {font-family: monospace;font-weight: bold;display: inline-block;line-height: 1.2em;}#sk-container-id-4 div.sk-label-container {text-align: center;}#sk-container-id-4 div.sk-container {/* jupyter's `normalize.less` sets `[hidden] { display: none; }` but bootstrap.min.css set `[hidden] { display: none !important; }` so we also need the `!important` here to be able to override the default hidden behavior on the sphinx rendered scikit-learn.org. See: https://github.com/scikit-learn/scikit-learn/issues/21755 */display: inline-block !important;position: relative;}#sk-container-id-4 div.sk-text-repr-fallback {display: none;}</style><div id=\"sk-container-id-4\" class=\"sk-top-container\"><div class=\"sk-text-repr-fallback\"><pre>DecisionTreeClassifier(random_state=42)</pre><b>In a Jupyter environment, please rerun this cell to show the HTML representation or trust the notebook. <br />On GitHub, the HTML representation is unable to render, please try loading this page with nbviewer.org.</b></div><div class=\"sk-container\" hidden><div class=\"sk-item\"><div class=\"sk-estimator sk-toggleable\"><input class=\"sk-toggleable__control sk-hidden--visually\" id=\"sk-estimator-id-4\" type=\"checkbox\" checked><label for=\"sk-estimator-id-4\" class=\"sk-toggleable__label sk-toggleable__label-arrow\">DecisionTreeClassifier</label><div class=\"sk-toggleable__content\"><pre>DecisionTreeClassifier(random_state=42)</pre></div></div></div></div></div>"
      ],
      "text/plain": [
       "DecisionTreeClassifier(random_state=42)"
      ]
     },
     "execution_count": 88,
     "metadata": {},
     "output_type": "execute_result"
    }
   ],
   "source": [
    "tree_clf = DecisionTreeClassifier(random_state=42) \n",
    "tree_clf.fit(x_train_50, y_train_upsampled)"
   ]
  },
  {
   "cell_type": "markdown",
   "id": "1b419622",
   "metadata": {},
   "source": [
    "# Cross Validation"
   ]
  },
  {
   "cell_type": "code",
   "execution_count": 89,
   "id": "875602e2",
   "metadata": {},
   "outputs": [
    {
     "name": "stdout",
     "output_type": "stream",
     "text": [
      "[0.95777778 0.94977778 0.95866667 0.95244444 0.956      0.95155556\n",
      " 0.96       0.95644444 0.95333333 0.95066667]\n"
     ]
    }
   ],
   "source": [
    "k_fold = KFold(n_splits=10, shuffle=True, random_state=0)\n",
    "y_scores = cross_val_score(tree_clf, x_train_50, y_train_upsampled, cv=k_fold, n_jobs=1)\n",
    "print(y_scores)"
   ]
  },
  {
   "cell_type": "markdown",
   "id": "47e71481",
   "metadata": {},
   "source": [
    "# Train and Test Set"
   ]
  },
  {
   "cell_type": "code",
   "execution_count": 90,
   "id": "ecfc8754",
   "metadata": {},
   "outputs": [],
   "source": [
    "y_pred = tree_clf.predict(x_test_50) # model 1 predictions\n",
    "pred_prob =  tree_clf.predict_proba(x_test_50) #  returns the probabilities associated with each class"
   ]
  },
  {
   "cell_type": "markdown",
   "id": "32157cab",
   "metadata": {},
   "source": [
    "## Confusion Matrix"
   ]
  },
  {
   "cell_type": "code",
   "execution_count": 91,
   "id": "3b5b4167",
   "metadata": {},
   "outputs": [
    {
     "data": {
      "image/png": "[encoded data removed]",
      "text/plain": [
       "<Figure size 640x480 with 2 Axes>"
      ]
     },
     "metadata": {},
     "output_type": "display_data"
    }
   ],
   "source": [
    "confusion_matrix_1 = confusion_matrix(y_test, y_pred, labels=features)\n",
    "disp_plot = ConfusionMatrixDisplay(confusion_matrix_1, display_labels=features)\n",
    "disp_plot.plot();"
   ]
  },
  {
   "cell_type": "markdown",
   "id": "35d78972",
   "metadata": {},
   "source": [
    "# Overall metrics "
   ]
  },
  {
   "cell_type": "code",
   "execution_count": 92,
   "id": "6b760552",
   "metadata": {},
   "outputs": [
    {
     "name": "stdout",
     "output_type": "stream",
     "text": [
      "Accuracy: 0.6093851132686084\n",
      "F1 Score: 0.6076820684131843\n",
      "Precision: 0.6127726842943444\n",
      "Recall: 0.6093851132686084\n"
     ]
    },
    {
     "data": {
      "text/plain": [
       "(0.6093851132686084,\n",
       " 0.6076820684131843,\n",
       " 0.6127726842943444,\n",
       " 0.6093851132686084)"
      ]
     },
     "execution_count": 92,
     "metadata": {},
     "output_type": "execute_result"
    }
   ],
   "source": [
    "overall_model_eval(y_test,y_pred)"
   ]
  },
  {
   "cell_type": "markdown",
   "id": "bad245d4",
   "metadata": {},
   "source": [
    "# Evaluating metrics against each category"
   ]
  },
  {
   "cell_type": "code",
   "execution_count": 93,
   "id": "92e0ca1a",
   "metadata": {},
   "outputs": [
    {
     "name": "stdout",
     "output_type": "stream",
     "text": [
      "Against each category\n",
      "      Recall       TNR  Precision       NPV       FPR       FNR       FDR  \\\n",
      "0  0.183333  0.973267   0.119565  0.983656  0.026733  0.816667  0.880435   \n",
      "1  0.616667  0.891561   0.633381  0.884470  0.108439  0.383333  0.366619   \n",
      "2  0.732000  0.858974   0.624573  0.909091  0.141026  0.268000  0.375427   \n",
      "3  0.573333  0.931061   0.586364  0.927547  0.068939  0.426667  0.413636   \n",
      "4  0.630303  0.918519   0.677524  0.901454  0.081481  0.369697  0.322476   \n",
      "5  0.433333  0.997690   0.787879  0.988878  0.002310  0.566667  0.212121   \n",
      "6  0.466667  0.988000   0.538462  0.984064  0.012000  0.533333  0.461538   \n",
      "7  0.133333  0.994389   0.320000  0.983034  0.005611  0.866667  0.680000   \n",
      "8  0.586667  0.976871   0.564103  0.978868  0.023129  0.413333  0.435897   \n",
      "9  0.455556  0.989667   0.569444  0.983764  0.010333  0.544444  0.430556   \n",
      "\n",
      "        ACC  \n",
      "0  0.957929  \n",
      "1  0.827508  \n",
      "2  0.828155  \n",
      "3  0.878964  \n",
      "4  0.856958  \n",
      "5  0.986731  \n",
      "6  0.972816  \n",
      "7  0.977670  \n",
      "8  0.957929  \n",
      "9  0.974110  \n"
     ]
    }
   ],
   "source": [
    "TPR_1, TNR_1, PPV_1, NPV_1, FPR_1, FNR_1, FDR_1, ACC_1 = each_cat_eval(confusion_matrix_1)"
   ]
  },
  {
   "cell_type": "code",
   "execution_count": 94,
   "id": "f10f7499",
   "metadata": {},
   "outputs": [
    {
     "name": "stdout",
     "output_type": "stream",
     "text": [
      "              precision    recall  f1-score   support\n",
      "\n",
      "           0       0.12      0.18      0.14        60\n",
      "           1       0.63      0.62      0.62       720\n",
      "           2       0.62      0.73      0.67       750\n",
      "           3       0.59      0.57      0.58       450\n",
      "           4       0.68      0.63      0.65       660\n",
      "           5       0.79      0.43      0.56        60\n",
      "           6       0.54      0.47      0.50        90\n",
      "           7       0.32      0.13      0.19        60\n",
      "           8       0.56      0.59      0.58       150\n",
      "           9       0.57      0.46      0.51        90\n",
      "\n",
      "    accuracy                           0.61      3090\n",
      "   macro avg       0.54      0.48      0.50      3090\n",
      "weighted avg       0.61      0.61      0.61      3090\n",
      "\n"
     ]
    }
   ],
   "source": [
    "print(classification_report(y_test, y_pred))"
   ]
  },
  {
   "cell_type": "markdown",
   "id": "f193de4d",
   "metadata": {},
   "source": [
    "# ROC Curve "
   ]
  },
  {
   "cell_type": "code",
   "execution_count": 95,
   "id": "49c95b33",
   "metadata": {},
   "outputs": [
    {
     "data": {
      "image/png": "[encoded data removed]",
      "text/plain": [
       "<Figure size 640x480 with 1 Axes>"
      ]
     },
     "metadata": {},
     "output_type": "display_data"
    }
   ],
   "source": [
    "plot_roc_curves(y_test, pred_prob)"
   ]
  },
  {
   "cell_type": "markdown",
   "id": "8a9af48a",
   "metadata": {},
   "source": [
    "# Experimentation with various decision tree parameters "
   ]
  },
  {
   "cell_type": "markdown",
   "id": "c291cea7",
   "metadata": {},
   "source": [
    "# criterion and splitter"
   ]
  },
  {
   "cell_type": "code",
   "execution_count": 96,
   "id": "0e4085d7",
   "metadata": {},
   "outputs": [
    {
     "data": {
      "text/html": [
       "<style>#sk-container-id-5 {color: black;}#sk-container-id-5 pre{padding: 0;}#sk-container-id-5 div.sk-toggleable {background-color: white;}#sk-container-id-5 label.sk-toggleable__label {cursor: pointer;display: block;width: 100%;margin-bottom: 0;padding: 0.3em;box-sizing: border-box;text-align: center;}#sk-container-id-5 label.sk-toggleable__label-arrow:before {content: \"▸\";float: left;margin-right: 0.25em;color: #696969;}#sk-container-id-5 label.sk-toggleable__label-arrow:hover:before {color: black;}#sk-container-id-5 div.sk-estimator:hover label.sk-toggleable__label-arrow:before {color: black;}#sk-container-id-5 div.sk-toggleable__content {max-height: 0;max-width: 0;overflow: hidden;text-align: left;background-color: #f0f8ff;}#sk-container-id-5 div.sk-toggleable__content pre {margin: 0.2em;color: black;border-radius: 0.25em;background-color: #f0f8ff;}#sk-container-id-5 input.sk-toggleable__control:checked~div.sk-toggleable__content {max-height: 200px;max-width: 100%;overflow: auto;}#sk-container-id-5 input.sk-toggleable__control:checked~label.sk-toggleable__label-arrow:before {content: \"▾\";}#sk-container-id-5 div.sk-estimator input.sk-toggleable__control:checked~label.sk-toggleable__label {background-color: #d4ebff;}#sk-container-id-5 div.sk-label input.sk-toggleable__control:checked~label.sk-toggleable__label {background-color: #d4ebff;}#sk-container-id-5 input.sk-hidden--visually {border: 0;clip: rect(1px 1px 1px 1px);clip: rect(1px, 1px, 1px, 1px);height: 1px;margin: -1px;overflow: hidden;padding: 0;position: absolute;width: 1px;}#sk-container-id-5 div.sk-estimator {font-family: monospace;background-color: #f0f8ff;border: 1px dotted black;border-radius: 0.25em;box-sizing: border-box;margin-bottom: 0.5em;}#sk-container-id-5 div.sk-estimator:hover {background-color: #d4ebff;}#sk-container-id-5 div.sk-parallel-item::after {content: \"\";width: 100%;border-bottom: 1px solid gray;flex-grow: 1;}#sk-container-id-5 div.sk-label:hover label.sk-toggleable__label {background-color: #d4ebff;}#sk-container-id-5 div.sk-serial::before {content: \"\";position: absolute;border-left: 1px solid gray;box-sizing: border-box;top: 0;bottom: 0;left: 50%;z-index: 0;}#sk-container-id-5 div.sk-serial {display: flex;flex-direction: column;align-items: center;background-color: white;padding-right: 0.2em;padding-left: 0.2em;position: relative;}#sk-container-id-5 div.sk-item {position: relative;z-index: 1;}#sk-container-id-5 div.sk-parallel {display: flex;align-items: stretch;justify-content: center;background-color: white;position: relative;}#sk-container-id-5 div.sk-item::before, #sk-container-id-5 div.sk-parallel-item::before {content: \"\";position: absolute;border-left: 1px solid gray;box-sizing: border-box;top: 0;bottom: 0;left: 50%;z-index: -1;}#sk-container-id-5 div.sk-parallel-item {display: flex;flex-direction: column;z-index: 1;position: relative;background-color: white;}#sk-container-id-5 div.sk-parallel-item:first-child::after {align-self: flex-end;width: 50%;}#sk-container-id-5 div.sk-parallel-item:last-child::after {align-self: flex-start;width: 50%;}#sk-container-id-5 div.sk-parallel-item:only-child::after {width: 0;}#sk-container-id-5 div.sk-dashed-wrapped {border: 1px dashed gray;margin: 0 0.4em 0.5em 0.4em;box-sizing: border-box;padding-bottom: 0.4em;background-color: white;}#sk-container-id-5 div.sk-label label {font-family: monospace;font-weight: bold;display: inline-block;line-height: 1.2em;}#sk-container-id-5 div.sk-label-container {text-align: center;}#sk-container-id-5 div.sk-container {/* jupyter's `normalize.less` sets `[hidden] { display: none; }` but bootstrap.min.css set `[hidden] { display: none !important; }` so we also need the `!important` here to be able to override the default hidden behavior on the sphinx rendered scikit-learn.org. See: https://github.com/scikit-learn/scikit-learn/issues/21755 */display: inline-block !important;position: relative;}#sk-container-id-5 div.sk-text-repr-fallback {display: none;}</style><div id=\"sk-container-id-5\" class=\"sk-top-container\"><div class=\"sk-text-repr-fallback\"><pre>DecisionTreeClassifier(criterion=&#x27;log_loss&#x27;, random_state=42, splitter=&#x27;random&#x27;)</pre><b>In a Jupyter environment, please rerun this cell to show the HTML representation or trust the notebook. <br />On GitHub, the HTML representation is unable to render, please try loading this page with nbviewer.org.</b></div><div class=\"sk-container\" hidden><div class=\"sk-item\"><div class=\"sk-estimator sk-toggleable\"><input class=\"sk-toggleable__control sk-hidden--visually\" id=\"sk-estimator-id-5\" type=\"checkbox\" checked><label for=\"sk-estimator-id-5\" class=\"sk-toggleable__label sk-toggleable__label-arrow\">DecisionTreeClassifier</label><div class=\"sk-toggleable__content\"><pre>DecisionTreeClassifier(criterion=&#x27;log_loss&#x27;, random_state=42, splitter=&#x27;random&#x27;)</pre></div></div></div></div></div>"
      ],
      "text/plain": [
       "DecisionTreeClassifier(criterion='log_loss', random_state=42, splitter='random')"
      ]
     },
     "execution_count": 96,
     "metadata": {},
     "output_type": "execute_result"
    }
   ],
   "source": [
    "tree_clf_1 = DecisionTreeClassifier(criterion='gini', splitter='random', random_state=42) #model 1\n",
    "tree_clf_2 = DecisionTreeClassifier(criterion='entropy',splitter='random', random_state=42) #model 2\n",
    "tree_clf_3 = DecisionTreeClassifier(criterion='log_loss',splitter='random' ,random_state=42) #model 2\n",
    "tree_clf_1.fit(x_train_50, y_train_upsampled)\n",
    "tree_clf_2.fit(x_train_50, y_train_upsampled)\n",
    "tree_clf_3.fit(x_train_50, y_train_upsampled)"
   ]
  },
  {
   "cell_type": "markdown",
   "id": "8ea45b9d",
   "metadata": {},
   "source": [
    "# Model 1: Criterion - Gini, Splitter - Random"
   ]
  },
  {
   "cell_type": "code",
   "execution_count": 97,
   "id": "8f30a570",
   "metadata": {},
   "outputs": [],
   "source": [
    "y_pred_1 = tree_clf_1.predict(x_test_50) # model 1 predictions\n",
    "pred_prob_1 =  tree_clf_1.predict_proba(x_test_50) #  returns the probabilities associated with each class"
   ]
  },
  {
   "cell_type": "code",
   "execution_count": 98,
   "id": "a8884610",
   "metadata": {},
   "outputs": [
    {
     "name": "stdout",
     "output_type": "stream",
     "text": [
      "Accuracy: 0.587378640776699\n",
      "F1 Score: 0.5874302232517662\n",
      "Precision: 0.5899929281409849\n",
      "Recall: 0.587378640776699\n"
     ]
    },
    {
     "data": {
      "text/plain": [
       "(0.587378640776699, 0.5874302232517662, 0.5899929281409849, 0.587378640776699)"
      ]
     },
     "execution_count": 98,
     "metadata": {},
     "output_type": "execute_result"
    }
   ],
   "source": [
    "overall_model_eval(y_test,y_pred_1)"
   ]
  },
  {
   "cell_type": "markdown",
   "id": "449aa54e",
   "metadata": {},
   "source": [
    "# Model 2: Criterion - entropy, Splitter - Random"
   ]
  },
  {
   "cell_type": "code",
   "execution_count": 99,
   "id": "bccd3091",
   "metadata": {},
   "outputs": [],
   "source": [
    "y_pred_2 = tree_clf_2.predict(x_test_50) # model 1 predictions\n",
    "pred_prob_2 =  tree_clf_2.predict_proba(x_test_50) #  returns the probabilities associated with each class"
   ]
  },
  {
   "cell_type": "code",
   "execution_count": 100,
   "id": "01af3ec8",
   "metadata": {},
   "outputs": [
    {
     "name": "stdout",
     "output_type": "stream",
     "text": [
      "Accuracy: 0.6300970873786408\n",
      "F1 Score: 0.6281862569648763\n",
      "Precision: 0.6295968286030804\n",
      "Recall: 0.6300970873786408\n"
     ]
    },
    {
     "data": {
      "text/plain": [
       "(0.6300970873786408,\n",
       " 0.6281862569648763,\n",
       " 0.6295968286030804,\n",
       " 0.6300970873786408)"
      ]
     },
     "execution_count": 100,
     "metadata": {},
     "output_type": "execute_result"
    }
   ],
   "source": [
    "overall_model_eval(y_test,y_pred_2)"
   ]
  },
  {
   "cell_type": "markdown",
   "id": "c2975a9d",
   "metadata": {},
   "source": [
    "# Model 3: Criterion - log_loss, Splitter - Random"
   ]
  },
  {
   "cell_type": "code",
   "execution_count": 101,
   "id": "03f5aca3",
   "metadata": {},
   "outputs": [],
   "source": [
    "y_pred_3 = tree_clf_3.predict(x_test_50) # model 1 predictions\n",
    "pred_prob_3 =  tree_clf_3.predict_proba(x_test_50) #  returns the probabilities associated with each class"
   ]
  },
  {
   "cell_type": "code",
   "execution_count": 102,
   "id": "013cee1f",
   "metadata": {},
   "outputs": [
    {
     "name": "stdout",
     "output_type": "stream",
     "text": [
      "Accuracy: 0.6300970873786408\n",
      "F1 Score: 0.6281862569648763\n",
      "Precision: 0.6295968286030804\n",
      "Recall: 0.6300970873786408\n"
     ]
    },
    {
     "data": {
      "text/plain": [
       "(0.6300970873786408,\n",
       " 0.6281862569648763,\n",
       " 0.6295968286030804,\n",
       " 0.6300970873786408)"
      ]
     },
     "execution_count": 102,
     "metadata": {},
     "output_type": "execute_result"
    }
   ],
   "source": [
    "overall_model_eval(y_test,y_pred_3)"
   ]
  },
  {
   "cell_type": "markdown",
   "id": "78c523b2",
   "metadata": {},
   "source": [
    "# max_leaf_nodes , max_depth"
   ]
  },
  {
   "cell_type": "code",
   "execution_count": 103,
   "id": "68d707b5",
   "metadata": {},
   "outputs": [
    {
     "data": {
      "text/html": [
       "<style>#sk-container-id-6 {color: black;}#sk-container-id-6 pre{padding: 0;}#sk-container-id-6 div.sk-toggleable {background-color: white;}#sk-container-id-6 label.sk-toggleable__label {cursor: pointer;display: block;width: 100%;margin-bottom: 0;padding: 0.3em;box-sizing: border-box;text-align: center;}#sk-container-id-6 label.sk-toggleable__label-arrow:before {content: \"▸\";float: left;margin-right: 0.25em;color: #696969;}#sk-container-id-6 label.sk-toggleable__label-arrow:hover:before {color: black;}#sk-container-id-6 div.sk-estimator:hover label.sk-toggleable__label-arrow:before {color: black;}#sk-container-id-6 div.sk-toggleable__content {max-height: 0;max-width: 0;overflow: hidden;text-align: left;background-color: #f0f8ff;}#sk-container-id-6 div.sk-toggleable__content pre {margin: 0.2em;color: black;border-radius: 0.25em;background-color: #f0f8ff;}#sk-container-id-6 input.sk-toggleable__control:checked~div.sk-toggleable__content {max-height: 200px;max-width: 100%;overflow: auto;}#sk-container-id-6 input.sk-toggleable__control:checked~label.sk-toggleable__label-arrow:before {content: \"▾\";}#sk-container-id-6 div.sk-estimator input.sk-toggleable__control:checked~label.sk-toggleable__label {background-color: #d4ebff;}#sk-container-id-6 div.sk-label input.sk-toggleable__control:checked~label.sk-toggleable__label {background-color: #d4ebff;}#sk-container-id-6 input.sk-hidden--visually {border: 0;clip: rect(1px 1px 1px 1px);clip: rect(1px, 1px, 1px, 1px);height: 1px;margin: -1px;overflow: hidden;padding: 0;position: absolute;width: 1px;}#sk-container-id-6 div.sk-estimator {font-family: monospace;background-color: #f0f8ff;border: 1px dotted black;border-radius: 0.25em;box-sizing: border-box;margin-bottom: 0.5em;}#sk-container-id-6 div.sk-estimator:hover {background-color: #d4ebff;}#sk-container-id-6 div.sk-parallel-item::after {content: \"\";width: 100%;border-bottom: 1px solid gray;flex-grow: 1;}#sk-container-id-6 div.sk-label:hover label.sk-toggleable__label {background-color: #d4ebff;}#sk-container-id-6 div.sk-serial::before {content: \"\";position: absolute;border-left: 1px solid gray;box-sizing: border-box;top: 0;bottom: 0;left: 50%;z-index: 0;}#sk-container-id-6 div.sk-serial {display: flex;flex-direction: column;align-items: center;background-color: white;padding-right: 0.2em;padding-left: 0.2em;position: relative;}#sk-container-id-6 div.sk-item {position: relative;z-index: 1;}#sk-container-id-6 div.sk-parallel {display: flex;align-items: stretch;justify-content: center;background-color: white;position: relative;}#sk-container-id-6 div.sk-item::before, #sk-container-id-6 div.sk-parallel-item::before {content: \"\";position: absolute;border-left: 1px solid gray;box-sizing: border-box;top: 0;bottom: 0;left: 50%;z-index: -1;}#sk-container-id-6 div.sk-parallel-item {display: flex;flex-direction: column;z-index: 1;position: relative;background-color: white;}#sk-container-id-6 div.sk-parallel-item:first-child::after {align-self: flex-end;width: 50%;}#sk-container-id-6 div.sk-parallel-item:last-child::after {align-self: flex-start;width: 50%;}#sk-container-id-6 div.sk-parallel-item:only-child::after {width: 0;}#sk-container-id-6 div.sk-dashed-wrapped {border: 1px dashed gray;margin: 0 0.4em 0.5em 0.4em;box-sizing: border-box;padding-bottom: 0.4em;background-color: white;}#sk-container-id-6 div.sk-label label {font-family: monospace;font-weight: bold;display: inline-block;line-height: 1.2em;}#sk-container-id-6 div.sk-label-container {text-align: center;}#sk-container-id-6 div.sk-container {/* jupyter's `normalize.less` sets `[hidden] { display: none; }` but bootstrap.min.css set `[hidden] { display: none !important; }` so we also need the `!important` here to be able to override the default hidden behavior on the sphinx rendered scikit-learn.org. See: https://github.com/scikit-learn/scikit-learn/issues/21755 */display: inline-block !important;position: relative;}#sk-container-id-6 div.sk-text-repr-fallback {display: none;}</style><div id=\"sk-container-id-6\" class=\"sk-top-container\"><div class=\"sk-text-repr-fallback\"><pre>DecisionTreeClassifier(max_depth=10, random_state=42)</pre><b>In a Jupyter environment, please rerun this cell to show the HTML representation or trust the notebook. <br />On GitHub, the HTML representation is unable to render, please try loading this page with nbviewer.org.</b></div><div class=\"sk-container\" hidden><div class=\"sk-item\"><div class=\"sk-estimator sk-toggleable\"><input class=\"sk-toggleable__control sk-hidden--visually\" id=\"sk-estimator-id-6\" type=\"checkbox\" checked><label for=\"sk-estimator-id-6\" class=\"sk-toggleable__label sk-toggleable__label-arrow\">DecisionTreeClassifier</label><div class=\"sk-toggleable__content\"><pre>DecisionTreeClassifier(max_depth=10, random_state=42)</pre></div></div></div></div></div>"
      ],
      "text/plain": [
       "DecisionTreeClassifier(max_depth=10, random_state=42)"
      ]
     },
     "execution_count": 103,
     "metadata": {},
     "output_type": "execute_result"
    }
   ],
   "source": [
    "tree_clf_4 = DecisionTreeClassifier(max_leaf_nodes = 10, max_depth = 10, random_state=42) #model 1\n",
    "tree_clf_5 = DecisionTreeClassifier(max_leaf_nodes = 10, random_state=42) #model 2\n",
    "tree_clf_6 = DecisionTreeClassifier(max_depth = 10, random_state=42) #model 2\n",
    "tree_clf_4.fit(x_train_50, y_train_upsampled)\n",
    "tree_clf_5.fit(x_train_50, y_train_upsampled)\n",
    "tree_clf_6.fit(x_train_50, y_train_upsampled)"
   ]
  },
  {
   "cell_type": "markdown",
   "id": "bf46dfad",
   "metadata": {},
   "source": [
    "# Model 4: max_leaf_nodes = 10, max_depth = 10"
   ]
  },
  {
   "cell_type": "code",
   "execution_count": 104,
   "id": "e47137bf",
   "metadata": {},
   "outputs": [],
   "source": [
    "y_pred_4 = tree_clf_4.predict(x_test_50) # model 1 predictions\n",
    "pred_prob_4 =  tree_clf_4.predict_proba(x_test_50) #  returns the probabilities associated with each class"
   ]
  },
  {
   "cell_type": "code",
   "execution_count": 105,
   "id": "7e17077e",
   "metadata": {},
   "outputs": [
    {
     "name": "stdout",
     "output_type": "stream",
     "text": [
      "Accuracy: 0.17411003236245956\n",
      "F1 Score: 0.09360420492426202\n",
      "Precision: 0.07882931110553607\n",
      "Recall: 0.17411003236245956\n"
     ]
    },
    {
     "name": "stderr",
     "output_type": "stream",
     "text": [
      "/Users/sayisha/anaconda3/lib/python3.11/site-packages/sklearn/metrics/_classification.py:1469: UndefinedMetricWarning: Precision is ill-defined and being set to 0.0 in labels with no predicted samples. Use `zero_division` parameter to control this behavior.\n",
      "  _warn_prf(average, modifier, msg_start, len(result))\n"
     ]
    },
    {
     "data": {
      "text/plain": [
       "(0.17411003236245956,\n",
       " 0.09360420492426202,\n",
       " 0.07882931110553607,\n",
       " 0.17411003236245956)"
      ]
     },
     "execution_count": 105,
     "metadata": {},
     "output_type": "execute_result"
    }
   ],
   "source": [
    "overall_model_eval(y_test,y_pred_4)"
   ]
  },
  {
   "cell_type": "markdown",
   "id": "8f71f8ee",
   "metadata": {},
   "source": [
    "# Model 5: max_leaf_nodes = 10"
   ]
  },
  {
   "cell_type": "code",
   "execution_count": 106,
   "id": "b752c769",
   "metadata": {},
   "outputs": [],
   "source": [
    "y_pred_5 = tree_clf_5.predict(x_test_50) # model 1 predictions\n",
    "pred_prob_5 =  tree_clf_5.predict_proba(x_test_50) #  returns the probabilities associated with each class"
   ]
  },
  {
   "cell_type": "code",
   "execution_count": 107,
   "id": "40424d0b",
   "metadata": {},
   "outputs": [
    {
     "name": "stdout",
     "output_type": "stream",
     "text": [
      "Accuracy: 0.17411003236245956\n",
      "F1 Score: 0.09360420492426202\n",
      "Precision: 0.07882931110553607\n",
      "Recall: 0.17411003236245956\n"
     ]
    },
    {
     "name": "stderr",
     "output_type": "stream",
     "text": [
      "/Users/sayisha/anaconda3/lib/python3.11/site-packages/sklearn/metrics/_classification.py:1469: UndefinedMetricWarning: Precision is ill-defined and being set to 0.0 in labels with no predicted samples. Use `zero_division` parameter to control this behavior.\n",
      "  _warn_prf(average, modifier, msg_start, len(result))\n"
     ]
    },
    {
     "data": {
      "text/plain": [
       "(0.17411003236245956,\n",
       " 0.09360420492426202,\n",
       " 0.07882931110553607,\n",
       " 0.17411003236245956)"
      ]
     },
     "execution_count": 107,
     "metadata": {},
     "output_type": "execute_result"
    }
   ],
   "source": [
    "overall_model_eval(y_test,y_pred_5)"
   ]
  },
  {
   "cell_type": "markdown",
   "id": "fcbe664e",
   "metadata": {},
   "source": [
    "# Model 6: max_depth = 10"
   ]
  },
  {
   "cell_type": "code",
   "execution_count": 108,
   "id": "19e797ff",
   "metadata": {},
   "outputs": [],
   "source": [
    "y_pred_6 = tree_clf_6.predict(x_test_50) # model 1 predictions\n",
    "pred_prob_6 =  tree_clf_6.predict_proba(x_test_50) #  returns the probabilities associated with each class"
   ]
  },
  {
   "cell_type": "code",
   "execution_count": 109,
   "id": "1e94fce4",
   "metadata": {},
   "outputs": [
    {
     "name": "stdout",
     "output_type": "stream",
     "text": [
      "Accuracy: 0.5459546925566343\n",
      "F1 Score: 0.5523458483251356\n",
      "Precision: 0.5690570409941939\n",
      "Recall: 0.5459546925566343\n"
     ]
    },
    {
     "data": {
      "text/plain": [
       "(0.5459546925566343,\n",
       " 0.5523458483251356,\n",
       " 0.5690570409941939,\n",
       " 0.5459546925566343)"
      ]
     },
     "execution_count": 109,
     "metadata": {},
     "output_type": "execute_result"
    }
   ],
   "source": [
    "overall_model_eval(y_test,y_pred_6)"
   ]
  },
  {
   "cell_type": "markdown",
   "id": "5a650256",
   "metadata": {},
   "source": [
    "# Model 7: max_features = 25"
   ]
  },
  {
   "cell_type": "code",
   "execution_count": 110,
   "id": "5b94edd3",
   "metadata": {},
   "outputs": [
    {
     "data": {
      "text/html": [
       "<style>#sk-container-id-7 {color: black;}#sk-container-id-7 pre{padding: 0;}#sk-container-id-7 div.sk-toggleable {background-color: white;}#sk-container-id-7 label.sk-toggleable__label {cursor: pointer;display: block;width: 100%;margin-bottom: 0;padding: 0.3em;box-sizing: border-box;text-align: center;}#sk-container-id-7 label.sk-toggleable__label-arrow:before {content: \"▸\";float: left;margin-right: 0.25em;color: #696969;}#sk-container-id-7 label.sk-toggleable__label-arrow:hover:before {color: black;}#sk-container-id-7 div.sk-estimator:hover label.sk-toggleable__label-arrow:before {color: black;}#sk-container-id-7 div.sk-toggleable__content {max-height: 0;max-width: 0;overflow: hidden;text-align: left;background-color: #f0f8ff;}#sk-container-id-7 div.sk-toggleable__content pre {margin: 0.2em;color: black;border-radius: 0.25em;background-color: #f0f8ff;}#sk-container-id-7 input.sk-toggleable__control:checked~div.sk-toggleable__content {max-height: 200px;max-width: 100%;overflow: auto;}#sk-container-id-7 input.sk-toggleable__control:checked~label.sk-toggleable__label-arrow:before {content: \"▾\";}#sk-container-id-7 div.sk-estimator input.sk-toggleable__control:checked~label.sk-toggleable__label {background-color: #d4ebff;}#sk-container-id-7 div.sk-label input.sk-toggleable__control:checked~label.sk-toggleable__label {background-color: #d4ebff;}#sk-container-id-7 input.sk-hidden--visually {border: 0;clip: rect(1px 1px 1px 1px);clip: rect(1px, 1px, 1px, 1px);height: 1px;margin: -1px;overflow: hidden;padding: 0;position: absolute;width: 1px;}#sk-container-id-7 div.sk-estimator {font-family: monospace;background-color: #f0f8ff;border: 1px dotted black;border-radius: 0.25em;box-sizing: border-box;margin-bottom: 0.5em;}#sk-container-id-7 div.sk-estimator:hover {background-color: #d4ebff;}#sk-container-id-7 div.sk-parallel-item::after {content: \"\";width: 100%;border-bottom: 1px solid gray;flex-grow: 1;}#sk-container-id-7 div.sk-label:hover label.sk-toggleable__label {background-color: #d4ebff;}#sk-container-id-7 div.sk-serial::before {content: \"\";position: absolute;border-left: 1px solid gray;box-sizing: border-box;top: 0;bottom: 0;left: 50%;z-index: 0;}#sk-container-id-7 div.sk-serial {display: flex;flex-direction: column;align-items: center;background-color: white;padding-right: 0.2em;padding-left: 0.2em;position: relative;}#sk-container-id-7 div.sk-item {position: relative;z-index: 1;}#sk-container-id-7 div.sk-parallel {display: flex;align-items: stretch;justify-content: center;background-color: white;position: relative;}#sk-container-id-7 div.sk-item::before, #sk-container-id-7 div.sk-parallel-item::before {content: \"\";position: absolute;border-left: 1px solid gray;box-sizing: border-box;top: 0;bottom: 0;left: 50%;z-index: -1;}#sk-container-id-7 div.sk-parallel-item {display: flex;flex-direction: column;z-index: 1;position: relative;background-color: white;}#sk-container-id-7 div.sk-parallel-item:first-child::after {align-self: flex-end;width: 50%;}#sk-container-id-7 div.sk-parallel-item:last-child::after {align-self: flex-start;width: 50%;}#sk-container-id-7 div.sk-parallel-item:only-child::after {width: 0;}#sk-container-id-7 div.sk-dashed-wrapped {border: 1px dashed gray;margin: 0 0.4em 0.5em 0.4em;box-sizing: border-box;padding-bottom: 0.4em;background-color: white;}#sk-container-id-7 div.sk-label label {font-family: monospace;font-weight: bold;display: inline-block;line-height: 1.2em;}#sk-container-id-7 div.sk-label-container {text-align: center;}#sk-container-id-7 div.sk-container {/* jupyter's `normalize.less` sets `[hidden] { display: none; }` but bootstrap.min.css set `[hidden] { display: none !important; }` so we also need the `!important` here to be able to override the default hidden behavior on the sphinx rendered scikit-learn.org. See: https://github.com/scikit-learn/scikit-learn/issues/21755 */display: inline-block !important;position: relative;}#sk-container-id-7 div.sk-text-repr-fallback {display: none;}</style><div id=\"sk-container-id-7\" class=\"sk-top-container\"><div class=\"sk-text-repr-fallback\"><pre>DecisionTreeClassifier(max_features=25, random_state=42)</pre><b>In a Jupyter environment, please rerun this cell to show the HTML representation or trust the notebook. <br />On GitHub, the HTML representation is unable to render, please try loading this page with nbviewer.org.</b></div><div class=\"sk-container\" hidden><div class=\"sk-item\"><div class=\"sk-estimator sk-toggleable\"><input class=\"sk-toggleable__control sk-hidden--visually\" id=\"sk-estimator-id-7\" type=\"checkbox\" checked><label for=\"sk-estimator-id-7\" class=\"sk-toggleable__label sk-toggleable__label-arrow\">DecisionTreeClassifier</label><div class=\"sk-toggleable__content\"><pre>DecisionTreeClassifier(max_features=25, random_state=42)</pre></div></div></div></div></div>"
      ],
      "text/plain": [
       "DecisionTreeClassifier(max_features=25, random_state=42)"
      ]
     },
     "execution_count": 110,
     "metadata": {},
     "output_type": "execute_result"
    }
   ],
   "source": [
    "tree_clf_7 = DecisionTreeClassifier(max_features = 25, random_state=42) #model 2\n",
    "tree_clf_7.fit(x_train_50, y_train_upsampled)"
   ]
  },
  {
   "cell_type": "code",
   "execution_count": 111,
   "id": "8cf6ae69",
   "metadata": {},
   "outputs": [],
   "source": [
    "y_pred_7 = tree_clf_7.predict(x_test_50) # model 1 predictions\n",
    "pred_prob_7 =  tree_clf_7.predict_proba(x_test_50) #  returns the probabilities associated with each class"
   ]
  },
  {
   "cell_type": "code",
   "execution_count": 112,
   "id": "bcc45ed7",
   "metadata": {},
   "outputs": [
    {
     "name": "stdout",
     "output_type": "stream",
     "text": [
      "Accuracy: 0.5899676375404531\n",
      "F1 Score: 0.5877947483765019\n",
      "Precision: 0.5901939348108916\n",
      "Recall: 0.5899676375404531\n"
     ]
    },
    {
     "data": {
      "text/plain": [
       "(0.5899676375404531,\n",
       " 0.5877947483765019,\n",
       " 0.5901939348108916,\n",
       " 0.5899676375404531)"
      ]
     },
     "execution_count": 112,
     "metadata": {},
     "output_type": "execute_result"
    }
   ],
   "source": [
    "overall_model_eval(y_test,y_pred_7)"
   ]
  },
  {
   "cell_type": "markdown",
   "id": "45e8c7e0",
   "metadata": {},
   "source": [
    "# Model 8: min_weight_fraction_leaf = 0.5"
   ]
  },
  {
   "cell_type": "code",
   "execution_count": 113,
   "id": "3f875e63",
   "metadata": {},
   "outputs": [
    {
     "data": {
      "text/html": [
       "<style>#sk-container-id-8 {color: black;}#sk-container-id-8 pre{padding: 0;}#sk-container-id-8 div.sk-toggleable {background-color: white;}#sk-container-id-8 label.sk-toggleable__label {cursor: pointer;display: block;width: 100%;margin-bottom: 0;padding: 0.3em;box-sizing: border-box;text-align: center;}#sk-container-id-8 label.sk-toggleable__label-arrow:before {content: \"▸\";float: left;margin-right: 0.25em;color: #696969;}#sk-container-id-8 label.sk-toggleable__label-arrow:hover:before {color: black;}#sk-container-id-8 div.sk-estimator:hover label.sk-toggleable__label-arrow:before {color: black;}#sk-container-id-8 div.sk-toggleable__content {max-height: 0;max-width: 0;overflow: hidden;text-align: left;background-color: #f0f8ff;}#sk-container-id-8 div.sk-toggleable__content pre {margin: 0.2em;color: black;border-radius: 0.25em;background-color: #f0f8ff;}#sk-container-id-8 input.sk-toggleable__control:checked~div.sk-toggleable__content {max-height: 200px;max-width: 100%;overflow: auto;}#sk-container-id-8 input.sk-toggleable__control:checked~label.sk-toggleable__label-arrow:before {content: \"▾\";}#sk-container-id-8 div.sk-estimator input.sk-toggleable__control:checked~label.sk-toggleable__label {background-color: #d4ebff;}#sk-container-id-8 div.sk-label input.sk-toggleable__control:checked~label.sk-toggleable__label {background-color: #d4ebff;}#sk-container-id-8 input.sk-hidden--visually {border: 0;clip: rect(1px 1px 1px 1px);clip: rect(1px, 1px, 1px, 1px);height: 1px;margin: -1px;overflow: hidden;padding: 0;position: absolute;width: 1px;}#sk-container-id-8 div.sk-estimator {font-family: monospace;background-color: #f0f8ff;border: 1px dotted black;border-radius: 0.25em;box-sizing: border-box;margin-bottom: 0.5em;}#sk-container-id-8 div.sk-estimator:hover {background-color: #d4ebff;}#sk-container-id-8 div.sk-parallel-item::after {content: \"\";width: 100%;border-bottom: 1px solid gray;flex-grow: 1;}#sk-container-id-8 div.sk-label:hover label.sk-toggleable__label {background-color: #d4ebff;}#sk-container-id-8 div.sk-serial::before {content: \"\";position: absolute;border-left: 1px solid gray;box-sizing: border-box;top: 0;bottom: 0;left: 50%;z-index: 0;}#sk-container-id-8 div.sk-serial {display: flex;flex-direction: column;align-items: center;background-color: white;padding-right: 0.2em;padding-left: 0.2em;position: relative;}#sk-container-id-8 div.sk-item {position: relative;z-index: 1;}#sk-container-id-8 div.sk-parallel {display: flex;align-items: stretch;justify-content: center;background-color: white;position: relative;}#sk-container-id-8 div.sk-item::before, #sk-container-id-8 div.sk-parallel-item::before {content: \"\";position: absolute;border-left: 1px solid gray;box-sizing: border-box;top: 0;bottom: 0;left: 50%;z-index: -1;}#sk-container-id-8 div.sk-parallel-item {display: flex;flex-direction: column;z-index: 1;position: relative;background-color: white;}#sk-container-id-8 div.sk-parallel-item:first-child::after {align-self: flex-end;width: 50%;}#sk-container-id-8 div.sk-parallel-item:last-child::after {align-self: flex-start;width: 50%;}#sk-container-id-8 div.sk-parallel-item:only-child::after {width: 0;}#sk-container-id-8 div.sk-dashed-wrapped {border: 1px dashed gray;margin: 0 0.4em 0.5em 0.4em;box-sizing: border-box;padding-bottom: 0.4em;background-color: white;}#sk-container-id-8 div.sk-label label {font-family: monospace;font-weight: bold;display: inline-block;line-height: 1.2em;}#sk-container-id-8 div.sk-label-container {text-align: center;}#sk-container-id-8 div.sk-container {/* jupyter's `normalize.less` sets `[hidden] { display: none; }` but bootstrap.min.css set `[hidden] { display: none !important; }` so we also need the `!important` here to be able to override the default hidden behavior on the sphinx rendered scikit-learn.org. See: https://github.com/scikit-learn/scikit-learn/issues/21755 */display: inline-block !important;position: relative;}#sk-container-id-8 div.sk-text-repr-fallback {display: none;}</style><div id=\"sk-container-id-8\" class=\"sk-top-container\"><div class=\"sk-text-repr-fallback\"><pre>DecisionTreeClassifier(min_weight_fraction_leaf=0.5, random_state=42)</pre><b>In a Jupyter environment, please rerun this cell to show the HTML representation or trust the notebook. <br />On GitHub, the HTML representation is unable to render, please try loading this page with nbviewer.org.</b></div><div class=\"sk-container\" hidden><div class=\"sk-item\"><div class=\"sk-estimator sk-toggleable\"><input class=\"sk-toggleable__control sk-hidden--visually\" id=\"sk-estimator-id-8\" type=\"checkbox\" checked><label for=\"sk-estimator-id-8\" class=\"sk-toggleable__label sk-toggleable__label-arrow\">DecisionTreeClassifier</label><div class=\"sk-toggleable__content\"><pre>DecisionTreeClassifier(min_weight_fraction_leaf=0.5, random_state=42)</pre></div></div></div></div></div>"
      ],
      "text/plain": [
       "DecisionTreeClassifier(min_weight_fraction_leaf=0.5, random_state=42)"
      ]
     },
     "execution_count": 113,
     "metadata": {},
     "output_type": "execute_result"
    }
   ],
   "source": [
    "tree_clf_8 = DecisionTreeClassifier(min_weight_fraction_leaf = 0.5, random_state=42) #model 2\n",
    "tree_clf_8.fit(x_train_50, y_train_upsampled)"
   ]
  },
  {
   "cell_type": "code",
   "execution_count": 114,
   "id": "cb78cc82",
   "metadata": {},
   "outputs": [],
   "source": [
    "y_pred_8 = tree_clf_8.predict(x_test_50) # model 1 predictions\n",
    "pred_prob_8 =  tree_clf_8.predict_proba(x_test_50) #  returns the probabilities associated with each class"
   ]
  },
  {
   "cell_type": "code",
   "execution_count": 115,
   "id": "a5d9f836",
   "metadata": {},
   "outputs": [
    {
     "name": "stdout",
     "output_type": "stream",
     "text": [
      "Accuracy: 0.1669902912621359\n",
      "F1 Score: 0.05566717273656566\n",
      "Precision: 0.03348174454815042\n",
      "Recall: 0.1669902912621359\n"
     ]
    },
    {
     "name": "stderr",
     "output_type": "stream",
     "text": [
      "/Users/sayisha/anaconda3/lib/python3.11/site-packages/sklearn/metrics/_classification.py:1469: UndefinedMetricWarning: Precision is ill-defined and being set to 0.0 in labels with no predicted samples. Use `zero_division` parameter to control this behavior.\n",
      "  _warn_prf(average, modifier, msg_start, len(result))\n"
     ]
    },
    {
     "data": {
      "text/plain": [
       "(0.1669902912621359,\n",
       " 0.05566717273656566,\n",
       " 0.03348174454815042,\n",
       " 0.1669902912621359)"
      ]
     },
     "execution_count": 115,
     "metadata": {},
     "output_type": "execute_result"
    }
   ],
   "source": [
    "overall_model_eval(y_test,y_pred_8)"
   ]
  },
  {
   "cell_type": "markdown",
   "id": "af090237",
   "metadata": {},
   "source": [
    "# Model 9: min_samples_leaf = 8"
   ]
  },
  {
   "cell_type": "code",
   "execution_count": 116,
   "id": "1e49e069",
   "metadata": {},
   "outputs": [
    {
     "data": {
      "text/html": [
       "<style>#sk-container-id-9 {color: black;}#sk-container-id-9 pre{padding: 0;}#sk-container-id-9 div.sk-toggleable {background-color: white;}#sk-container-id-9 label.sk-toggleable__label {cursor: pointer;display: block;width: 100%;margin-bottom: 0;padding: 0.3em;box-sizing: border-box;text-align: center;}#sk-container-id-9 label.sk-toggleable__label-arrow:before {content: \"▸\";float: left;margin-right: 0.25em;color: #696969;}#sk-container-id-9 label.sk-toggleable__label-arrow:hover:before {color: black;}#sk-container-id-9 div.sk-estimator:hover label.sk-toggleable__label-arrow:before {color: black;}#sk-container-id-9 div.sk-toggleable__content {max-height: 0;max-width: 0;overflow: hidden;text-align: left;background-color: #f0f8ff;}#sk-container-id-9 div.sk-toggleable__content pre {margin: 0.2em;color: black;border-radius: 0.25em;background-color: #f0f8ff;}#sk-container-id-9 input.sk-toggleable__control:checked~div.sk-toggleable__content {max-height: 200px;max-width: 100%;overflow: auto;}#sk-container-id-9 input.sk-toggleable__control:checked~label.sk-toggleable__label-arrow:before {content: \"▾\";}#sk-container-id-9 div.sk-estimator input.sk-toggleable__control:checked~label.sk-toggleable__label {background-color: #d4ebff;}#sk-container-id-9 div.sk-label input.sk-toggleable__control:checked~label.sk-toggleable__label {background-color: #d4ebff;}#sk-container-id-9 input.sk-hidden--visually {border: 0;clip: rect(1px 1px 1px 1px);clip: rect(1px, 1px, 1px, 1px);height: 1px;margin: -1px;overflow: hidden;padding: 0;position: absolute;width: 1px;}#sk-container-id-9 div.sk-estimator {font-family: monospace;background-color: #f0f8ff;border: 1px dotted black;border-radius: 0.25em;box-sizing: border-box;margin-bottom: 0.5em;}#sk-container-id-9 div.sk-estimator:hover {background-color: #d4ebff;}#sk-container-id-9 div.sk-parallel-item::after {content: \"\";width: 100%;border-bottom: 1px solid gray;flex-grow: 1;}#sk-container-id-9 div.sk-label:hover label.sk-toggleable__label {background-color: #d4ebff;}#sk-container-id-9 div.sk-serial::before {content: \"\";position: absolute;border-left: 1px solid gray;box-sizing: border-box;top: 0;bottom: 0;left: 50%;z-index: 0;}#sk-container-id-9 div.sk-serial {display: flex;flex-direction: column;align-items: center;background-color: white;padding-right: 0.2em;padding-left: 0.2em;position: relative;}#sk-container-id-9 div.sk-item {position: relative;z-index: 1;}#sk-container-id-9 div.sk-parallel {display: flex;align-items: stretch;justify-content: center;background-color: white;position: relative;}#sk-container-id-9 div.sk-item::before, #sk-container-id-9 div.sk-parallel-item::before {content: \"\";position: absolute;border-left: 1px solid gray;box-sizing: border-box;top: 0;bottom: 0;left: 50%;z-index: -1;}#sk-container-id-9 div.sk-parallel-item {display: flex;flex-direction: column;z-index: 1;position: relative;background-color: white;}#sk-container-id-9 div.sk-parallel-item:first-child::after {align-self: flex-end;width: 50%;}#sk-container-id-9 div.sk-parallel-item:last-child::after {align-self: flex-start;width: 50%;}#sk-container-id-9 div.sk-parallel-item:only-child::after {width: 0;}#sk-container-id-9 div.sk-dashed-wrapped {border: 1px dashed gray;margin: 0 0.4em 0.5em 0.4em;box-sizing: border-box;padding-bottom: 0.4em;background-color: white;}#sk-container-id-9 div.sk-label label {font-family: monospace;font-weight: bold;display: inline-block;line-height: 1.2em;}#sk-container-id-9 div.sk-label-container {text-align: center;}#sk-container-id-9 div.sk-container {/* jupyter's `normalize.less` sets `[hidden] { display: none; }` but bootstrap.min.css set `[hidden] { display: none !important; }` so we also need the `!important` here to be able to override the default hidden behavior on the sphinx rendered scikit-learn.org. See: https://github.com/scikit-learn/scikit-learn/issues/21755 */display: inline-block !important;position: relative;}#sk-container-id-9 div.sk-text-repr-fallback {display: none;}</style><div id=\"sk-container-id-9\" class=\"sk-top-container\"><div class=\"sk-text-repr-fallback\"><pre>DecisionTreeClassifier(min_samples_leaf=30, random_state=42)</pre><b>In a Jupyter environment, please rerun this cell to show the HTML representation or trust the notebook. <br />On GitHub, the HTML representation is unable to render, please try loading this page with nbviewer.org.</b></div><div class=\"sk-container\" hidden><div class=\"sk-item\"><div class=\"sk-estimator sk-toggleable\"><input class=\"sk-toggleable__control sk-hidden--visually\" id=\"sk-estimator-id-9\" type=\"checkbox\" checked><label for=\"sk-estimator-id-9\" class=\"sk-toggleable__label sk-toggleable__label-arrow\">DecisionTreeClassifier</label><div class=\"sk-toggleable__content\"><pre>DecisionTreeClassifier(min_samples_leaf=30, random_state=42)</pre></div></div></div></div></div>"
      ],
      "text/plain": [
       "DecisionTreeClassifier(min_samples_leaf=30, random_state=42)"
      ]
     },
     "execution_count": 116,
     "metadata": {},
     "output_type": "execute_result"
    }
   ],
   "source": [
    "tree_clf_9 = DecisionTreeClassifier(min_samples_leaf = 30, random_state=42) #model 2\n",
    "tree_clf_9.fit(x_train_50, y_train_upsampled)"
   ]
  },
  {
   "cell_type": "code",
   "execution_count": 117,
   "id": "b9c84779",
   "metadata": {},
   "outputs": [],
   "source": [
    "y_pred_9 = tree_clf_9.predict(x_test_50) # model 1 predictions\n",
    "pred_prob_9 =  tree_clf_9.predict_proba(x_test_50) #  returns the probabilities associated with each class"
   ]
  },
  {
   "cell_type": "code",
   "execution_count": 118,
   "id": "6f77609a",
   "metadata": {},
   "outputs": [
    {
     "name": "stdout",
     "output_type": "stream",
     "text": [
      "Accuracy: 0.5792880258899676\n",
      "F1 Score: 0.5884363097090256\n",
      "Precision: 0.6069663722934078\n",
      "Recall: 0.5792880258899676\n"
     ]
    },
    {
     "data": {
      "text/plain": [
       "(0.5792880258899676,\n",
       " 0.5884363097090256,\n",
       " 0.6069663722934078,\n",
       " 0.5792880258899676)"
      ]
     },
     "execution_count": 118,
     "metadata": {},
     "output_type": "execute_result"
    }
   ],
   "source": [
    "overall_model_eval(y_test,y_pred_9)"
   ]
  },
  {
   "cell_type": "markdown",
   "id": "3ffafd62",
   "metadata": {},
   "source": [
    "# New training and testing sets"
   ]
  },
  {
   "cell_type": "markdown",
   "id": "1168de3b",
   "metadata": {},
   "source": [
    "## 30% from the original training set into the testing set"
   ]
  },
  {
   "cell_type": "code",
   "execution_count": 119,
   "id": "686537f0",
   "metadata": {},
   "outputs": [
    {
     "name": "stdout",
     "output_type": "stream",
     "text": [
      "new_x_test shape (9840, 50)\n",
      "new_y_test\n",
      " (9840, 1)\n"
     ]
    }
   ],
   "source": [
    "a = get_new_test_train_data(x_train_50,x_test_50,y_train_upsampled,y_test, 0.7);"
   ]
  },
  {
   "cell_type": "code",
   "execution_count": 120,
   "id": "4d3a5601",
   "metadata": {},
   "outputs": [],
   "source": [
    "new_x_train_1 =a[0]\n",
    "new_y_train_1 = a[1]\n",
    "new_x_test_1 =a[2]\n",
    "new_y_test_1 = a[3]\n"
   ]
  },
  {
   "cell_type": "code",
   "execution_count": 121,
   "id": "18c374be",
   "metadata": {},
   "outputs": [
    {
     "data": {
      "text/html": [
       "<style>#sk-container-id-10 {color: black;}#sk-container-id-10 pre{padding: 0;}#sk-container-id-10 div.sk-toggleable {background-color: white;}#sk-container-id-10 label.sk-toggleable__label {cursor: pointer;display: block;width: 100%;margin-bottom: 0;padding: 0.3em;box-sizing: border-box;text-align: center;}#sk-container-id-10 label.sk-toggleable__label-arrow:before {content: \"▸\";float: left;margin-right: 0.25em;color: #696969;}#sk-container-id-10 label.sk-toggleable__label-arrow:hover:before {color: black;}#sk-container-id-10 div.sk-estimator:hover label.sk-toggleable__label-arrow:before {color: black;}#sk-container-id-10 div.sk-toggleable__content {max-height: 0;max-width: 0;overflow: hidden;text-align: left;background-color: #f0f8ff;}#sk-container-id-10 div.sk-toggleable__content pre {margin: 0.2em;color: black;border-radius: 0.25em;background-color: #f0f8ff;}#sk-container-id-10 input.sk-toggleable__control:checked~div.sk-toggleable__content {max-height: 200px;max-width: 100%;overflow: auto;}#sk-container-id-10 input.sk-toggleable__control:checked~label.sk-toggleable__label-arrow:before {content: \"▾\";}#sk-container-id-10 div.sk-estimator input.sk-toggleable__control:checked~label.sk-toggleable__label {background-color: #d4ebff;}#sk-container-id-10 div.sk-label input.sk-toggleable__control:checked~label.sk-toggleable__label {background-color: #d4ebff;}#sk-container-id-10 input.sk-hidden--visually {border: 0;clip: rect(1px 1px 1px 1px);clip: rect(1px, 1px, 1px, 1px);height: 1px;margin: -1px;overflow: hidden;padding: 0;position: absolute;width: 1px;}#sk-container-id-10 div.sk-estimator {font-family: monospace;background-color: #f0f8ff;border: 1px dotted black;border-radius: 0.25em;box-sizing: border-box;margin-bottom: 0.5em;}#sk-container-id-10 div.sk-estimator:hover {background-color: #d4ebff;}#sk-container-id-10 div.sk-parallel-item::after {content: \"\";width: 100%;border-bottom: 1px solid gray;flex-grow: 1;}#sk-container-id-10 div.sk-label:hover label.sk-toggleable__label {background-color: #d4ebff;}#sk-container-id-10 div.sk-serial::before {content: \"\";position: absolute;border-left: 1px solid gray;box-sizing: border-box;top: 0;bottom: 0;left: 50%;z-index: 0;}#sk-container-id-10 div.sk-serial {display: flex;flex-direction: column;align-items: center;background-color: white;padding-right: 0.2em;padding-left: 0.2em;position: relative;}#sk-container-id-10 div.sk-item {position: relative;z-index: 1;}#sk-container-id-10 div.sk-parallel {display: flex;align-items: stretch;justify-content: center;background-color: white;position: relative;}#sk-container-id-10 div.sk-item::before, #sk-container-id-10 div.sk-parallel-item::before {content: \"\";position: absolute;border-left: 1px solid gray;box-sizing: border-box;top: 0;bottom: 0;left: 50%;z-index: -1;}#sk-container-id-10 div.sk-parallel-item {display: flex;flex-direction: column;z-index: 1;position: relative;background-color: white;}#sk-container-id-10 div.sk-parallel-item:first-child::after {align-self: flex-end;width: 50%;}#sk-container-id-10 div.sk-parallel-item:last-child::after {align-self: flex-start;width: 50%;}#sk-container-id-10 div.sk-parallel-item:only-child::after {width: 0;}#sk-container-id-10 div.sk-dashed-wrapped {border: 1px dashed gray;margin: 0 0.4em 0.5em 0.4em;box-sizing: border-box;padding-bottom: 0.4em;background-color: white;}#sk-container-id-10 div.sk-label label {font-family: monospace;font-weight: bold;display: inline-block;line-height: 1.2em;}#sk-container-id-10 div.sk-label-container {text-align: center;}#sk-container-id-10 div.sk-container {/* jupyter's `normalize.less` sets `[hidden] { display: none; }` but bootstrap.min.css set `[hidden] { display: none !important; }` so we also need the `!important` here to be able to override the default hidden behavior on the sphinx rendered scikit-learn.org. See: https://github.com/scikit-learn/scikit-learn/issues/21755 */display: inline-block !important;position: relative;}#sk-container-id-10 div.sk-text-repr-fallback {display: none;}</style><div id=\"sk-container-id-10\" class=\"sk-top-container\"><div class=\"sk-text-repr-fallback\"><pre>DecisionTreeClassifier(criterion=&#x27;entropy&#x27;, random_state=42, splitter=&#x27;random&#x27;)</pre><b>In a Jupyter environment, please rerun this cell to show the HTML representation or trust the notebook. <br />On GitHub, the HTML representation is unable to render, please try loading this page with nbviewer.org.</b></div><div class=\"sk-container\" hidden><div class=\"sk-item\"><div class=\"sk-estimator sk-toggleable\"><input class=\"sk-toggleable__control sk-hidden--visually\" id=\"sk-estimator-id-10\" type=\"checkbox\" checked><label for=\"sk-estimator-id-10\" class=\"sk-toggleable__label sk-toggleable__label-arrow\">DecisionTreeClassifier</label><div class=\"sk-toggleable__content\"><pre>DecisionTreeClassifier(criterion=&#x27;entropy&#x27;, random_state=42, splitter=&#x27;random&#x27;)</pre></div></div></div></div></div>"
      ],
      "text/plain": [
       "DecisionTreeClassifier(criterion='entropy', random_state=42, splitter='random')"
      ]
     },
     "execution_count": 121,
     "metadata": {},
     "output_type": "execute_result"
    }
   ],
   "source": [
    "tree_clf_10 = DecisionTreeClassifier(criterion='entropy',splitter='random', random_state=42) #model 10\n",
    "tree_clf_10.fit(new_x_train_1, new_y_train_1)"
   ]
  },
  {
   "cell_type": "code",
   "execution_count": 122,
   "id": "6721e782",
   "metadata": {},
   "outputs": [],
   "source": [
    "y_pred_10 = tree_clf_10.predict(new_x_test_1);"
   ]
  },
  {
   "cell_type": "code",
   "execution_count": 123,
   "id": "ec0d9f4d",
   "metadata": {},
   "outputs": [
    {
     "name": "stdout",
     "output_type": "stream",
     "text": [
      "Accuracy: 0.8574186991869919\n",
      "F1 Score: 0.8591856967566683\n",
      "Precision: 0.8617152989495663\n",
      "Recall: 0.8574186991869919\n"
     ]
    },
    {
     "data": {
      "text/plain": [
       "(0.8574186991869919,\n",
       " 0.8591856967566683,\n",
       " 0.8617152989495663,\n",
       " 0.8574186991869919)"
      ]
     },
     "execution_count": 123,
     "metadata": {},
     "output_type": "execute_result"
    }
   ],
   "source": [
    "overall_model_eval(new_y_test_1,y_pred_10)"
   ]
  },
  {
   "cell_type": "markdown",
   "id": "506599b6",
   "metadata": {},
   "source": [
    "## 60% from the original training set into the testing set"
   ]
  },
  {
   "cell_type": "code",
   "execution_count": 124,
   "id": "b86bf8a3",
   "metadata": {},
   "outputs": [
    {
     "name": "stdout",
     "output_type": "stream",
     "text": [
      "new_x_test shape (16590, 50)\n",
      "new_y_test\n",
      " (16590, 1)\n"
     ]
    }
   ],
   "source": [
    "b = get_new_test_train_data(x_train_50,x_test_50,y_train_upsampled,y_test, 0.4);"
   ]
  },
  {
   "cell_type": "code",
   "execution_count": 125,
   "id": "abcb5e0e",
   "metadata": {},
   "outputs": [],
   "source": [
    "new_x_train_2 =b[0]\n",
    "new_y_train_2 = b[1]\n",
    "new_x_test_2 =b[2]\n",
    "new_y_test_2 = b[3]"
   ]
  },
  {
   "cell_type": "code",
   "execution_count": 126,
   "id": "349605d1",
   "metadata": {},
   "outputs": [
    {
     "data": {
      "text/html": [
       "<style>#sk-container-id-11 {color: black;}#sk-container-id-11 pre{padding: 0;}#sk-container-id-11 div.sk-toggleable {background-color: white;}#sk-container-id-11 label.sk-toggleable__label {cursor: pointer;display: block;width: 100%;margin-bottom: 0;padding: 0.3em;box-sizing: border-box;text-align: center;}#sk-container-id-11 label.sk-toggleable__label-arrow:before {content: \"▸\";float: left;margin-right: 0.25em;color: #696969;}#sk-container-id-11 label.sk-toggleable__label-arrow:hover:before {color: black;}#sk-container-id-11 div.sk-estimator:hover label.sk-toggleable__label-arrow:before {color: black;}#sk-container-id-11 div.sk-toggleable__content {max-height: 0;max-width: 0;overflow: hidden;text-align: left;background-color: #f0f8ff;}#sk-container-id-11 div.sk-toggleable__content pre {margin: 0.2em;color: black;border-radius: 0.25em;background-color: #f0f8ff;}#sk-container-id-11 input.sk-toggleable__control:checked~div.sk-toggleable__content {max-height: 200px;max-width: 100%;overflow: auto;}#sk-container-id-11 input.sk-toggleable__control:checked~label.sk-toggleable__label-arrow:before {content: \"▾\";}#sk-container-id-11 div.sk-estimator input.sk-toggleable__control:checked~label.sk-toggleable__label {background-color: #d4ebff;}#sk-container-id-11 div.sk-label input.sk-toggleable__control:checked~label.sk-toggleable__label {background-color: #d4ebff;}#sk-container-id-11 input.sk-hidden--visually {border: 0;clip: rect(1px 1px 1px 1px);clip: rect(1px, 1px, 1px, 1px);height: 1px;margin: -1px;overflow: hidden;padding: 0;position: absolute;width: 1px;}#sk-container-id-11 div.sk-estimator {font-family: monospace;background-color: #f0f8ff;border: 1px dotted black;border-radius: 0.25em;box-sizing: border-box;margin-bottom: 0.5em;}#sk-container-id-11 div.sk-estimator:hover {background-color: #d4ebff;}#sk-container-id-11 div.sk-parallel-item::after {content: \"\";width: 100%;border-bottom: 1px solid gray;flex-grow: 1;}#sk-container-id-11 div.sk-label:hover label.sk-toggleable__label {background-color: #d4ebff;}#sk-container-id-11 div.sk-serial::before {content: \"\";position: absolute;border-left: 1px solid gray;box-sizing: border-box;top: 0;bottom: 0;left: 50%;z-index: 0;}#sk-container-id-11 div.sk-serial {display: flex;flex-direction: column;align-items: center;background-color: white;padding-right: 0.2em;padding-left: 0.2em;position: relative;}#sk-container-id-11 div.sk-item {position: relative;z-index: 1;}#sk-container-id-11 div.sk-parallel {display: flex;align-items: stretch;justify-content: center;background-color: white;position: relative;}#sk-container-id-11 div.sk-item::before, #sk-container-id-11 div.sk-parallel-item::before {content: \"\";position: absolute;border-left: 1px solid gray;box-sizing: border-box;top: 0;bottom: 0;left: 50%;z-index: -1;}#sk-container-id-11 div.sk-parallel-item {display: flex;flex-direction: column;z-index: 1;position: relative;background-color: white;}#sk-container-id-11 div.sk-parallel-item:first-child::after {align-self: flex-end;width: 50%;}#sk-container-id-11 div.sk-parallel-item:last-child::after {align-self: flex-start;width: 50%;}#sk-container-id-11 div.sk-parallel-item:only-child::after {width: 0;}#sk-container-id-11 div.sk-dashed-wrapped {border: 1px dashed gray;margin: 0 0.4em 0.5em 0.4em;box-sizing: border-box;padding-bottom: 0.4em;background-color: white;}#sk-container-id-11 div.sk-label label {font-family: monospace;font-weight: bold;display: inline-block;line-height: 1.2em;}#sk-container-id-11 div.sk-label-container {text-align: center;}#sk-container-id-11 div.sk-container {/* jupyter's `normalize.less` sets `[hidden] { display: none; }` but bootstrap.min.css set `[hidden] { display: none !important; }` so we also need the `!important` here to be able to override the default hidden behavior on the sphinx rendered scikit-learn.org. See: https://github.com/scikit-learn/scikit-learn/issues/21755 */display: inline-block !important;position: relative;}#sk-container-id-11 div.sk-text-repr-fallback {display: none;}</style><div id=\"sk-container-id-11\" class=\"sk-top-container\"><div class=\"sk-text-repr-fallback\"><pre>DecisionTreeClassifier(criterion=&#x27;entropy&#x27;, random_state=42, splitter=&#x27;random&#x27;)</pre><b>In a Jupyter environment, please rerun this cell to show the HTML representation or trust the notebook. <br />On GitHub, the HTML representation is unable to render, please try loading this page with nbviewer.org.</b></div><div class=\"sk-container\" hidden><div class=\"sk-item\"><div class=\"sk-estimator sk-toggleable\"><input class=\"sk-toggleable__control sk-hidden--visually\" id=\"sk-estimator-id-11\" type=\"checkbox\" checked><label for=\"sk-estimator-id-11\" class=\"sk-toggleable__label sk-toggleable__label-arrow\">DecisionTreeClassifier</label><div class=\"sk-toggleable__content\"><pre>DecisionTreeClassifier(criterion=&#x27;entropy&#x27;, random_state=42, splitter=&#x27;random&#x27;)</pre></div></div></div></div></div>"
      ],
      "text/plain": [
       "DecisionTreeClassifier(criterion='entropy', random_state=42, splitter='random')"
      ]
     },
     "execution_count": 126,
     "metadata": {},
     "output_type": "execute_result"
    }
   ],
   "source": [
    "tree_clf_11 = DecisionTreeClassifier(criterion='entropy',splitter='random', random_state=42) #model 10\n",
    "tree_clf_11.fit(new_x_train_2, new_y_train_2)"
   ]
  },
  {
   "cell_type": "code",
   "execution_count": 127,
   "id": "9460d8f7",
   "metadata": {},
   "outputs": [],
   "source": [
    "y_pred_11 = tree_clf_11.predict(new_x_test_2);"
   ]
  },
  {
   "cell_type": "code",
   "execution_count": 128,
   "id": "5c851a19",
   "metadata": {},
   "outputs": [
    {
     "name": "stdout",
     "output_type": "stream",
     "text": [
      "Accuracy: 0.8956600361663652\n",
      "F1 Score: 0.8996822343287493\n",
      "Precision: 0.9063237434483792\n",
      "Recall: 0.8956600361663652\n"
     ]
    },
    {
     "data": {
      "text/plain": [
       "(0.8956600361663652,\n",
       " 0.8996822343287493,\n",
       " 0.9063237434483792,\n",
       " 0.8956600361663652)"
      ]
     },
     "execution_count": 128,
     "metadata": {},
     "output_type": "execute_result"
    }
   ],
   "source": [
    "overall_model_eval(new_y_test_2,y_pred_11)"
   ]
  },
  {
   "cell_type": "markdown",
   "id": "a99b7994",
   "metadata": {},
   "source": [
    "# Random Forest Classifier"
   ]
  },
  {
   "cell_type": "code",
   "execution_count": 129,
   "id": "3463d8f7",
   "metadata": {},
   "outputs": [
    {
     "data": {
      "text/html": [
       "<style>#sk-container-id-12 {color: black;}#sk-container-id-12 pre{padding: 0;}#sk-container-id-12 div.sk-toggleable {background-color: white;}#sk-container-id-12 label.sk-toggleable__label {cursor: pointer;display: block;width: 100%;margin-bottom: 0;padding: 0.3em;box-sizing: border-box;text-align: center;}#sk-container-id-12 label.sk-toggleable__label-arrow:before {content: \"▸\";float: left;margin-right: 0.25em;color: #696969;}#sk-container-id-12 label.sk-toggleable__label-arrow:hover:before {color: black;}#sk-container-id-12 div.sk-estimator:hover label.sk-toggleable__label-arrow:before {color: black;}#sk-container-id-12 div.sk-toggleable__content {max-height: 0;max-width: 0;overflow: hidden;text-align: left;background-color: #f0f8ff;}#sk-container-id-12 div.sk-toggleable__content pre {margin: 0.2em;color: black;border-radius: 0.25em;background-color: #f0f8ff;}#sk-container-id-12 input.sk-toggleable__control:checked~div.sk-toggleable__content {max-height: 200px;max-width: 100%;overflow: auto;}#sk-container-id-12 input.sk-toggleable__control:checked~label.sk-toggleable__label-arrow:before {content: \"▾\";}#sk-container-id-12 div.sk-estimator input.sk-toggleable__control:checked~label.sk-toggleable__label {background-color: #d4ebff;}#sk-container-id-12 div.sk-label input.sk-toggleable__control:checked~label.sk-toggleable__label {background-color: #d4ebff;}#sk-container-id-12 input.sk-hidden--visually {border: 0;clip: rect(1px 1px 1px 1px);clip: rect(1px, 1px, 1px, 1px);height: 1px;margin: -1px;overflow: hidden;padding: 0;position: absolute;width: 1px;}#sk-container-id-12 div.sk-estimator {font-family: monospace;background-color: #f0f8ff;border: 1px dotted black;border-radius: 0.25em;box-sizing: border-box;margin-bottom: 0.5em;}#sk-container-id-12 div.sk-estimator:hover {background-color: #d4ebff;}#sk-container-id-12 div.sk-parallel-item::after {content: \"\";width: 100%;border-bottom: 1px solid gray;flex-grow: 1;}#sk-container-id-12 div.sk-label:hover label.sk-toggleable__label {background-color: #d4ebff;}#sk-container-id-12 div.sk-serial::before {content: \"\";position: absolute;border-left: 1px solid gray;box-sizing: border-box;top: 0;bottom: 0;left: 50%;z-index: 0;}#sk-container-id-12 div.sk-serial {display: flex;flex-direction: column;align-items: center;background-color: white;padding-right: 0.2em;padding-left: 0.2em;position: relative;}#sk-container-id-12 div.sk-item {position: relative;z-index: 1;}#sk-container-id-12 div.sk-parallel {display: flex;align-items: stretch;justify-content: center;background-color: white;position: relative;}#sk-container-id-12 div.sk-item::before, #sk-container-id-12 div.sk-parallel-item::before {content: \"\";position: absolute;border-left: 1px solid gray;box-sizing: border-box;top: 0;bottom: 0;left: 50%;z-index: -1;}#sk-container-id-12 div.sk-parallel-item {display: flex;flex-direction: column;z-index: 1;position: relative;background-color: white;}#sk-container-id-12 div.sk-parallel-item:first-child::after {align-self: flex-end;width: 50%;}#sk-container-id-12 div.sk-parallel-item:last-child::after {align-self: flex-start;width: 50%;}#sk-container-id-12 div.sk-parallel-item:only-child::after {width: 0;}#sk-container-id-12 div.sk-dashed-wrapped {border: 1px dashed gray;margin: 0 0.4em 0.5em 0.4em;box-sizing: border-box;padding-bottom: 0.4em;background-color: white;}#sk-container-id-12 div.sk-label label {font-family: monospace;font-weight: bold;display: inline-block;line-height: 1.2em;}#sk-container-id-12 div.sk-label-container {text-align: center;}#sk-container-id-12 div.sk-container {/* jupyter's `normalize.less` sets `[hidden] { display: none; }` but bootstrap.min.css set `[hidden] { display: none !important; }` so we also need the `!important` here to be able to override the default hidden behavior on the sphinx rendered scikit-learn.org. See: https://github.com/scikit-learn/scikit-learn/issues/21755 */display: inline-block !important;position: relative;}#sk-container-id-12 div.sk-text-repr-fallback {display: none;}</style><div id=\"sk-container-id-12\" class=\"sk-top-container\"><div class=\"sk-text-repr-fallback\"><pre>RandomForestClassifier(random_state=42)</pre><b>In a Jupyter environment, please rerun this cell to show the HTML representation or trust the notebook. <br />On GitHub, the HTML representation is unable to render, please try loading this page with nbviewer.org.</b></div><div class=\"sk-container\" hidden><div class=\"sk-item\"><div class=\"sk-estimator sk-toggleable\"><input class=\"sk-toggleable__control sk-hidden--visually\" id=\"sk-estimator-id-12\" type=\"checkbox\" checked><label for=\"sk-estimator-id-12\" class=\"sk-toggleable__label sk-toggleable__label-arrow\">RandomForestClassifier</label><div class=\"sk-toggleable__content\"><pre>RandomForestClassifier(random_state=42)</pre></div></div></div></div></div>"
      ],
      "text/plain": [
       "RandomForestClassifier(random_state=42)"
      ]
     },
     "execution_count": 129,
     "metadata": {},
     "output_type": "execute_result"
    }
   ],
   "source": [
    "random_clr = RandomForestClassifier(random_state=42) \n",
    "random_clr.fit(x_train_50, y_train_upsampled)"
   ]
  },
  {
   "cell_type": "markdown",
   "id": "e6cb4d3c",
   "metadata": {},
   "source": [
    "# Cross Validation"
   ]
  },
  {
   "cell_type": "code",
   "execution_count": null,
   "id": "08352c09",
   "metadata": {},
   "outputs": [],
   "source": [
    "k_fold = KFold(n_splits=10, shuffle=True, random_state=0)\n",
    "y_scores = cross_val_score(random_clr, x_train_50, y_train_upsampled, cv=k_fold, n_jobs=1)\n",
    "print(y_scores)"
   ]
  },
  {
   "cell_type": "markdown",
   "id": "1e5c6389",
   "metadata": {},
   "source": [
    "# Train and Test Set"
   ]
  },
  {
   "cell_type": "code",
   "execution_count": null,
   "id": "26104bc4",
   "metadata": {},
   "outputs": [],
   "source": [
    "y_pred = random_clr.predict(x_test_50) # model 1 predictions\n",
    "pred_prob =  random_clr.predict_proba(x_test_50) #  returns the probabilities associated with each class"
   ]
  },
  {
   "cell_type": "markdown",
   "id": "db57aae3",
   "metadata": {},
   "source": [
    "# Confusion Matrix"
   ]
  },
  {
   "cell_type": "code",
   "execution_count": null,
   "id": "0e3f2b60",
   "metadata": {},
   "outputs": [],
   "source": [
    "confusion_matrix_1 = confusion_matrix(y_test, y_pred, labels=features)\n",
    "disp_plot = ConfusionMatrixDisplay(confusion_matrix_1, display_labels=features)\n",
    "disp_plot.plot();"
   ]
  },
  {
   "cell_type": "markdown",
   "id": "1b0e3c57",
   "metadata": {},
   "source": [
    "# Overall metrics "
   ]
  },
  {
   "cell_type": "code",
   "execution_count": null,
   "id": "50c45c4a",
   "metadata": {},
   "outputs": [],
   "source": [
    "overall_model_eval(y_test,y_pred)"
   ]
  },
  {
   "cell_type": "markdown",
   "id": "41fb70f7",
   "metadata": {},
   "source": [
    "# Evaluating metrics against each category"
   ]
  },
  {
   "cell_type": "code",
   "execution_count": null,
   "id": "b74f1fb6",
   "metadata": {},
   "outputs": [],
   "source": [
    "TPR_1, TNR_1, PPV_1, NPV_1, FPR_1, FNR_1, FDR_1, ACC_1 = each_cat_eval(confusion_matrix_1)"
   ]
  },
  {
   "cell_type": "code",
   "execution_count": null,
   "id": "9f1f4710",
   "metadata": {},
   "outputs": [],
   "source": [
    "print(classification_report(y_test, y_pred_1))"
   ]
  },
  {
   "cell_type": "markdown",
   "id": "9da0f38a",
   "metadata": {},
   "source": [
    "# ROC Curve "
   ]
  },
  {
   "cell_type": "code",
   "execution_count": null,
   "id": "43319bf7",
   "metadata": {},
   "outputs": [],
   "source": [
    "plot_roc_curves(y_test, pred_prob_1)"
   ]
  }
 ],
 "metadata": {
  "kernelspec": {
   "display_name": "Python 3 (ipykernel)",
   "language": "python",
   "name": "python3"
  },
  "language_info": {
   "codemirror_mode": {
    "name": "ipython",
    "version": 3
   },
   "file_extension": ".py",
   "mimetype": "text/x-python",
   "name": "python",
   "nbconvert_exporter": "python",
   "pygments_lexer": "ipython3",
   "version": "3.11.4"
  }
 },
 "nbformat": 4,
 "nbformat_minor": 5
}
