{
 "cells": [
  {
   "cell_type": "code",
   "execution_count": 1,
   "id": "8ac0efbf-233c-406b-9547-c8ff85a00d6a",
   "metadata": {
    "tags": []
   },
   "outputs": [],
   "source": [
    "import pandas as pd\n",
    "import numpy as np\n",
    "import matplotlib.pyplot as plt\n",
    "import cv2\n",
    "import scipy.ndimage as ndimage\n",
    "from sklearn.model_selection import train_test_split\n",
    "from sklearn.utils import resample\n",
    "from sklearn.preprocessing import StandardScaler\n",
    "from sklearn.cluster import KMeans\n",
    "from sklearn.metrics import silhouette_samples, silhouette_score, confusion_matrix, ConfusionMatrixDisplay\n",
    "import matplotlib.cm as cm\n",
    "from sklearn.mixture import GaussianMixture\n",
    "from sklearn.metrics import adjusted_rand_score"
   ]
  },
  {
   "cell_type": "code",
   "execution_count": 3,
   "id": "724373e2-b859-4193-b2dc-3ee93eea0555",
   "metadata": {
    "tags": []
   },
   "outputs": [],
   "source": [
    "from sklearn.decomposition import PCA\n",
    "from sklearn.neural_network import MLPClassifier\n",
    "from sklearn.metrics import accuracy_score"
   ]
  },
  {
   "cell_type": "code",
   "execution_count": 4,
   "id": "24755bb6-2f84-4ebf-ae11-32ebc26f1aa7",
   "metadata": {
    "tags": []
   },
   "outputs": [],
   "source": [
    "X_train = pd.read_csv(\"../x_train_all.csv\")\n",
    "X_test = pd.read_csv(\"../x_test_all.csv\")\n",
    "y_train = pd.read_csv(\"../y_train_all.csv\")\n",
    "y_test = pd.read_csv(\"../y_test_all.csv\")"
   ]
  },
  {
   "cell_type": "code",
   "execution_count": 5,
   "id": "b912e20c-d12a-430d-8c33-d4c88f5d3bec",
   "metadata": {
    "tags": []
   },
   "outputs": [
    {
     "name": "stderr",
     "output_type": "stream",
     "text": [
      "D:\\Applications\\Anaconda\\Lib\\site-packages\\sklearn\\neural_network\\_multilayer_perceptron.py:1102: DataConversionWarning: A column-vector y was passed when a 1d array was expected. Please change the shape of y to (n_samples, ), for example using ravel().\n",
      "  y = column_or_1d(y, warn=True)\n"
     ]
    },
    {
     "data": {
      "text/html": [
       "<style>#sk-container-id-1 {color: black;}#sk-container-id-1 pre{padding: 0;}#sk-container-id-1 div.sk-toggleable {background-color: white;}#sk-container-id-1 label.sk-toggleable__label {cursor: pointer;display: block;width: 100%;margin-bottom: 0;padding: 0.3em;box-sizing: border-box;text-align: center;}#sk-container-id-1 label.sk-toggleable__label-arrow:before {content: \"▸\";float: left;margin-right: 0.25em;color: #696969;}#sk-container-id-1 label.sk-toggleable__label-arrow:hover:before {color: black;}#sk-container-id-1 div.sk-estimator:hover label.sk-toggleable__label-arrow:before {color: black;}#sk-container-id-1 div.sk-toggleable__content {max-height: 0;max-width: 0;overflow: hidden;text-align: left;background-color: #f0f8ff;}#sk-container-id-1 div.sk-toggleable__content pre {margin: 0.2em;color: black;border-radius: 0.25em;background-color: #f0f8ff;}#sk-container-id-1 input.sk-toggleable__control:checked~div.sk-toggleable__content {max-height: 200px;max-width: 100%;overflow: auto;}#sk-container-id-1 input.sk-toggleable__control:checked~label.sk-toggleable__label-arrow:before {content: \"▾\";}#sk-container-id-1 div.sk-estimator input.sk-toggleable__control:checked~label.sk-toggleable__label {background-color: #d4ebff;}#sk-container-id-1 div.sk-label input.sk-toggleable__control:checked~label.sk-toggleable__label {background-color: #d4ebff;}#sk-container-id-1 input.sk-hidden--visually {border: 0;clip: rect(1px 1px 1px 1px);clip: rect(1px, 1px, 1px, 1px);height: 1px;margin: -1px;overflow: hidden;padding: 0;position: absolute;width: 1px;}#sk-container-id-1 div.sk-estimator {font-family: monospace;background-color: #f0f8ff;border: 1px dotted black;border-radius: 0.25em;box-sizing: border-box;margin-bottom: 0.5em;}#sk-container-id-1 div.sk-estimator:hover {background-color: #d4ebff;}#sk-container-id-1 div.sk-parallel-item::after {content: \"\";width: 100%;border-bottom: 1px solid gray;flex-grow: 1;}#sk-container-id-1 div.sk-label:hover label.sk-toggleable__label {background-color: #d4ebff;}#sk-container-id-1 div.sk-serial::before {content: \"\";position: absolute;border-left: 1px solid gray;box-sizing: border-box;top: 0;bottom: 0;left: 50%;z-index: 0;}#sk-container-id-1 div.sk-serial {display: flex;flex-direction: column;align-items: center;background-color: white;padding-right: 0.2em;padding-left: 0.2em;position: relative;}#sk-container-id-1 div.sk-item {position: relative;z-index: 1;}#sk-container-id-1 div.sk-parallel {display: flex;align-items: stretch;justify-content: center;background-color: white;position: relative;}#sk-container-id-1 div.sk-item::before, #sk-container-id-1 div.sk-parallel-item::before {content: \"\";position: absolute;border-left: 1px solid gray;box-sizing: border-box;top: 0;bottom: 0;left: 50%;z-index: -1;}#sk-container-id-1 div.sk-parallel-item {display: flex;flex-direction: column;z-index: 1;position: relative;background-color: white;}#sk-container-id-1 div.sk-parallel-item:first-child::after {align-self: flex-end;width: 50%;}#sk-container-id-1 div.sk-parallel-item:last-child::after {align-self: flex-start;width: 50%;}#sk-container-id-1 div.sk-parallel-item:only-child::after {width: 0;}#sk-container-id-1 div.sk-dashed-wrapped {border: 1px dashed gray;margin: 0 0.4em 0.5em 0.4em;box-sizing: border-box;padding-bottom: 0.4em;background-color: white;}#sk-container-id-1 div.sk-label label {font-family: monospace;font-weight: bold;display: inline-block;line-height: 1.2em;}#sk-container-id-1 div.sk-label-container {text-align: center;}#sk-container-id-1 div.sk-container {/* jupyter's `normalize.less` sets `[hidden] { display: none; }` but bootstrap.min.css set `[hidden] { display: none !important; }` so we also need the `!important` here to be able to override the default hidden behavior on the sphinx rendered scikit-learn.org. See: https://github.com/scikit-learn/scikit-learn/issues/21755 */display: inline-block !important;position: relative;}#sk-container-id-1 div.sk-text-repr-fallback {display: none;}</style><div id=\"sk-container-id-1\" class=\"sk-top-container\"><div class=\"sk-text-repr-fallback\"><pre>MLPClassifier(alpha=1e-05, hidden_layer_sizes=(20, 20, 20), random_state=1)</pre><b>In a Jupyter environment, please rerun this cell to show the HTML representation or trust the notebook. <br />On GitHub, the HTML representation is unable to render, please try loading this page with nbviewer.org.</b></div><div class=\"sk-container\" hidden><div class=\"sk-item\"><div class=\"sk-estimator sk-toggleable\"><input class=\"sk-toggleable__control sk-hidden--visually\" id=\"sk-estimator-id-1\" type=\"checkbox\" checked><label for=\"sk-estimator-id-1\" class=\"sk-toggleable__label sk-toggleable__label-arrow\">MLPClassifier</label><div class=\"sk-toggleable__content\"><pre>MLPClassifier(alpha=1e-05, hidden_layer_sizes=(20, 20, 20), random_state=1)</pre></div></div></div></div></div>"
      ],
      "text/plain": [
       "MLPClassifier(alpha=1e-05, hidden_layer_sizes=(20, 20, 20), random_state=1)"
      ]
     },
     "execution_count": 5,
     "metadata": {},
     "output_type": "execute_result"
    }
   ],
   "source": [
    "clf = MLPClassifier(solver='adam', alpha=1e-5, hidden_layer_sizes=(20, 20, 20), random_state=1)\n",
    "clf.fit(X_train, y_train)"
   ]
  },
  {
   "cell_type": "code",
   "execution_count": 11,
   "id": "59eedd18-f3ac-4fba-848a-1dda7ed1a98e",
   "metadata": {
    "tags": []
   },
   "outputs": [
    {
     "name": "stdout",
     "output_type": "stream",
     "text": [
      "accuracy: 0.24271844660194175\n"
     ]
    }
   ],
   "source": [
    "y_hat = clf.predict(X_test)\n",
    "\n",
    "print(\"accuracy: \" + str(accuracy_score(y_test, y_hat)))"
   ]
  },
  {
   "cell_type": "code",
   "execution_count": 6,
   "id": "b09a9e28-11fc-46e3-8afb-7d1e0f8e1931",
   "metadata": {
    "tags": []
   },
   "outputs": [],
   "source": [
    "pca_dims = PCA()\n",
    "pca_dims.fit(X_train)\n",
    "cumsum = np.cumsum(pca_dims.explained_variance_ratio_)\n",
    "d = np.argmax(cumsum >= 0.98) + 1"
   ]
  },
  {
   "cell_type": "code",
   "execution_count": 7,
   "id": "3b62ccca-b068-46ad-b859-1d8b91feb065",
   "metadata": {
    "tags": []
   },
   "outputs": [
    {
     "data": {
      "text/plain": [
       "190"
      ]
     },
     "execution_count": 7,
     "metadata": {},
     "output_type": "execute_result"
    }
   ],
   "source": [
    "d"
   ]
  },
  {
   "cell_type": "code",
   "execution_count": 8,
   "id": "e88d9e37-e4bf-40e0-a67c-78f49a5b2971",
   "metadata": {
    "tags": []
   },
   "outputs": [],
   "source": [
    "pca = PCA(n_components=d)\n",
    "X_train_PCA = pca.fit_transform(X_train)\n",
    "X_test_PCA = pca.transform(X_test)"
   ]
  },
  {
   "cell_type": "code",
   "execution_count": 9,
   "id": "93faa22a-0df7-4d76-bf3c-5fad219de634",
   "metadata": {
    "tags": []
   },
   "outputs": [
    {
     "data": {
      "text/html": [
       "<div>\n",
       "<style scoped>\n",
       "    .dataframe tbody tr th:only-of-type {\n",
       "        vertical-align: middle;\n",
       "    }\n",
       "\n",
       "    .dataframe tbody tr th {\n",
       "        vertical-align: top;\n",
       "    }\n",
       "\n",
       "    .dataframe thead th {\n",
       "        text-align: right;\n",
       "    }\n",
       "</style>\n",
       "<table border=\"1\" class=\"dataframe\">\n",
       "  <thead>\n",
       "    <tr style=\"text-align: right;\">\n",
       "      <th></th>\n",
       "      <th>0</th>\n",
       "      <th>1</th>\n",
       "      <th>2</th>\n",
       "      <th>3</th>\n",
       "      <th>4</th>\n",
       "      <th>5</th>\n",
       "      <th>6</th>\n",
       "      <th>7</th>\n",
       "      <th>8</th>\n",
       "      <th>9</th>\n",
       "      <th>...</th>\n",
       "      <th>180</th>\n",
       "      <th>181</th>\n",
       "      <th>182</th>\n",
       "      <th>183</th>\n",
       "      <th>184</th>\n",
       "      <th>185</th>\n",
       "      <th>186</th>\n",
       "      <th>187</th>\n",
       "      <th>188</th>\n",
       "      <th>189</th>\n",
       "    </tr>\n",
       "  </thead>\n",
       "  <tbody>\n",
       "    <tr>\n",
       "      <th>0</th>\n",
       "      <td>1833.678654</td>\n",
       "      <td>-327.432280</td>\n",
       "      <td>-247.743190</td>\n",
       "      <td>-608.483725</td>\n",
       "      <td>-348.793585</td>\n",
       "      <td>651.336688</td>\n",
       "      <td>303.656041</td>\n",
       "      <td>-10.808890</td>\n",
       "      <td>-408.737283</td>\n",
       "      <td>-79.937797</td>\n",
       "      <td>...</td>\n",
       "      <td>73.749596</td>\n",
       "      <td>47.121446</td>\n",
       "      <td>-1.559719</td>\n",
       "      <td>-49.890122</td>\n",
       "      <td>-25.235650</td>\n",
       "      <td>-7.626771</td>\n",
       "      <td>-59.818118</td>\n",
       "      <td>-5.194924</td>\n",
       "      <td>24.668221</td>\n",
       "      <td>-7.731069</td>\n",
       "    </tr>\n",
       "    <tr>\n",
       "      <th>1</th>\n",
       "      <td>1859.007019</td>\n",
       "      <td>-349.977157</td>\n",
       "      <td>-192.222284</td>\n",
       "      <td>-595.379147</td>\n",
       "      <td>-443.962326</td>\n",
       "      <td>680.431301</td>\n",
       "      <td>207.689800</td>\n",
       "      <td>5.860358</td>\n",
       "      <td>-543.227347</td>\n",
       "      <td>-130.359784</td>\n",
       "      <td>...</td>\n",
       "      <td>35.931268</td>\n",
       "      <td>27.522726</td>\n",
       "      <td>-7.644062</td>\n",
       "      <td>-39.559918</td>\n",
       "      <td>66.178722</td>\n",
       "      <td>-6.451957</td>\n",
       "      <td>4.468528</td>\n",
       "      <td>-39.188194</td>\n",
       "      <td>46.513128</td>\n",
       "      <td>4.021870</td>\n",
       "    </tr>\n",
       "    <tr>\n",
       "      <th>2</th>\n",
       "      <td>1764.509881</td>\n",
       "      <td>-388.614024</td>\n",
       "      <td>-133.034248</td>\n",
       "      <td>-686.073427</td>\n",
       "      <td>-473.539395</td>\n",
       "      <td>771.513302</td>\n",
       "      <td>156.383293</td>\n",
       "      <td>138.760531</td>\n",
       "      <td>-385.598176</td>\n",
       "      <td>-246.734274</td>\n",
       "      <td>...</td>\n",
       "      <td>47.968682</td>\n",
       "      <td>-2.119534</td>\n",
       "      <td>3.244944</td>\n",
       "      <td>-52.359147</td>\n",
       "      <td>3.366024</td>\n",
       "      <td>-30.348812</td>\n",
       "      <td>-18.173457</td>\n",
       "      <td>-50.676128</td>\n",
       "      <td>42.201180</td>\n",
       "      <td>-30.702801</td>\n",
       "    </tr>\n",
       "    <tr>\n",
       "      <th>3</th>\n",
       "      <td>1676.632914</td>\n",
       "      <td>-400.702911</td>\n",
       "      <td>-100.745308</td>\n",
       "      <td>-732.746033</td>\n",
       "      <td>-495.178380</td>\n",
       "      <td>677.334759</td>\n",
       "      <td>92.548671</td>\n",
       "      <td>214.775876</td>\n",
       "      <td>-312.437294</td>\n",
       "      <td>-322.254863</td>\n",
       "      <td>...</td>\n",
       "      <td>24.781896</td>\n",
       "      <td>-57.433932</td>\n",
       "      <td>6.714526</td>\n",
       "      <td>-62.827484</td>\n",
       "      <td>-9.059210</td>\n",
       "      <td>-69.649016</td>\n",
       "      <td>-22.580937</td>\n",
       "      <td>6.538643</td>\n",
       "      <td>21.419138</td>\n",
       "      <td>-20.205969</td>\n",
       "    </tr>\n",
       "    <tr>\n",
       "      <th>4</th>\n",
       "      <td>1902.532764</td>\n",
       "      <td>-338.990792</td>\n",
       "      <td>-62.149332</td>\n",
       "      <td>-692.201419</td>\n",
       "      <td>-284.736494</td>\n",
       "      <td>617.853669</td>\n",
       "      <td>387.861183</td>\n",
       "      <td>-36.146923</td>\n",
       "      <td>-536.267405</td>\n",
       "      <td>51.230155</td>\n",
       "      <td>...</td>\n",
       "      <td>28.766392</td>\n",
       "      <td>13.167195</td>\n",
       "      <td>3.450026</td>\n",
       "      <td>39.100268</td>\n",
       "      <td>15.038274</td>\n",
       "      <td>17.571253</td>\n",
       "      <td>26.587306</td>\n",
       "      <td>48.843919</td>\n",
       "      <td>18.763838</td>\n",
       "      <td>-31.684589</td>\n",
       "    </tr>\n",
       "    <tr>\n",
       "      <th>...</th>\n",
       "      <td>...</td>\n",
       "      <td>...</td>\n",
       "      <td>...</td>\n",
       "      <td>...</td>\n",
       "      <td>...</td>\n",
       "      <td>...</td>\n",
       "      <td>...</td>\n",
       "      <td>...</td>\n",
       "      <td>...</td>\n",
       "      <td>...</td>\n",
       "      <td>...</td>\n",
       "      <td>...</td>\n",
       "      <td>...</td>\n",
       "      <td>...</td>\n",
       "      <td>...</td>\n",
       "      <td>...</td>\n",
       "      <td>...</td>\n",
       "      <td>...</td>\n",
       "      <td>...</td>\n",
       "      <td>...</td>\n",
       "      <td>...</td>\n",
       "    </tr>\n",
       "    <tr>\n",
       "      <th>9685</th>\n",
       "      <td>987.795453</td>\n",
       "      <td>1450.984446</td>\n",
       "      <td>-1503.450258</td>\n",
       "      <td>-1658.624172</td>\n",
       "      <td>-413.021044</td>\n",
       "      <td>-330.777652</td>\n",
       "      <td>181.004823</td>\n",
       "      <td>-1054.856192</td>\n",
       "      <td>903.459284</td>\n",
       "      <td>-37.745462</td>\n",
       "      <td>...</td>\n",
       "      <td>81.496529</td>\n",
       "      <td>24.218654</td>\n",
       "      <td>15.471021</td>\n",
       "      <td>118.849391</td>\n",
       "      <td>30.681019</td>\n",
       "      <td>-51.912946</td>\n",
       "      <td>-101.447268</td>\n",
       "      <td>-3.865894</td>\n",
       "      <td>-11.852278</td>\n",
       "      <td>80.073824</td>\n",
       "    </tr>\n",
       "    <tr>\n",
       "      <th>9686</th>\n",
       "      <td>1017.324304</td>\n",
       "      <td>1511.469231</td>\n",
       "      <td>-1452.548502</td>\n",
       "      <td>-1577.032597</td>\n",
       "      <td>-653.548399</td>\n",
       "      <td>-414.617195</td>\n",
       "      <td>-148.818350</td>\n",
       "      <td>-821.675374</td>\n",
       "      <td>789.396003</td>\n",
       "      <td>71.777543</td>\n",
       "      <td>...</td>\n",
       "      <td>89.976976</td>\n",
       "      <td>-125.122782</td>\n",
       "      <td>-38.123860</td>\n",
       "      <td>-134.678820</td>\n",
       "      <td>113.873970</td>\n",
       "      <td>75.546858</td>\n",
       "      <td>-23.144517</td>\n",
       "      <td>88.560946</td>\n",
       "      <td>-114.101140</td>\n",
       "      <td>-76.087135</td>\n",
       "    </tr>\n",
       "    <tr>\n",
       "      <th>9687</th>\n",
       "      <td>985.864551</td>\n",
       "      <td>1719.211492</td>\n",
       "      <td>-1749.455042</td>\n",
       "      <td>-1361.267595</td>\n",
       "      <td>28.937440</td>\n",
       "      <td>290.977623</td>\n",
       "      <td>280.584759</td>\n",
       "      <td>-954.103194</td>\n",
       "      <td>352.117145</td>\n",
       "      <td>-86.529881</td>\n",
       "      <td>...</td>\n",
       "      <td>68.080523</td>\n",
       "      <td>-36.448314</td>\n",
       "      <td>-129.560546</td>\n",
       "      <td>-135.100893</td>\n",
       "      <td>-15.340889</td>\n",
       "      <td>-189.870729</td>\n",
       "      <td>3.962649</td>\n",
       "      <td>-19.706874</td>\n",
       "      <td>-12.071349</td>\n",
       "      <td>-58.158713</td>\n",
       "    </tr>\n",
       "    <tr>\n",
       "      <th>9688</th>\n",
       "      <td>1180.694571</td>\n",
       "      <td>1818.178520</td>\n",
       "      <td>-1816.040253</td>\n",
       "      <td>-1798.650930</td>\n",
       "      <td>-378.454306</td>\n",
       "      <td>-145.034630</td>\n",
       "      <td>361.183137</td>\n",
       "      <td>-795.636985</td>\n",
       "      <td>375.357872</td>\n",
       "      <td>-119.636065</td>\n",
       "      <td>...</td>\n",
       "      <td>-7.148296</td>\n",
       "      <td>-33.720352</td>\n",
       "      <td>133.685937</td>\n",
       "      <td>94.094699</td>\n",
       "      <td>58.182214</td>\n",
       "      <td>-76.917749</td>\n",
       "      <td>-0.165229</td>\n",
       "      <td>47.638126</td>\n",
       "      <td>-4.538020</td>\n",
       "      <td>130.991348</td>\n",
       "    </tr>\n",
       "    <tr>\n",
       "      <th>9689</th>\n",
       "      <td>564.088760</td>\n",
       "      <td>1545.222780</td>\n",
       "      <td>-854.697719</td>\n",
       "      <td>-1612.762414</td>\n",
       "      <td>-809.463743</td>\n",
       "      <td>-561.455928</td>\n",
       "      <td>-354.340316</td>\n",
       "      <td>-597.223387</td>\n",
       "      <td>236.025942</td>\n",
       "      <td>25.567232</td>\n",
       "      <td>...</td>\n",
       "      <td>69.622218</td>\n",
       "      <td>20.589826</td>\n",
       "      <td>-58.126839</td>\n",
       "      <td>-2.359359</td>\n",
       "      <td>60.261183</td>\n",
       "      <td>-88.649687</td>\n",
       "      <td>-11.571431</td>\n",
       "      <td>82.457563</td>\n",
       "      <td>-14.598246</td>\n",
       "      <td>53.186251</td>\n",
       "    </tr>\n",
       "  </tbody>\n",
       "</table>\n",
       "<p>9690 rows × 190 columns</p>\n",
       "</div>"
      ],
      "text/plain": [
       "              0            1            2            3           4    \\\n",
       "0     1833.678654  -327.432280  -247.743190  -608.483725 -348.793585   \n",
       "1     1859.007019  -349.977157  -192.222284  -595.379147 -443.962326   \n",
       "2     1764.509881  -388.614024  -133.034248  -686.073427 -473.539395   \n",
       "3     1676.632914  -400.702911  -100.745308  -732.746033 -495.178380   \n",
       "4     1902.532764  -338.990792   -62.149332  -692.201419 -284.736494   \n",
       "...           ...          ...          ...          ...         ...   \n",
       "9685   987.795453  1450.984446 -1503.450258 -1658.624172 -413.021044   \n",
       "9686  1017.324304  1511.469231 -1452.548502 -1577.032597 -653.548399   \n",
       "9687   985.864551  1719.211492 -1749.455042 -1361.267595   28.937440   \n",
       "9688  1180.694571  1818.178520 -1816.040253 -1798.650930 -378.454306   \n",
       "9689   564.088760  1545.222780  -854.697719 -1612.762414 -809.463743   \n",
       "\n",
       "             5           6            7           8           9    ...  \\\n",
       "0     651.336688  303.656041   -10.808890 -408.737283  -79.937797  ...   \n",
       "1     680.431301  207.689800     5.860358 -543.227347 -130.359784  ...   \n",
       "2     771.513302  156.383293   138.760531 -385.598176 -246.734274  ...   \n",
       "3     677.334759   92.548671   214.775876 -312.437294 -322.254863  ...   \n",
       "4     617.853669  387.861183   -36.146923 -536.267405   51.230155  ...   \n",
       "...          ...         ...          ...         ...         ...  ...   \n",
       "9685 -330.777652  181.004823 -1054.856192  903.459284  -37.745462  ...   \n",
       "9686 -414.617195 -148.818350  -821.675374  789.396003   71.777543  ...   \n",
       "9687  290.977623  280.584759  -954.103194  352.117145  -86.529881  ...   \n",
       "9688 -145.034630  361.183137  -795.636985  375.357872 -119.636065  ...   \n",
       "9689 -561.455928 -354.340316  -597.223387  236.025942   25.567232  ...   \n",
       "\n",
       "            180         181         182         183         184         185  \\\n",
       "0     73.749596   47.121446   -1.559719  -49.890122  -25.235650   -7.626771   \n",
       "1     35.931268   27.522726   -7.644062  -39.559918   66.178722   -6.451957   \n",
       "2     47.968682   -2.119534    3.244944  -52.359147    3.366024  -30.348812   \n",
       "3     24.781896  -57.433932    6.714526  -62.827484   -9.059210  -69.649016   \n",
       "4     28.766392   13.167195    3.450026   39.100268   15.038274   17.571253   \n",
       "...         ...         ...         ...         ...         ...         ...   \n",
       "9685  81.496529   24.218654   15.471021  118.849391   30.681019  -51.912946   \n",
       "9686  89.976976 -125.122782  -38.123860 -134.678820  113.873970   75.546858   \n",
       "9687  68.080523  -36.448314 -129.560546 -135.100893  -15.340889 -189.870729   \n",
       "9688  -7.148296  -33.720352  133.685937   94.094699   58.182214  -76.917749   \n",
       "9689  69.622218   20.589826  -58.126839   -2.359359   60.261183  -88.649687   \n",
       "\n",
       "             186        187         188         189  \n",
       "0     -59.818118  -5.194924   24.668221   -7.731069  \n",
       "1       4.468528 -39.188194   46.513128    4.021870  \n",
       "2     -18.173457 -50.676128   42.201180  -30.702801  \n",
       "3     -22.580937   6.538643   21.419138  -20.205969  \n",
       "4      26.587306  48.843919   18.763838  -31.684589  \n",
       "...          ...        ...         ...         ...  \n",
       "9685 -101.447268  -3.865894  -11.852278   80.073824  \n",
       "9686  -23.144517  88.560946 -114.101140  -76.087135  \n",
       "9687    3.962649 -19.706874  -12.071349  -58.158713  \n",
       "9688   -0.165229  47.638126   -4.538020  130.991348  \n",
       "9689  -11.571431  82.457563  -14.598246   53.186251  \n",
       "\n",
       "[9690 rows x 190 columns]"
      ]
     },
     "execution_count": 9,
     "metadata": {},
     "output_type": "execute_result"
    }
   ],
   "source": [
    "X_train_PCA = pd.DataFrame(X_train_PCA)\n",
    "# X_train_PCA.reset_index(drop=True, inplace=True)\n",
    "X_train_PCA"
   ]
  },
  {
   "cell_type": "code",
   "execution_count": 10,
   "id": "292113d5-0644-4a72-9f0c-59d2b3e204be",
   "metadata": {
    "tags": []
   },
   "outputs": [
    {
     "name": "stderr",
     "output_type": "stream",
     "text": [
      "D:\\Applications\\Anaconda\\Lib\\site-packages\\sklearn\\neural_network\\_multilayer_perceptron.py:1102: DataConversionWarning: A column-vector y was passed when a 1d array was expected. Please change the shape of y to (n_samples, ), for example using ravel().\n",
      "  y = column_or_1d(y, warn=True)\n"
     ]
    },
    {
     "data": {
      "text/html": [
       "<style>#sk-container-id-2 {color: black;}#sk-container-id-2 pre{padding: 0;}#sk-container-id-2 div.sk-toggleable {background-color: white;}#sk-container-id-2 label.sk-toggleable__label {cursor: pointer;display: block;width: 100%;margin-bottom: 0;padding: 0.3em;box-sizing: border-box;text-align: center;}#sk-container-id-2 label.sk-toggleable__label-arrow:before {content: \"▸\";float: left;margin-right: 0.25em;color: #696969;}#sk-container-id-2 label.sk-toggleable__label-arrow:hover:before {color: black;}#sk-container-id-2 div.sk-estimator:hover label.sk-toggleable__label-arrow:before {color: black;}#sk-container-id-2 div.sk-toggleable__content {max-height: 0;max-width: 0;overflow: hidden;text-align: left;background-color: #f0f8ff;}#sk-container-id-2 div.sk-toggleable__content pre {margin: 0.2em;color: black;border-radius: 0.25em;background-color: #f0f8ff;}#sk-container-id-2 input.sk-toggleable__control:checked~div.sk-toggleable__content {max-height: 200px;max-width: 100%;overflow: auto;}#sk-container-id-2 input.sk-toggleable__control:checked~label.sk-toggleable__label-arrow:before {content: \"▾\";}#sk-container-id-2 div.sk-estimator input.sk-toggleable__control:checked~label.sk-toggleable__label {background-color: #d4ebff;}#sk-container-id-2 div.sk-label input.sk-toggleable__control:checked~label.sk-toggleable__label {background-color: #d4ebff;}#sk-container-id-2 input.sk-hidden--visually {border: 0;clip: rect(1px 1px 1px 1px);clip: rect(1px, 1px, 1px, 1px);height: 1px;margin: -1px;overflow: hidden;padding: 0;position: absolute;width: 1px;}#sk-container-id-2 div.sk-estimator {font-family: monospace;background-color: #f0f8ff;border: 1px dotted black;border-radius: 0.25em;box-sizing: border-box;margin-bottom: 0.5em;}#sk-container-id-2 div.sk-estimator:hover {background-color: #d4ebff;}#sk-container-id-2 div.sk-parallel-item::after {content: \"\";width: 100%;border-bottom: 1px solid gray;flex-grow: 1;}#sk-container-id-2 div.sk-label:hover label.sk-toggleable__label {background-color: #d4ebff;}#sk-container-id-2 div.sk-serial::before {content: \"\";position: absolute;border-left: 1px solid gray;box-sizing: border-box;top: 0;bottom: 0;left: 50%;z-index: 0;}#sk-container-id-2 div.sk-serial {display: flex;flex-direction: column;align-items: center;background-color: white;padding-right: 0.2em;padding-left: 0.2em;position: relative;}#sk-container-id-2 div.sk-item {position: relative;z-index: 1;}#sk-container-id-2 div.sk-parallel {display: flex;align-items: stretch;justify-content: center;background-color: white;position: relative;}#sk-container-id-2 div.sk-item::before, #sk-container-id-2 div.sk-parallel-item::before {content: \"\";position: absolute;border-left: 1px solid gray;box-sizing: border-box;top: 0;bottom: 0;left: 50%;z-index: -1;}#sk-container-id-2 div.sk-parallel-item {display: flex;flex-direction: column;z-index: 1;position: relative;background-color: white;}#sk-container-id-2 div.sk-parallel-item:first-child::after {align-self: flex-end;width: 50%;}#sk-container-id-2 div.sk-parallel-item:last-child::after {align-self: flex-start;width: 50%;}#sk-container-id-2 div.sk-parallel-item:only-child::after {width: 0;}#sk-container-id-2 div.sk-dashed-wrapped {border: 1px dashed gray;margin: 0 0.4em 0.5em 0.4em;box-sizing: border-box;padding-bottom: 0.4em;background-color: white;}#sk-container-id-2 div.sk-label label {font-family: monospace;font-weight: bold;display: inline-block;line-height: 1.2em;}#sk-container-id-2 div.sk-label-container {text-align: center;}#sk-container-id-2 div.sk-container {/* jupyter's `normalize.less` sets `[hidden] { display: none; }` but bootstrap.min.css set `[hidden] { display: none !important; }` so we also need the `!important` here to be able to override the default hidden behavior on the sphinx rendered scikit-learn.org. See: https://github.com/scikit-learn/scikit-learn/issues/21755 */display: inline-block !important;position: relative;}#sk-container-id-2 div.sk-text-repr-fallback {display: none;}</style><div id=\"sk-container-id-2\" class=\"sk-top-container\"><div class=\"sk-text-repr-fallback\"><pre>MLPClassifier(alpha=1e-05, hidden_layer_sizes=(20, 20, 20))</pre><b>In a Jupyter environment, please rerun this cell to show the HTML representation or trust the notebook. <br />On GitHub, the HTML representation is unable to render, please try loading this page with nbviewer.org.</b></div><div class=\"sk-container\" hidden><div class=\"sk-item\"><div class=\"sk-estimator sk-toggleable\"><input class=\"sk-toggleable__control sk-hidden--visually\" id=\"sk-estimator-id-2\" type=\"checkbox\" checked><label for=\"sk-estimator-id-2\" class=\"sk-toggleable__label sk-toggleable__label-arrow\">MLPClassifier</label><div class=\"sk-toggleable__content\"><pre>MLPClassifier(alpha=1e-05, hidden_layer_sizes=(20, 20, 20))</pre></div></div></div></div></div>"
      ],
      "text/plain": [
       "MLPClassifier(alpha=1e-05, hidden_layer_sizes=(20, 20, 20))"
      ]
     },
     "execution_count": 10,
     "metadata": {},
     "output_type": "execute_result"
    }
   ],
   "source": [
    "clf_reduced = MLPClassifier(solver='adam', alpha=1e-5, hidden_layer_sizes=(20, 20, 20))\n",
    "clf_reduced.fit(X_train_PCA, y_train)"
   ]
  },
  {
   "cell_type": "code",
   "execution_count": 12,
   "id": "319667fd-1582-49d0-8717-c2cf9352cc39",
   "metadata": {
    "tags": []
   },
   "outputs": [
    {
     "name": "stdout",
     "output_type": "stream",
     "text": [
      "accuracy: 0.7414239482200647\n"
     ]
    }
   ],
   "source": [
    "X_test_reduced = pca.transform(X_test)\n",
    "\n",
    "y_hat_reduced = clf_reduced.predict(X_test_reduced)\n",
    "\n",
    "print(\"accuracy: \" + str(accuracy_score(y_test, y_hat_reduced)))"
   ]
  }
 ],
 "metadata": {
  "kernelspec": {
   "display_name": "Python 3 (ipykernel)",
   "language": "python",
   "name": "python3"
  },
  "language_info": {
   "codemirror_mode": {
    "name": "ipython",
    "version": 3
   },
   "file_extension": ".py",
   "mimetype": "text/x-python",
   "name": "python",
   "nbconvert_exporter": "python",
   "pygments_lexer": "ipython3",
   "version": "3.11.4"
  }
 },
 "nbformat": 4,
 "nbformat_minor": 5
}
