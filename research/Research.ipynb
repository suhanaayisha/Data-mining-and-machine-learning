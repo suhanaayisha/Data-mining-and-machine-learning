{
 "cells": [
  {
   "cell_type": "code",
   "execution_count": 546,
   "id": "I9Tm3p7rSs-T",
   "metadata": {
    "id": "I9Tm3p7rSs-T"
   },
   "outputs": [],
   "source": [
    "import os\n",
    "\n",
    "import pandas as pd\n",
    "import numpy as np\n",
    "import matplotlib.pyplot as plt\n",
    "\n",
    "import seaborn as sns\n",
    "from sklearn.ensemble import RandomForestClassifier\n",
    "from sklearn.model_selection import train_test_split, cross_val_score\n",
    "\n",
    "from sklearn.metrics import (\n",
    "    accuracy_score,\n",
    "    f1_score,\n",
    "    precision_score,\n",
    "    recall_score,\n",
    ")"
   ]
  },
  {
   "cell_type": "markdown",
   "id": "JAbLO1xmSs-e",
   "metadata": {
    "id": "JAbLO1xmSs-e"
   },
   "source": [
    "# 1. Loading the dataset:"
   ]
  },
  {
   "cell_type": "code",
   "execution_count": 547,
   "id": "Ww7t8BVTSs-f",
   "metadata": {
    "id": "Ww7t8BVTSs-f"
   },
   "outputs": [],
   "source": [
    "df = pd.read_csv(\"train.csv\")\n",
    "y = df['Survived'] \n",
    "X = df.drop([\"Survived\"], axis=1)"
   ]
  },
  {
   "cell_type": "code",
   "execution_count": 548,
   "id": "3c5d80c9",
   "metadata": {},
   "outputs": [],
   "source": [
    "X_train, X_test, y_train, y_test = train_test_split(X, y, test_size=0.25, random_state=42)"
   ]
  },
  {
   "cell_type": "markdown",
   "id": "0rHy5hLeSs-i",
   "metadata": {
    "id": "0rHy5hLeSs-i"
   },
   "source": [
    "## Display dataset"
   ]
  },
  {
   "cell_type": "code",
   "execution_count": 549,
   "id": "kTe3F5yMSs-i",
   "metadata": {
    "colab": {
     "base_uri": "https://localhost:8080/",
     "height": 206
    },
    "id": "kTe3F5yMSs-i",
    "outputId": "7a7064ba-9f4c-4a57-e62f-422b8e7d381c",
    "scrolled": true
   },
   "outputs": [
    {
     "data": {
      "text/html": [
       "<div>\n",
       "<style scoped>\n",
       "    .dataframe tbody tr th:only-of-type {\n",
       "        vertical-align: middle;\n",
       "    }\n",
       "\n",
       "    .dataframe tbody tr th {\n",
       "        vertical-align: top;\n",
       "    }\n",
       "\n",
       "    .dataframe thead th {\n",
       "        text-align: right;\n",
       "    }\n",
       "</style>\n",
       "<table border=\"1\" class=\"dataframe\">\n",
       "  <thead>\n",
       "    <tr style=\"text-align: right;\">\n",
       "      <th></th>\n",
       "      <th>PassengerId</th>\n",
       "      <th>Survived</th>\n",
       "      <th>Pclass</th>\n",
       "      <th>Name</th>\n",
       "      <th>Sex</th>\n",
       "      <th>Age</th>\n",
       "      <th>SibSp</th>\n",
       "      <th>Parch</th>\n",
       "      <th>Ticket</th>\n",
       "      <th>Fare</th>\n",
       "      <th>Cabin</th>\n",
       "      <th>Embarked</th>\n",
       "    </tr>\n",
       "  </thead>\n",
       "  <tbody>\n",
       "    <tr>\n",
       "      <th>0</th>\n",
       "      <td>1</td>\n",
       "      <td>0</td>\n",
       "      <td>3</td>\n",
       "      <td>Braund, Mr. Owen Harris</td>\n",
       "      <td>male</td>\n",
       "      <td>22.0</td>\n",
       "      <td>1</td>\n",
       "      <td>0</td>\n",
       "      <td>A/5 21171</td>\n",
       "      <td>7.2500</td>\n",
       "      <td>NaN</td>\n",
       "      <td>S</td>\n",
       "    </tr>\n",
       "    <tr>\n",
       "      <th>1</th>\n",
       "      <td>2</td>\n",
       "      <td>1</td>\n",
       "      <td>1</td>\n",
       "      <td>Cumings, Mrs. John Bradley (Florence Briggs Th...</td>\n",
       "      <td>female</td>\n",
       "      <td>38.0</td>\n",
       "      <td>1</td>\n",
       "      <td>0</td>\n",
       "      <td>PC 17599</td>\n",
       "      <td>71.2833</td>\n",
       "      <td>C85</td>\n",
       "      <td>C</td>\n",
       "    </tr>\n",
       "    <tr>\n",
       "      <th>2</th>\n",
       "      <td>3</td>\n",
       "      <td>1</td>\n",
       "      <td>3</td>\n",
       "      <td>Heikkinen, Miss. Laina</td>\n",
       "      <td>female</td>\n",
       "      <td>26.0</td>\n",
       "      <td>0</td>\n",
       "      <td>0</td>\n",
       "      <td>STON/O2. 3101282</td>\n",
       "      <td>7.9250</td>\n",
       "      <td>NaN</td>\n",
       "      <td>S</td>\n",
       "    </tr>\n",
       "    <tr>\n",
       "      <th>3</th>\n",
       "      <td>4</td>\n",
       "      <td>1</td>\n",
       "      <td>1</td>\n",
       "      <td>Futrelle, Mrs. Jacques Heath (Lily May Peel)</td>\n",
       "      <td>female</td>\n",
       "      <td>35.0</td>\n",
       "      <td>1</td>\n",
       "      <td>0</td>\n",
       "      <td>113803</td>\n",
       "      <td>53.1000</td>\n",
       "      <td>C123</td>\n",
       "      <td>S</td>\n",
       "    </tr>\n",
       "    <tr>\n",
       "      <th>4</th>\n",
       "      <td>5</td>\n",
       "      <td>0</td>\n",
       "      <td>3</td>\n",
       "      <td>Allen, Mr. William Henry</td>\n",
       "      <td>male</td>\n",
       "      <td>35.0</td>\n",
       "      <td>0</td>\n",
       "      <td>0</td>\n",
       "      <td>373450</td>\n",
       "      <td>8.0500</td>\n",
       "      <td>NaN</td>\n",
       "      <td>S</td>\n",
       "    </tr>\n",
       "  </tbody>\n",
       "</table>\n",
       "</div>"
      ],
      "text/plain": [
       "   PassengerId  Survived  Pclass  \\\n",
       "0            1         0       3   \n",
       "1            2         1       1   \n",
       "2            3         1       3   \n",
       "3            4         1       1   \n",
       "4            5         0       3   \n",
       "\n",
       "                                                Name     Sex   Age  SibSp  \\\n",
       "0                            Braund, Mr. Owen Harris    male  22.0      1   \n",
       "1  Cumings, Mrs. John Bradley (Florence Briggs Th...  female  38.0      1   \n",
       "2                             Heikkinen, Miss. Laina  female  26.0      0   \n",
       "3       Futrelle, Mrs. Jacques Heath (Lily May Peel)  female  35.0      1   \n",
       "4                           Allen, Mr. William Henry    male  35.0      0   \n",
       "\n",
       "   Parch            Ticket     Fare Cabin Embarked  \n",
       "0      0         A/5 21171   7.2500   NaN        S  \n",
       "1      0          PC 17599  71.2833   C85        C  \n",
       "2      0  STON/O2. 3101282   7.9250   NaN        S  \n",
       "3      0            113803  53.1000  C123        S  \n",
       "4      0            373450   8.0500   NaN        S  "
      ]
     },
     "execution_count": 549,
     "metadata": {},
     "output_type": "execute_result"
    }
   ],
   "source": [
    "df.head()"
   ]
  },
  {
   "cell_type": "markdown",
   "id": "35ae48b6",
   "metadata": {},
   "source": [
    "## Display train data"
   ]
  },
  {
   "cell_type": "code",
   "execution_count": 550,
   "id": "86400c72",
   "metadata": {},
   "outputs": [
    {
     "data": {
      "text/html": [
       "<div>\n",
       "<style scoped>\n",
       "    .dataframe tbody tr th:only-of-type {\n",
       "        vertical-align: middle;\n",
       "    }\n",
       "\n",
       "    .dataframe tbody tr th {\n",
       "        vertical-align: top;\n",
       "    }\n",
       "\n",
       "    .dataframe thead th {\n",
       "        text-align: right;\n",
       "    }\n",
       "</style>\n",
       "<table border=\"1\" class=\"dataframe\">\n",
       "  <thead>\n",
       "    <tr style=\"text-align: right;\">\n",
       "      <th></th>\n",
       "      <th>PassengerId</th>\n",
       "      <th>Pclass</th>\n",
       "      <th>Name</th>\n",
       "      <th>Sex</th>\n",
       "      <th>Age</th>\n",
       "      <th>SibSp</th>\n",
       "      <th>Parch</th>\n",
       "      <th>Ticket</th>\n",
       "      <th>Fare</th>\n",
       "      <th>Cabin</th>\n",
       "      <th>Embarked</th>\n",
       "    </tr>\n",
       "  </thead>\n",
       "  <tbody>\n",
       "    <tr>\n",
       "      <th>298</th>\n",
       "      <td>299</td>\n",
       "      <td>1</td>\n",
       "      <td>Saalfeld, Mr. Adolphe</td>\n",
       "      <td>male</td>\n",
       "      <td>NaN</td>\n",
       "      <td>0</td>\n",
       "      <td>0</td>\n",
       "      <td>19988</td>\n",
       "      <td>30.5000</td>\n",
       "      <td>C106</td>\n",
       "      <td>S</td>\n",
       "    </tr>\n",
       "    <tr>\n",
       "      <th>884</th>\n",
       "      <td>885</td>\n",
       "      <td>3</td>\n",
       "      <td>Sutehall, Mr. Henry Jr</td>\n",
       "      <td>male</td>\n",
       "      <td>25.00</td>\n",
       "      <td>0</td>\n",
       "      <td>0</td>\n",
       "      <td>SOTON/OQ 392076</td>\n",
       "      <td>7.0500</td>\n",
       "      <td>NaN</td>\n",
       "      <td>S</td>\n",
       "    </tr>\n",
       "    <tr>\n",
       "      <th>247</th>\n",
       "      <td>248</td>\n",
       "      <td>2</td>\n",
       "      <td>Hamalainen, Mrs. William (Anna)</td>\n",
       "      <td>female</td>\n",
       "      <td>24.00</td>\n",
       "      <td>0</td>\n",
       "      <td>2</td>\n",
       "      <td>250649</td>\n",
       "      <td>14.5000</td>\n",
       "      <td>NaN</td>\n",
       "      <td>S</td>\n",
       "    </tr>\n",
       "    <tr>\n",
       "      <th>478</th>\n",
       "      <td>479</td>\n",
       "      <td>3</td>\n",
       "      <td>Karlsson, Mr. Nils August</td>\n",
       "      <td>male</td>\n",
       "      <td>22.00</td>\n",
       "      <td>0</td>\n",
       "      <td>0</td>\n",
       "      <td>350060</td>\n",
       "      <td>7.5208</td>\n",
       "      <td>NaN</td>\n",
       "      <td>S</td>\n",
       "    </tr>\n",
       "    <tr>\n",
       "      <th>305</th>\n",
       "      <td>306</td>\n",
       "      <td>1</td>\n",
       "      <td>Allison, Master. Hudson Trevor</td>\n",
       "      <td>male</td>\n",
       "      <td>0.92</td>\n",
       "      <td>1</td>\n",
       "      <td>2</td>\n",
       "      <td>113781</td>\n",
       "      <td>151.5500</td>\n",
       "      <td>C22 C26</td>\n",
       "      <td>S</td>\n",
       "    </tr>\n",
       "  </tbody>\n",
       "</table>\n",
       "</div>"
      ],
      "text/plain": [
       "     PassengerId  Pclass                             Name     Sex    Age  \\\n",
       "298          299       1            Saalfeld, Mr. Adolphe    male    NaN   \n",
       "884          885       3           Sutehall, Mr. Henry Jr    male  25.00   \n",
       "247          248       2  Hamalainen, Mrs. William (Anna)  female  24.00   \n",
       "478          479       3        Karlsson, Mr. Nils August    male  22.00   \n",
       "305          306       1   Allison, Master. Hudson Trevor    male   0.92   \n",
       "\n",
       "     SibSp  Parch           Ticket      Fare    Cabin Embarked  \n",
       "298      0      0            19988   30.5000     C106        S  \n",
       "884      0      0  SOTON/OQ 392076    7.0500      NaN        S  \n",
       "247      0      2           250649   14.5000      NaN        S  \n",
       "478      0      0           350060    7.5208      NaN        S  \n",
       "305      1      2           113781  151.5500  C22 C26        S  "
      ]
     },
     "execution_count": 550,
     "metadata": {},
     "output_type": "execute_result"
    }
   ],
   "source": [
    "X_train.head()"
   ]
  },
  {
   "cell_type": "markdown",
   "id": "jBFqLghWSs-l",
   "metadata": {
    "id": "jBFqLghWSs-l"
   },
   "source": [
    "## Display test data"
   ]
  },
  {
   "cell_type": "code",
   "execution_count": 551,
   "id": "tuhSBdzrSs-l",
   "metadata": {
    "colab": {
     "base_uri": "https://localhost:8080/",
     "height": 206
    },
    "id": "tuhSBdzrSs-l",
    "outputId": "7f8c87ad-7463-497b-a20c-dd89c8cc9853"
   },
   "outputs": [
    {
     "data": {
      "text/html": [
       "<div>\n",
       "<style scoped>\n",
       "    .dataframe tbody tr th:only-of-type {\n",
       "        vertical-align: middle;\n",
       "    }\n",
       "\n",
       "    .dataframe tbody tr th {\n",
       "        vertical-align: top;\n",
       "    }\n",
       "\n",
       "    .dataframe thead th {\n",
       "        text-align: right;\n",
       "    }\n",
       "</style>\n",
       "<table border=\"1\" class=\"dataframe\">\n",
       "  <thead>\n",
       "    <tr style=\"text-align: right;\">\n",
       "      <th></th>\n",
       "      <th>PassengerId</th>\n",
       "      <th>Pclass</th>\n",
       "      <th>Name</th>\n",
       "      <th>Sex</th>\n",
       "      <th>Age</th>\n",
       "      <th>SibSp</th>\n",
       "      <th>Parch</th>\n",
       "      <th>Ticket</th>\n",
       "      <th>Fare</th>\n",
       "      <th>Cabin</th>\n",
       "      <th>Embarked</th>\n",
       "    </tr>\n",
       "  </thead>\n",
       "  <tbody>\n",
       "    <tr>\n",
       "      <th>709</th>\n",
       "      <td>710</td>\n",
       "      <td>3</td>\n",
       "      <td>Moubarek, Master. Halim Gonios (\"William George\")</td>\n",
       "      <td>male</td>\n",
       "      <td>NaN</td>\n",
       "      <td>1</td>\n",
       "      <td>1</td>\n",
       "      <td>2661</td>\n",
       "      <td>15.2458</td>\n",
       "      <td>NaN</td>\n",
       "      <td>C</td>\n",
       "    </tr>\n",
       "    <tr>\n",
       "      <th>439</th>\n",
       "      <td>440</td>\n",
       "      <td>2</td>\n",
       "      <td>Kvillner, Mr. Johan Henrik Johannesson</td>\n",
       "      <td>male</td>\n",
       "      <td>31.0</td>\n",
       "      <td>0</td>\n",
       "      <td>0</td>\n",
       "      <td>C.A. 18723</td>\n",
       "      <td>10.5000</td>\n",
       "      <td>NaN</td>\n",
       "      <td>S</td>\n",
       "    </tr>\n",
       "    <tr>\n",
       "      <th>840</th>\n",
       "      <td>841</td>\n",
       "      <td>3</td>\n",
       "      <td>Alhomaki, Mr. Ilmari Rudolf</td>\n",
       "      <td>male</td>\n",
       "      <td>20.0</td>\n",
       "      <td>0</td>\n",
       "      <td>0</td>\n",
       "      <td>SOTON/O2 3101287</td>\n",
       "      <td>7.9250</td>\n",
       "      <td>NaN</td>\n",
       "      <td>S</td>\n",
       "    </tr>\n",
       "    <tr>\n",
       "      <th>720</th>\n",
       "      <td>721</td>\n",
       "      <td>2</td>\n",
       "      <td>Harper, Miss. Annie Jessie \"Nina\"</td>\n",
       "      <td>female</td>\n",
       "      <td>6.0</td>\n",
       "      <td>0</td>\n",
       "      <td>1</td>\n",
       "      <td>248727</td>\n",
       "      <td>33.0000</td>\n",
       "      <td>NaN</td>\n",
       "      <td>S</td>\n",
       "    </tr>\n",
       "    <tr>\n",
       "      <th>39</th>\n",
       "      <td>40</td>\n",
       "      <td>3</td>\n",
       "      <td>Nicola-Yarred, Miss. Jamila</td>\n",
       "      <td>female</td>\n",
       "      <td>14.0</td>\n",
       "      <td>1</td>\n",
       "      <td>0</td>\n",
       "      <td>2651</td>\n",
       "      <td>11.2417</td>\n",
       "      <td>NaN</td>\n",
       "      <td>C</td>\n",
       "    </tr>\n",
       "  </tbody>\n",
       "</table>\n",
       "</div>"
      ],
      "text/plain": [
       "     PassengerId  Pclass                                               Name  \\\n",
       "709          710       3  Moubarek, Master. Halim Gonios (\"William George\")   \n",
       "439          440       2             Kvillner, Mr. Johan Henrik Johannesson   \n",
       "840          841       3                        Alhomaki, Mr. Ilmari Rudolf   \n",
       "720          721       2                  Harper, Miss. Annie Jessie \"Nina\"   \n",
       "39            40       3                        Nicola-Yarred, Miss. Jamila   \n",
       "\n",
       "        Sex   Age  SibSp  Parch            Ticket     Fare Cabin Embarked  \n",
       "709    male   NaN      1      1              2661  15.2458   NaN        C  \n",
       "439    male  31.0      0      0        C.A. 18723  10.5000   NaN        S  \n",
       "840    male  20.0      0      0  SOTON/O2 3101287   7.9250   NaN        S  \n",
       "720  female   6.0      0      1            248727  33.0000   NaN        S  \n",
       "39   female  14.0      1      0              2651  11.2417   NaN        C  "
      ]
     },
     "execution_count": 551,
     "metadata": {},
     "output_type": "execute_result"
    }
   ],
   "source": [
    "X_test.head()"
   ]
  },
  {
   "cell_type": "markdown",
   "id": "veAwo4RRSs-r",
   "metadata": {
    "id": "veAwo4RRSs-r"
   },
   "source": [
    "# 2. Exploratory data analysis"
   ]
  },
  {
   "cell_type": "code",
   "execution_count": 552,
   "id": "ASs7P9FhSs-r",
   "metadata": {
    "id": "ASs7P9FhSs-r"
   },
   "outputs": [],
   "source": [
    "def bar_chart_stacked(dataset, feature, stacked = True):\n",
    "    survived = dataset[dataset['Survived']==1][feature].value_counts()\n",
    "    dead = dataset[dataset['Survived']==0][feature].value_counts()\n",
    "    df_survived_dead = pd.DataFrame([survived,dead])\n",
    "    df_survived_dead.index = ['Passengers Survived','Passengers Died']\n",
    "    ax = df_survived_dead.plot(kind='bar',stacked=stacked, figsize=(5,5))\n",
    "    \n",
    "def bar_chart_compare(dataset, feature1, feature2=None, title = \"Survival rate by sex and class'\"):\n",
    "    plt.figure(figsize = [5,5])\n",
    "    plt.title(title)\n",
    "    g = sns.barplot(x=feature1, y='Survived', hue=feature2, errorbar=None, data=dataset).set_ylabel('Survival rate')\n",
    "def plot_distribution(dataset, feature, title, bins = 30, hist = True, fsize = (5,5)):\n",
    "    fig, ax = plt.subplots(figsize=fsize)\n",
    "    ax.set_title(title)\n",
    "    sns.histplot(dataset[feature], color='g', bins=bins, ax=ax)\n",
    "def plot_kernel_density_estimate_survivors(dataset, feature1, title, fsize = (5,5)):\n",
    "    fig, ax = plt.subplots(figsize=fsize)\n",
    "    ax.set_title(title) \n",
    "    sns.kdeplot(dataset[feature1].loc[dataset[\"Survived\"] == 1],\n",
    "                fill=True, ax=ax, label='Survived').set_xlabel(feature1)\n",
    "    sns.kdeplot(dataset[feature1].loc[dataset[\"Survived\"] == 0],\n",
    "                fill=True, ax=ax, label=\"Died\")\n",
    "    plt.legend()\n",
    "def plot_quartiles(dataset, feature, title, categories):\n",
    "    fig, axarr = plt.subplots(figsize=(5,5))\n",
    "    fare_ranges = pd.qcut(dataset[feature], len(categories), labels = categories) #. [0, .25, .5, .75, 1.]\n",
    "    axarr.set_title(title)\n",
    "    sns.barplot(x=fare_ranges, y=dataset.Survived, errorbar=None, ax=axarr).set_ylabel('Survival rate')\n",
    "def show_countplot(dataset, feature, title, fsize = (5,5)):\n",
    "    fig, ax = plt.subplots(figsize=fsize)\n",
    "    sns.countplot(dataset[feature], ax=ax).set_title(title)\n",
    "    \n",
    "def show_compare_countplot(dataset, feature1, feature2, title):\n",
    "    fig, ax = plt.subplots(figsize=(5,5))\n",
    "    p = sns.countplot(x = feature1, hue = feature2, data = dataset, ax=ax).set_title(title)  "
   ]
  },
  {
   "cell_type": "code",
   "execution_count": 553,
   "id": "mDa0W_ZpSs-t",
   "metadata": {
    "colab": {
     "base_uri": "https://localhost:8080/"
    },
    "id": "mDa0W_ZpSs-t",
    "outputId": "9af493cb-e5fb-4025-f387-4ac268e2e8e5"
   },
   "outputs": [
    {
     "data": {
      "text/plain": [
       "0    549\n",
       "1    342\n",
       "Name: Survived, dtype: int64"
      ]
     },
     "execution_count": 553,
     "metadata": {},
     "output_type": "execute_result"
    }
   ],
   "source": [
    "df['Survived'].value_counts()"
   ]
  },
  {
   "cell_type": "code",
   "execution_count": 554,
   "id": "yh_oJxeeSs-t",
   "metadata": {
    "colab": {
     "base_uri": "https://localhost:8080/"
    },
    "id": "yh_oJxeeSs-t",
    "outputId": "aba798cf-ef15-4440-ac7a-bec968cb72ea"
   },
   "outputs": [
    {
     "data": {
      "text/plain": [
       "0    0.616162\n",
       "1    0.383838\n",
       "Name: Survived, dtype: float64"
      ]
     },
     "execution_count": 554,
     "metadata": {},
     "output_type": "execute_result"
    }
   ],
   "source": [
    "df['Survived'].value_counts(normalize=True)"
   ]
  },
  {
   "cell_type": "code",
   "execution_count": 555,
   "id": "RJeoOjuDSs-t",
   "metadata": {
    "colab": {
     "base_uri": "https://localhost:8080/",
     "height": 413
    },
    "id": "RJeoOjuDSs-t",
    "outputId": "849b992f-a5b3-4386-f717-4b68357ba5c5"
   },
   "outputs": [
    {
     "data": {
      "image/png": "[encoded data removed]",
      "text/plain": [
       "<Figure size 500x500 with 1 Axes>"
      ]
     },
     "metadata": {},
     "output_type": "display_data"
    }
   ],
   "source": [
    "bar_chart_stacked(df, \"Survived\")"
   ]
  },
  {
   "cell_type": "markdown",
   "id": "y4UOEn80Ss-u",
   "metadata": {
    "id": "y4UOEn80Ss-u"
   },
   "source": [
    "#### Observation:\n",
    "As expected the majority of passengers in the training data died. \n",
    "Only 38% survived the disaster. So the training data suffers from data imbalance."
   ]
  },
  {
   "cell_type": "markdown",
   "id": "C8JHaweySs-v",
   "metadata": {
    "id": "C8JHaweySs-v"
   },
   "source": [
    "## 2.2 Analyze Feature Gender:"
   ]
  },
  {
   "cell_type": "code",
   "execution_count": 556,
   "id": "jnbeMenqSs-v",
   "metadata": {
    "colab": {
     "base_uri": "https://localhost:8080/",
     "height": 112
    },
    "id": "jnbeMenqSs-v",
    "outputId": "35220a6e-ba92-4e59-f479-975bf9d86aeb"
   },
   "outputs": [
    {
     "data": {
      "text/html": [
       "<div>\n",
       "<style scoped>\n",
       "    .dataframe tbody tr th:only-of-type {\n",
       "        vertical-align: middle;\n",
       "    }\n",
       "\n",
       "    .dataframe tbody tr th {\n",
       "        vertical-align: top;\n",
       "    }\n",
       "\n",
       "    .dataframe thead th {\n",
       "        text-align: right;\n",
       "    }\n",
       "</style>\n",
       "<table border=\"1\" class=\"dataframe\">\n",
       "  <thead>\n",
       "    <tr style=\"text-align: right;\">\n",
       "      <th></th>\n",
       "      <th>Sex</th>\n",
       "    </tr>\n",
       "  </thead>\n",
       "  <tbody>\n",
       "    <tr>\n",
       "      <th>male</th>\n",
       "      <td>577</td>\n",
       "    </tr>\n",
       "    <tr>\n",
       "      <th>female</th>\n",
       "      <td>314</td>\n",
       "    </tr>\n",
       "  </tbody>\n",
       "</table>\n",
       "</div>"
      ],
      "text/plain": [
       "        Sex\n",
       "male    577\n",
       "female  314"
      ]
     },
     "execution_count": 556,
     "metadata": {},
     "output_type": "execute_result"
    }
   ],
   "source": [
    "df['Sex'].value_counts().to_frame()"
   ]
  },
  {
   "cell_type": "code",
   "execution_count": 557,
   "id": "T49s5yIFSs-v",
   "metadata": {
    "colab": {
     "base_uri": "https://localhost:8080/",
     "height": 413
    },
    "id": "T49s5yIFSs-v",
    "outputId": "3bed21c1-e249-4c71-bc22-d217414b51dc"
   },
   "outputs": [
    {
     "data": {
      "image/png": "[encoded data removed]",
      "text/plain": [
       "<Figure size 500x500 with 1 Axes>"
      ]
     },
     "metadata": {},
     "output_type": "display_data"
    }
   ],
   "source": [
    "bar_chart_stacked(df, \"Sex\")"
   ]
  },
  {
   "cell_type": "code",
   "execution_count": 558,
   "id": "bOl8UqUySs-x",
   "metadata": {
    "colab": {
     "base_uri": "https://localhost:8080/"
    },
    "id": "bOl8UqUySs-x",
    "outputId": "8049221f-b8b4-4639-8edd-395748d34895"
   },
   "outputs": [
    {
     "data": {
      "text/plain": [
       "Sex\n",
       "female    0.742038\n",
       "male      0.188908\n",
       "Name: Survived, dtype: float64"
      ]
     },
     "execution_count": 558,
     "metadata": {},
     "output_type": "execute_result"
    }
   ],
   "source": [
    "df.groupby('Sex').Survived.mean()"
   ]
  },
  {
   "cell_type": "markdown",
   "id": "gVpgEjSJSs-x",
   "metadata": {
    "id": "gVpgEjSJSs-x"
   },
   "source": [
    "### Observation:\n",
    "Here, we can see the even though the majority of the passenger were male, the majority of survivors were female. The key observation here is that the survival rate for female passengers is 4 times higher than the survival rate of male passengers.   "
   ]
  },
  {
   "cell_type": "markdown",
   "id": "_AdweeHaSs-y",
   "metadata": {
    "id": "_AdweeHaSs-y"
   },
   "source": [
    "## 2.3 Analyze Feature Pclass:"
   ]
  },
  {
   "cell_type": "code",
   "execution_count": 559,
   "id": "3EkAo1mpSs-y",
   "metadata": {
    "colab": {
     "base_uri": "https://localhost:8080/",
     "height": 413
    },
    "id": "3EkAo1mpSs-y",
    "outputId": "63688140-6c76-4dbc-c731-76ba103b35b9"
   },
   "outputs": [
    {
     "data": {
      "image/png": "[encoded data removed]",
      "text/plain": [
       "<Figure size 500x500 with 1 Axes>"
      ]
     },
     "metadata": {},
     "output_type": "display_data"
    }
   ],
   "source": [
    "bar_chart_stacked(df, 'Pclass')"
   ]
  },
  {
   "cell_type": "code",
   "execution_count": 560,
   "id": "t-cSyZMISs-y",
   "metadata": {
    "colab": {
     "base_uri": "https://localhost:8080/",
     "height": 144
    },
    "id": "t-cSyZMISs-y",
    "outputId": "4b20a658-80b9-434f-c039-e3399e2cbc2b"
   },
   "outputs": [
    {
     "data": {
      "text/html": [
       "<div>\n",
       "<style scoped>\n",
       "    .dataframe tbody tr th:only-of-type {\n",
       "        vertical-align: middle;\n",
       "    }\n",
       "\n",
       "    .dataframe tbody tr th {\n",
       "        vertical-align: top;\n",
       "    }\n",
       "\n",
       "    .dataframe thead th {\n",
       "        text-align: right;\n",
       "    }\n",
       "</style>\n",
       "<table border=\"1\" class=\"dataframe\">\n",
       "  <thead>\n",
       "    <tr style=\"text-align: right;\">\n",
       "      <th>Pclass</th>\n",
       "      <th>1</th>\n",
       "      <th>2</th>\n",
       "      <th>3</th>\n",
       "    </tr>\n",
       "    <tr>\n",
       "      <th>Survived</th>\n",
       "      <th></th>\n",
       "      <th></th>\n",
       "      <th></th>\n",
       "    </tr>\n",
       "  </thead>\n",
       "  <tbody>\n",
       "    <tr>\n",
       "      <th>0</th>\n",
       "      <td>80</td>\n",
       "      <td>97</td>\n",
       "      <td>372</td>\n",
       "    </tr>\n",
       "    <tr>\n",
       "      <th>1</th>\n",
       "      <td>136</td>\n",
       "      <td>87</td>\n",
       "      <td>119</td>\n",
       "    </tr>\n",
       "  </tbody>\n",
       "</table>\n",
       "</div>"
      ],
      "text/plain": [
       "Pclass      1   2    3\n",
       "Survived              \n",
       "0          80  97  372\n",
       "1         136  87  119"
      ]
     },
     "execution_count": 560,
     "metadata": {},
     "output_type": "execute_result"
    }
   ],
   "source": [
    "pd.pivot_table(df, index = 'Survived', columns = 'Pclass', values = 'Ticket' ,aggfunc ='count')"
   ]
  },
  {
   "cell_type": "code",
   "execution_count": 561,
   "id": "-_xgxSLcSs-y",
   "metadata": {
    "colab": {
     "base_uri": "https://localhost:8080/",
     "height": 175
    },
    "id": "-_xgxSLcSs-y",
    "outputId": "cda99f96-012d-437f-f637-47b73ec9985c"
   },
   "outputs": [
    {
     "data": {
      "text/html": [
       "<div>\n",
       "<style scoped>\n",
       "    .dataframe tbody tr th:only-of-type {\n",
       "        vertical-align: middle;\n",
       "    }\n",
       "\n",
       "    .dataframe tbody tr th {\n",
       "        vertical-align: top;\n",
       "    }\n",
       "\n",
       "    .dataframe thead th {\n",
       "        text-align: right;\n",
       "    }\n",
       "</style>\n",
       "<table border=\"1\" class=\"dataframe\">\n",
       "  <thead>\n",
       "    <tr style=\"text-align: right;\">\n",
       "      <th></th>\n",
       "      <th>Survived</th>\n",
       "    </tr>\n",
       "    <tr>\n",
       "      <th>Pclass</th>\n",
       "      <th></th>\n",
       "    </tr>\n",
       "  </thead>\n",
       "  <tbody>\n",
       "    <tr>\n",
       "      <th>1</th>\n",
       "      <td>0.629630</td>\n",
       "    </tr>\n",
       "    <tr>\n",
       "      <th>2</th>\n",
       "      <td>0.472826</td>\n",
       "    </tr>\n",
       "    <tr>\n",
       "      <th>3</th>\n",
       "      <td>0.242363</td>\n",
       "    </tr>\n",
       "  </tbody>\n",
       "</table>\n",
       "</div>"
      ],
      "text/plain": [
       "        Survived\n",
       "Pclass          \n",
       "1       0.629630\n",
       "2       0.472826\n",
       "3       0.242363"
      ]
     },
     "execution_count": 561,
     "metadata": {},
     "output_type": "execute_result"
    }
   ],
   "source": [
    "df.groupby(['Pclass']).Survived.mean().to_frame()"
   ]
  },
  {
   "cell_type": "markdown",
   "id": "2S6JkEMqSs-y",
   "metadata": {
    "id": "2S6JkEMqSs-y"
   },
   "source": [
    "### Observation:\n",
    "From the plots and tables above it becomes clear that the Pclass is an important factor to consider.\n",
    "\n",
    "- Most passenger had class 3 tickets, yet only 24% of class 3 passengers survived.\n",
    "- Almost 63% of the passenger from class 1 survived. \n",
    "- Also approx 50% of the class 2 passenger survived."
   ]
  },
  {
   "cell_type": "markdown",
   "id": "400d4bea",
   "metadata": {},
   "source": [
    "## 2.4 Analyze Feature Pclass With Gender:"
   ]
  },
  {
   "cell_type": "code",
   "execution_count": 562,
   "id": "-Wg8X1fySs-z",
   "metadata": {
    "colab": {
     "base_uri": "https://localhost:8080/",
     "height": 350
    },
    "id": "-Wg8X1fySs-z",
    "outputId": "2444890e-8789-4473-e014-14cb5eeb9fd0"
   },
   "outputs": [
    {
     "data": {
      "image/png": "[encoded data removed]",
      "text/plain": [
       "<Figure size 500x500 with 1 Axes>"
      ]
     },
     "metadata": {},
     "output_type": "display_data"
    }
   ],
   "source": [
    "bar_chart_compare(df, \"Pclass\", \"Sex\")"
   ]
  },
  {
   "cell_type": "code",
   "execution_count": 563,
   "id": "2agFup5kSs-0",
   "metadata": {
    "colab": {
     "base_uri": "https://localhost:8080/",
     "height": 175
    },
    "id": "2agFup5kSs-0",
    "outputId": "a961ffdf-6adb-45a2-983a-4a18461f69b8"
   },
   "outputs": [
    {
     "data": {
      "text/html": [
       "<div>\n",
       "<style scoped>\n",
       "    .dataframe tbody tr th:only-of-type {\n",
       "        vertical-align: middle;\n",
       "    }\n",
       "\n",
       "    .dataframe tbody tr th {\n",
       "        vertical-align: top;\n",
       "    }\n",
       "\n",
       "    .dataframe thead tr th {\n",
       "        text-align: left;\n",
       "    }\n",
       "\n",
       "    .dataframe thead tr:last-of-type th {\n",
       "        text-align: right;\n",
       "    }\n",
       "</style>\n",
       "<table border=\"1\" class=\"dataframe\">\n",
       "  <thead>\n",
       "    <tr>\n",
       "      <th>Pclass</th>\n",
       "      <th colspan=\"2\" halign=\"left\">1</th>\n",
       "      <th colspan=\"2\" halign=\"left\">2</th>\n",
       "      <th colspan=\"2\" halign=\"left\">3</th>\n",
       "    </tr>\n",
       "    <tr>\n",
       "      <th>Sex</th>\n",
       "      <th>female</th>\n",
       "      <th>male</th>\n",
       "      <th>female</th>\n",
       "      <th>male</th>\n",
       "      <th>female</th>\n",
       "      <th>male</th>\n",
       "    </tr>\n",
       "    <tr>\n",
       "      <th>Survived</th>\n",
       "      <th></th>\n",
       "      <th></th>\n",
       "      <th></th>\n",
       "      <th></th>\n",
       "      <th></th>\n",
       "      <th></th>\n",
       "    </tr>\n",
       "  </thead>\n",
       "  <tbody>\n",
       "    <tr>\n",
       "      <th>0</th>\n",
       "      <td>3</td>\n",
       "      <td>77</td>\n",
       "      <td>6</td>\n",
       "      <td>91</td>\n",
       "      <td>72</td>\n",
       "      <td>300</td>\n",
       "    </tr>\n",
       "    <tr>\n",
       "      <th>1</th>\n",
       "      <td>91</td>\n",
       "      <td>45</td>\n",
       "      <td>70</td>\n",
       "      <td>17</td>\n",
       "      <td>72</td>\n",
       "      <td>47</td>\n",
       "    </tr>\n",
       "  </tbody>\n",
       "</table>\n",
       "</div>"
      ],
      "text/plain": [
       "Pclass        1           2           3     \n",
       "Sex      female male female male female male\n",
       "Survived                                    \n",
       "0             3   77      6   91     72  300\n",
       "1            91   45     70   17     72   47"
      ]
     },
     "execution_count": 563,
     "metadata": {},
     "output_type": "execute_result"
    }
   ],
   "source": [
    "pd.pivot_table(df, index = 'Survived', columns = ['Pclass', \"Sex\"], values = 'Ticket' ,aggfunc ='count')"
   ]
  },
  {
   "cell_type": "code",
   "execution_count": 564,
   "id": "3hEbk7bsSs-0",
   "metadata": {
    "colab": {
     "base_uri": "https://localhost:8080/",
     "height": 269
    },
    "id": "3hEbk7bsSs-0",
    "outputId": "8ef25886-d409-4c52-881b-7a107e7919cf"
   },
   "outputs": [
    {
     "data": {
      "text/html": [
       "<div>\n",
       "<style scoped>\n",
       "    .dataframe tbody tr th:only-of-type {\n",
       "        vertical-align: middle;\n",
       "    }\n",
       "\n",
       "    .dataframe tbody tr th {\n",
       "        vertical-align: top;\n",
       "    }\n",
       "\n",
       "    .dataframe thead th {\n",
       "        text-align: right;\n",
       "    }\n",
       "</style>\n",
       "<table border=\"1\" class=\"dataframe\">\n",
       "  <thead>\n",
       "    <tr style=\"text-align: right;\">\n",
       "      <th></th>\n",
       "      <th></th>\n",
       "      <th>Survived</th>\n",
       "    </tr>\n",
       "    <tr>\n",
       "      <th>Pclass</th>\n",
       "      <th>Sex</th>\n",
       "      <th></th>\n",
       "    </tr>\n",
       "  </thead>\n",
       "  <tbody>\n",
       "    <tr>\n",
       "      <th rowspan=\"2\" valign=\"top\">1</th>\n",
       "      <th>female</th>\n",
       "      <td>0.968085</td>\n",
       "    </tr>\n",
       "    <tr>\n",
       "      <th>male</th>\n",
       "      <td>0.368852</td>\n",
       "    </tr>\n",
       "    <tr>\n",
       "      <th rowspan=\"2\" valign=\"top\">2</th>\n",
       "      <th>female</th>\n",
       "      <td>0.921053</td>\n",
       "    </tr>\n",
       "    <tr>\n",
       "      <th>male</th>\n",
       "      <td>0.157407</td>\n",
       "    </tr>\n",
       "    <tr>\n",
       "      <th rowspan=\"2\" valign=\"top\">3</th>\n",
       "      <th>female</th>\n",
       "      <td>0.500000</td>\n",
       "    </tr>\n",
       "    <tr>\n",
       "      <th>male</th>\n",
       "      <td>0.135447</td>\n",
       "    </tr>\n",
       "  </tbody>\n",
       "</table>\n",
       "</div>"
      ],
      "text/plain": [
       "               Survived\n",
       "Pclass Sex             \n",
       "1      female  0.968085\n",
       "       male    0.368852\n",
       "2      female  0.921053\n",
       "       male    0.157407\n",
       "3      female  0.500000\n",
       "       male    0.135447"
      ]
     },
     "execution_count": 564,
     "metadata": {},
     "output_type": "execute_result"
    }
   ],
   "source": [
    "df.groupby(['Pclass', \"Sex\"]).Survived.mean().to_frame()"
   ]
  },
  {
   "cell_type": "markdown",
   "id": "ZFP7fVviSs-1",
   "metadata": {
    "id": "ZFP7fVviSs-1"
   },
   "source": [
    "### Observation:\n",
    "Here, we can clearly see that irrespective of the class the most important factor when it comes to surviving was gender. (At least between Sex and Pclass).\n",
    "However, men in class 1 had a significantly higher chance of survival when they bought class 1 tickets.\n",
    "This just shows to say that we should keep both features as both yield insightful information that should help our model.\n",
    "- Survival Rate females 1. Class: 96,8%\n",
    "- Survival Rate females 2. Class: 92,1%\n",
    "- Survival Rate females 3. Class: 50% \n",
    "\n",
    "- Survival Rate male 1. Class: 36.8%\n",
    "  <br>(still significantly lower than 3. class females)\n",
    "    \n",
    "\n"
   ]
  },
  {
   "cell_type": "markdown",
   "id": "K_Qsc70ZSs-1",
   "metadata": {
    "id": "K_Qsc70ZSs-1"
   },
   "source": [
    "## 2.5 Analyze Feature Age:"
   ]
  },
  {
   "cell_type": "code",
   "execution_count": 565,
   "id": "9HPn-OOlSs-2",
   "metadata": {
    "colab": {
     "base_uri": "https://localhost:8080/",
     "height": 405
    },
    "id": "9HPn-OOlSs-2",
    "outputId": "50bc2dbb-2119-4ad9-e59f-6a513bbfe758"
   },
   "outputs": [
    {
     "data": {
      "image/png": "[encoded data removed]",
      "text/plain": [
       "<Figure size 500x500 with 1 Axes>"
      ]
     },
     "metadata": {},
     "output_type": "display_data"
    }
   ],
   "source": [
    "plot_distribution(df, \"Age\", \"Age Distribution Passengers\")"
   ]
  },
  {
   "cell_type": "code",
   "execution_count": 566,
   "id": "ZHljR4PTSs-2",
   "metadata": {
    "colab": {
     "base_uri": "https://localhost:8080/",
     "height": 350
    },
    "id": "ZHljR4PTSs-2",
    "outputId": "710dcbe9-7883-4acd-b121-2bc73fc861d9"
   },
   "outputs": [
    {
     "data": {
      "image/png": "[encoded data removed]",
      "text/plain": [
       "<Figure size 500x500 with 1 Axes>"
      ]
     },
     "metadata": {},
     "output_type": "display_data"
    }
   ],
   "source": [
    "plot_kernel_density_estimate_survivors(df, \"Age\", \"Age Distribution Surived vs Died\")"
   ]
  },
  {
   "cell_type": "markdown",
   "id": "tu_fhQw-Ss-3",
   "metadata": {
    "id": "tu_fhQw-Ss-3"
   },
   "source": [
    "### Observation:\n",
    "The Histogram above shows that age follows a fairly normal distribution.\n",
    "\n",
    "Also investigating the kernel density estimate does not provide additional information except a raise in survivors at a very young age."
   ]
  },
  {
   "cell_type": "markdown",
   "id": "gSvZGVIDSs-3",
   "metadata": {
    "id": "gSvZGVIDSs-3"
   },
   "source": [
    "## 2.6 Analyze FeatureFeature Age & Sex together:"
   ]
  },
  {
   "cell_type": "code",
   "execution_count": 567,
   "id": "N7LyHr0USs-3",
   "metadata": {
    "id": "N7LyHr0USs-3"
   },
   "outputs": [],
   "source": [
    "def plot_swarm_survivors(dataset, feature1, feature2, title, fize = (155)):\n",
    "    fig, ax = plt.subplots(figsize=(18,5))\n",
    "    # Turns off grid on the left Axis.\n",
    "    ax.grid(True)\n",
    "    plt.xticks(list(range(0,100,2)))\n",
    "    sns.swarmplot(y=feature1, x=feature2, hue='Survived',data=dataset).set_title(title)"
   ]
  },
  {
   "cell_type": "code",
   "execution_count": 568,
   "id": "yvpV0CccSs-3",
   "metadata": {
    "colab": {
     "base_uri": "https://localhost:8080/",
     "height": 350
    },
    "id": "yvpV0CccSs-3",
    "outputId": "a1617565-cb8f-4cd1-eaeb-66cc21920f87"
   },
   "outputs": [
    {
     "data": {
      "image/png": "[encoded data removed]",
      "text/plain": [
       "<Figure size 1800x500 with 1 Axes>"
      ]
     },
     "metadata": {},
     "output_type": "display_data"
    }
   ],
   "source": [
    "plot_swarm_survivors(df, \"Sex\", \"Age\", \"Survivor Swarmplot for Age and Gender\")"
   ]
  },
  {
   "cell_type": "markdown",
   "id": "HxoCFA-8Ss-4",
   "metadata": {
    "id": "HxoCFA-8Ss-4"
   },
   "source": [
    "### Observation:\n",
    "As expected age holds valuable information. The swarm plot above shows that a big portion of male survivors are passengers between 0 and 12 years of age.\n",
    "It's also interesting to see that the oldest passenger 80 year old man survived."
   ]
  },
  {
   "cell_type": "markdown",
   "id": "fzsOFMFpSs-6",
   "metadata": {
    "id": "fzsOFMFpSs-6"
   },
   "source": [
    "## 2.7 Analyze Feature Fare:"
   ]
  },
  {
   "cell_type": "code",
   "execution_count": 569,
   "id": "ZG0MJcyxSs-7",
   "metadata": {
    "colab": {
     "base_uri": "https://localhost:8080/"
    },
    "id": "ZG0MJcyxSs-7",
    "outputId": "dc211f4f-730b-4c48-ca6b-f7f8d47c4b70"
   },
   "outputs": [
    {
     "data": {
      "text/plain": [
       "count    891.000000\n",
       "mean      32.204208\n",
       "std       49.693429\n",
       "min        0.000000\n",
       "25%        7.910400\n",
       "50%       14.454200\n",
       "75%       31.000000\n",
       "max      512.329200\n",
       "Name: Fare, dtype: float64"
      ]
     },
     "execution_count": 569,
     "metadata": {},
     "output_type": "execute_result"
    }
   ],
   "source": [
    "df.Fare.describe()"
   ]
  },
  {
   "cell_type": "code",
   "execution_count": 570,
   "id": "8q9L3QMzSs-7",
   "metadata": {
    "colab": {
     "base_uri": "https://localhost:8080/",
     "height": 405
    },
    "id": "8q9L3QMzSs-7",
    "outputId": "ae6c65bd-b70d-4b23-b63b-b86caacc0760"
   },
   "outputs": [
    {
     "data": {
      "image/png": "[encoded data removed]",
      "text/plain": [
       "<Figure size 500x500 with 1 Axes>"
      ]
     },
     "metadata": {},
     "output_type": "display_data"
    }
   ],
   "source": [
    "plot_distribution(df, \"Fare\", \"Fare Distribution Passengers\")"
   ]
  },
  {
   "cell_type": "markdown",
   "id": "aXUIaSVQSs-8",
   "metadata": {
    "id": "aXUIaSVQSs-8"
   },
   "source": [
    "### Observation:\n",
    "Fare does not follow a normal distribution and has a huge spike at the price range [0-100$].\n",
    "\n",
    "To better understand how this feature influences the survival rate, we could plot bar plots of Fare vs Survived. However, due to the large range of fares such as plot would not be useful for inferring useful information. \n",
    "\n",
    "A more suited visualization would be to combine fares into categories and then plot the \n",
    "categories vs Survived. "
   ]
  },
  {
   "cell_type": "code",
   "execution_count": 571,
   "id": "KwGx_5DiSs-8",
   "metadata": {
    "colab": {
     "base_uri": "https://localhost:8080/",
     "height": 350
    },
    "id": "KwGx_5DiSs-8",
    "outputId": "ac745209-95d7-46c8-c4f4-26abfd3e3dd1"
   },
   "outputs": [
    {
     "data": {
      "image/png": "[encoded data removed]",
      "text/plain": [
       "<Figure size 500x500 with 1 Axes>"
      ]
     },
     "metadata": {},
     "output_type": "display_data"
    }
   ],
   "source": [
    "categories = ['Cheap', 'Standard', 'Expensive', 'Luxury']\n",
    "\n",
    "plot_quartiles(df, \"Fare\", \"Survival Rate by Fare Ranges/Categories\", categories)"
   ]
  },
  {
   "cell_type": "markdown",
   "id": "jyb15pAUSs-8",
   "metadata": {
    "id": "jyb15pAUSs-8"
   },
   "source": [
    "### Observation:\n",
    "As we can see the likelihood of survival is definitely influenced by the price paid. \n",
    "- Cheap (0-25% of max Price): Surival Rate = 0.2 (aprox)\n",
    "- Cheap (25%-50% of max Price): Surival Rate = 0.3 (aprox)\n",
    "- Cheap (50%-75% of max Price): Surival Rate = 0.45 (aprox)\n",
    "- Cheap (75%-100% of max Price): Surival Rate = 0.55 (aprox)\n",
    "\n"
   ]
  },
  {
   "cell_type": "markdown",
   "id": "j3Y2eWnUSs--",
   "metadata": {
    "id": "j3Y2eWnUSs--"
   },
   "source": [
    "## 2.8 Analyze Feature Embarked"
   ]
  },
  {
   "cell_type": "code",
   "execution_count": 572,
   "id": "dEfFrk_xSs-_",
   "metadata": {
    "colab": {
     "base_uri": "https://localhost:8080/",
     "height": 413
    },
    "id": "dEfFrk_xSs-_",
    "outputId": "f86eeec9-23a4-4cfb-aa89-7f3ca8d8a60f"
   },
   "outputs": [
    {
     "data": {
      "image/png": "[encoded data removed]",
      "text/plain": [
       "<Figure size 500x500 with 1 Axes>"
      ]
     },
     "metadata": {},
     "output_type": "display_data"
    }
   ],
   "source": [
    "bar_chart_stacked(df, 'Embarked') "
   ]
  },
  {
   "cell_type": "code",
   "execution_count": 573,
   "id": "fa-pNr-WSs_A",
   "metadata": {
    "colab": {
     "base_uri": "https://localhost:8080/",
     "height": 144
    },
    "id": "fa-pNr-WSs_A",
    "outputId": "6afec85e-d04d-4e4a-c3a3-b9ebe7184b1d"
   },
   "outputs": [
    {
     "data": {
      "text/html": [
       "<div>\n",
       "<style scoped>\n",
       "    .dataframe tbody tr th:only-of-type {\n",
       "        vertical-align: middle;\n",
       "    }\n",
       "\n",
       "    .dataframe tbody tr th {\n",
       "        vertical-align: top;\n",
       "    }\n",
       "\n",
       "    .dataframe thead th {\n",
       "        text-align: right;\n",
       "    }\n",
       "</style>\n",
       "<table border=\"1\" class=\"dataframe\">\n",
       "  <thead>\n",
       "    <tr style=\"text-align: right;\">\n",
       "      <th></th>\n",
       "      <th>Embarked</th>\n",
       "    </tr>\n",
       "  </thead>\n",
       "  <tbody>\n",
       "    <tr>\n",
       "      <th>S</th>\n",
       "      <td>644</td>\n",
       "    </tr>\n",
       "    <tr>\n",
       "      <th>C</th>\n",
       "      <td>168</td>\n",
       "    </tr>\n",
       "    <tr>\n",
       "      <th>Q</th>\n",
       "      <td>77</td>\n",
       "    </tr>\n",
       "  </tbody>\n",
       "</table>\n",
       "</div>"
      ],
      "text/plain": [
       "   Embarked\n",
       "S       644\n",
       "C       168\n",
       "Q        77"
      ]
     },
     "execution_count": 573,
     "metadata": {},
     "output_type": "execute_result"
    }
   ],
   "source": [
    "df['Embarked'].value_counts().to_frame()"
   ]
  },
  {
   "cell_type": "code",
   "execution_count": 574,
   "id": "y5qbxVpVSs_B",
   "metadata": {
    "colab": {
     "base_uri": "https://localhost:8080/",
     "height": 350
    },
    "id": "y5qbxVpVSs_B",
    "outputId": "4d42d24c-3bdf-4a86-b99b-c311a529c544"
   },
   "outputs": [
    {
     "data": {
      "image/png": "[encoded data removed]",
      "text/plain": [
       "<Figure size 500x500 with 1 Axes>"
      ]
     },
     "metadata": {},
     "output_type": "display_data"
    }
   ],
   "source": [
    "show_compare_countplot(df, \"Embarked\", \"Survived\", \"Survivor count by place of embarktion\")"
   ]
  },
  {
   "cell_type": "code",
   "execution_count": 575,
   "id": "Rlk2f6jNSs_B",
   "metadata": {
    "colab": {
     "base_uri": "https://localhost:8080/",
     "height": 144
    },
    "id": "Rlk2f6jNSs_B",
    "outputId": "ca8c08e3-1296-45fb-c1bb-2ce94f391c58"
   },
   "outputs": [
    {
     "data": {
      "text/html": [
       "<div>\n",
       "<style scoped>\n",
       "    .dataframe tbody tr th:only-of-type {\n",
       "        vertical-align: middle;\n",
       "    }\n",
       "\n",
       "    .dataframe tbody tr th {\n",
       "        vertical-align: top;\n",
       "    }\n",
       "\n",
       "    .dataframe thead th {\n",
       "        text-align: right;\n",
       "    }\n",
       "</style>\n",
       "<table border=\"1\" class=\"dataframe\">\n",
       "  <thead>\n",
       "    <tr style=\"text-align: right;\">\n",
       "      <th>Embarked</th>\n",
       "      <th>C</th>\n",
       "      <th>Q</th>\n",
       "      <th>S</th>\n",
       "    </tr>\n",
       "    <tr>\n",
       "      <th>Survived</th>\n",
       "      <th></th>\n",
       "      <th></th>\n",
       "      <th></th>\n",
       "    </tr>\n",
       "  </thead>\n",
       "  <tbody>\n",
       "    <tr>\n",
       "      <th>0</th>\n",
       "      <td>75</td>\n",
       "      <td>47</td>\n",
       "      <td>427</td>\n",
       "    </tr>\n",
       "    <tr>\n",
       "      <th>1</th>\n",
       "      <td>93</td>\n",
       "      <td>30</td>\n",
       "      <td>217</td>\n",
       "    </tr>\n",
       "  </tbody>\n",
       "</table>\n",
       "</div>"
      ],
      "text/plain": [
       "Embarked   C   Q    S\n",
       "Survived             \n",
       "0         75  47  427\n",
       "1         93  30  217"
      ]
     },
     "execution_count": 575,
     "metadata": {},
     "output_type": "execute_result"
    }
   ],
   "source": [
    "pd.pivot_table(df, index = 'Survived', columns = 'Embarked', values = 'Ticket' ,aggfunc ='count')"
   ]
  },
  {
   "cell_type": "code",
   "execution_count": 576,
   "id": "1LUdX9a3Ss_C",
   "metadata": {
    "colab": {
     "base_uri": "https://localhost:8080/",
     "height": 175
    },
    "id": "1LUdX9a3Ss_C",
    "outputId": "0f2b1464-4985-4718-a6b3-c212d28ac341"
   },
   "outputs": [
    {
     "data": {
      "text/html": [
       "<div>\n",
       "<style scoped>\n",
       "    .dataframe tbody tr th:only-of-type {\n",
       "        vertical-align: middle;\n",
       "    }\n",
       "\n",
       "    .dataframe tbody tr th {\n",
       "        vertical-align: top;\n",
       "    }\n",
       "\n",
       "    .dataframe thead th {\n",
       "        text-align: right;\n",
       "    }\n",
       "</style>\n",
       "<table border=\"1\" class=\"dataframe\">\n",
       "  <thead>\n",
       "    <tr style=\"text-align: right;\">\n",
       "      <th></th>\n",
       "      <th>Survived</th>\n",
       "    </tr>\n",
       "    <tr>\n",
       "      <th>Embarked</th>\n",
       "      <th></th>\n",
       "    </tr>\n",
       "  </thead>\n",
       "  <tbody>\n",
       "    <tr>\n",
       "      <th>C</th>\n",
       "      <td>0.553571</td>\n",
       "    </tr>\n",
       "    <tr>\n",
       "      <th>Q</th>\n",
       "      <td>0.389610</td>\n",
       "    </tr>\n",
       "    <tr>\n",
       "      <th>S</th>\n",
       "      <td>0.336957</td>\n",
       "    </tr>\n",
       "  </tbody>\n",
       "</table>\n",
       "</div>"
      ],
      "text/plain": [
       "          Survived\n",
       "Embarked          \n",
       "C         0.553571\n",
       "Q         0.389610\n",
       "S         0.336957"
      ]
     },
     "execution_count": 576,
     "metadata": {},
     "output_type": "execute_result"
    }
   ],
   "source": [
    "df.groupby(['Embarked']).Survived.mean().to_frame()"
   ]
  },
  {
   "cell_type": "markdown",
   "id": "aX4002xSSs_D",
   "metadata": {
    "id": "aX4002xSSs_D"
   },
   "source": [
    "### Observation:\n",
    "There are three possible values for the Embarked Feature: \n",
    "- Southampton, Cherbourg, and Queenstown.\n",
    "\n",
    "We can see that the majority of passengers embarked from Southampton.\n",
    "However, only 33% survived the sinking of the titanic.\n",
    "\n",
    "The highest survival rate of 55% is in the group of passengers that embarked from Cherbourg\n",
    "\n",
    "Maybe this is because the Class 1 passengers embarked from Cherbourg. "
   ]
  },
  {
   "cell_type": "markdown",
   "id": "xpY9XqDFSs_D",
   "metadata": {
    "id": "xpY9XqDFSs_D"
   },
   "source": [
    "## 2.9 Analyze Features Embarked & Pclass together"
   ]
  },
  {
   "cell_type": "code",
   "execution_count": 577,
   "id": "LEsWxHJ4Ss_E",
   "metadata": {
    "colab": {
     "base_uri": "https://localhost:8080/",
     "height": 350
    },
    "id": "LEsWxHJ4Ss_E",
    "outputId": "f017b6de-8350-4e2f-e014-90774d804a81"
   },
   "outputs": [
    {
     "data": {
      "image/png": "[encoded data removed]",
      "text/plain": [
       "<Figure size 500x500 with 1 Axes>"
      ]
     },
     "metadata": {},
     "output_type": "display_data"
    }
   ],
   "source": [
    "show_compare_countplot(df, \"Embarked\", \"Pclass\", \"Passenger count by place of embarktion and class\")"
   ]
  },
  {
   "cell_type": "code",
   "execution_count": 578,
   "id": "mtUaSQEvSs_F",
   "metadata": {
    "colab": {
     "base_uri": "https://localhost:8080/",
     "height": 363
    },
    "id": "mtUaSQEvSs_F",
    "outputId": "5fcebd8c-a942-48db-e2e3-f90b5badab84"
   },
   "outputs": [
    {
     "data": {
      "text/html": [
       "<div>\n",
       "<style scoped>\n",
       "    .dataframe tbody tr th:only-of-type {\n",
       "        vertical-align: middle;\n",
       "    }\n",
       "\n",
       "    .dataframe tbody tr th {\n",
       "        vertical-align: top;\n",
       "    }\n",
       "\n",
       "    .dataframe thead th {\n",
       "        text-align: right;\n",
       "    }\n",
       "</style>\n",
       "<table border=\"1\" class=\"dataframe\">\n",
       "  <thead>\n",
       "    <tr style=\"text-align: right;\">\n",
       "      <th></th>\n",
       "      <th></th>\n",
       "      <th>Survived</th>\n",
       "    </tr>\n",
       "    <tr>\n",
       "      <th>Embarked</th>\n",
       "      <th>Pclass</th>\n",
       "      <th></th>\n",
       "    </tr>\n",
       "  </thead>\n",
       "  <tbody>\n",
       "    <tr>\n",
       "      <th rowspan=\"3\" valign=\"top\">C</th>\n",
       "      <th>1</th>\n",
       "      <td>59</td>\n",
       "    </tr>\n",
       "    <tr>\n",
       "      <th>2</th>\n",
       "      <td>9</td>\n",
       "    </tr>\n",
       "    <tr>\n",
       "      <th>3</th>\n",
       "      <td>25</td>\n",
       "    </tr>\n",
       "    <tr>\n",
       "      <th rowspan=\"3\" valign=\"top\">Q</th>\n",
       "      <th>1</th>\n",
       "      <td>1</td>\n",
       "    </tr>\n",
       "    <tr>\n",
       "      <th>2</th>\n",
       "      <td>2</td>\n",
       "    </tr>\n",
       "    <tr>\n",
       "      <th>3</th>\n",
       "      <td>27</td>\n",
       "    </tr>\n",
       "    <tr>\n",
       "      <th rowspan=\"3\" valign=\"top\">S</th>\n",
       "      <th>1</th>\n",
       "      <td>74</td>\n",
       "    </tr>\n",
       "    <tr>\n",
       "      <th>2</th>\n",
       "      <td>76</td>\n",
       "    </tr>\n",
       "    <tr>\n",
       "      <th>3</th>\n",
       "      <td>67</td>\n",
       "    </tr>\n",
       "  </tbody>\n",
       "</table>\n",
       "</div>"
      ],
      "text/plain": [
       "                 Survived\n",
       "Embarked Pclass          \n",
       "C        1             59\n",
       "         2              9\n",
       "         3             25\n",
       "Q        1              1\n",
       "         2              2\n",
       "         3             27\n",
       "S        1             74\n",
       "         2             76\n",
       "         3             67"
      ]
     },
     "execution_count": 578,
     "metadata": {},
     "output_type": "execute_result"
    }
   ],
   "source": [
    "df.groupby(['Embarked', 'Pclass']).Survived.sum().to_frame()"
   ]
  },
  {
   "cell_type": "markdown",
   "id": "CagbBghaSs_F",
   "metadata": {
    "id": "CagbBghaSs_F"
   },
   "source": [
    "### Observation:\n",
    "- The majority embarked at Cherbourg were 1. class passengers.\n",
    "- The majority embarked at Southampton were 3. class passengers.\n",
    "\n",
    "However, it does not explain why the survival rate at Queenstown is slightly higher than at Southampton even though the number of 1. class passenger concerning 3. class passengers is higher at Southampton. Let us explore the gender too."
   ]
  },
  {
   "cell_type": "markdown",
   "id": "sRqL6g9sSs_F",
   "metadata": {
    "id": "sRqL6g9sSs_F"
   },
   "source": [
    "## 2.10 Analyze Features Embarked & Sex together"
   ]
  },
  {
   "cell_type": "code",
   "execution_count": 579,
   "id": "WrlOvR2ySs_G",
   "metadata": {
    "colab": {
     "base_uri": "https://localhost:8080/",
     "height": 350
    },
    "id": "WrlOvR2ySs_G",
    "outputId": "522460f8-d883-4536-e96a-ca7a52be78e6"
   },
   "outputs": [
    {
     "data": {
      "image/png": "[encoded data removed]",
      "text/plain": [
       "<Figure size 500x500 with 1 Axes>"
      ]
     },
     "metadata": {},
     "output_type": "display_data"
    }
   ],
   "source": [
    "show_compare_countplot(df, \"Embarked\", \"Sex\", \"Passenger count by place of embarktion and sex\")"
   ]
  },
  {
   "cell_type": "markdown",
   "id": "bDiyioYHSs_H",
   "metadata": {
    "id": "bDiyioYHSs_H"
   },
   "source": [
    "### Observation:\n",
    "Twice as many male passengers embarked from Southam were roughly the same number of male and female passengers embarked from Queenstown. This just shows the importance of the Sex feature."
   ]
  },
  {
   "cell_type": "markdown",
   "id": "zpKON54KSs_T",
   "metadata": {
    "id": "zpKON54KSs_T"
   },
   "source": [
    "## 2.11 Analyze Feature SibSp:\n",
    "SibSp is the number of siblings or spouses of a person aboard the Titanic"
   ]
  },
  {
   "cell_type": "code",
   "execution_count": 580,
   "id": "9SEgbnLMSs_T",
   "metadata": {
    "colab": {
     "base_uri": "https://localhost:8080/",
     "height": 269
    },
    "id": "9SEgbnLMSs_T",
    "outputId": "a7ea8031-3df7-4a6a-df55-b405b2d4384a"
   },
   "outputs": [
    {
     "data": {
      "text/html": [
       "<div>\n",
       "<style scoped>\n",
       "    .dataframe tbody tr th:only-of-type {\n",
       "        vertical-align: middle;\n",
       "    }\n",
       "\n",
       "    .dataframe tbody tr th {\n",
       "        vertical-align: top;\n",
       "    }\n",
       "\n",
       "    .dataframe thead th {\n",
       "        text-align: right;\n",
       "    }\n",
       "</style>\n",
       "<table border=\"1\" class=\"dataframe\">\n",
       "  <thead>\n",
       "    <tr style=\"text-align: right;\">\n",
       "      <th></th>\n",
       "      <th>SibSp</th>\n",
       "    </tr>\n",
       "  </thead>\n",
       "  <tbody>\n",
       "    <tr>\n",
       "      <th>0</th>\n",
       "      <td>608</td>\n",
       "    </tr>\n",
       "    <tr>\n",
       "      <th>1</th>\n",
       "      <td>209</td>\n",
       "    </tr>\n",
       "    <tr>\n",
       "      <th>2</th>\n",
       "      <td>28</td>\n",
       "    </tr>\n",
       "    <tr>\n",
       "      <th>4</th>\n",
       "      <td>18</td>\n",
       "    </tr>\n",
       "    <tr>\n",
       "      <th>3</th>\n",
       "      <td>16</td>\n",
       "    </tr>\n",
       "    <tr>\n",
       "      <th>8</th>\n",
       "      <td>7</td>\n",
       "    </tr>\n",
       "    <tr>\n",
       "      <th>5</th>\n",
       "      <td>5</td>\n",
       "    </tr>\n",
       "  </tbody>\n",
       "</table>\n",
       "</div>"
      ],
      "text/plain": [
       "   SibSp\n",
       "0    608\n",
       "1    209\n",
       "2     28\n",
       "4     18\n",
       "3     16\n",
       "8      7\n",
       "5      5"
      ]
     },
     "execution_count": 580,
     "metadata": {},
     "output_type": "execute_result"
    }
   ],
   "source": [
    "df['SibSp'].value_counts().to_frame()"
   ]
  },
  {
   "cell_type": "code",
   "execution_count": 581,
   "id": "n8S5L3ZESs_T",
   "metadata": {
    "colab": {
     "base_uri": "https://localhost:8080/",
     "height": 350
    },
    "id": "n8S5L3ZESs_T",
    "outputId": "4e93f786-982a-4cd3-9cf2-131786c49e00"
   },
   "outputs": [
    {
     "data": {
      "image/png": "[encoded data removed]",
      "text/plain": [
       "<Figure size 500x500 with 1 Axes>"
      ]
     },
     "metadata": {},
     "output_type": "display_data"
    }
   ],
   "source": [
    "bar_chart_compare(df, \"SibSp\", title = \"Surival rate by siblings / spouses aboard the Titanic\")"
   ]
  },
  {
   "cell_type": "code",
   "execution_count": 582,
   "id": "IZhVihn2Ss_U",
   "metadata": {
    "colab": {
     "base_uri": "https://localhost:8080/",
     "height": 301
    },
    "id": "IZhVihn2Ss_U",
    "outputId": "976d7456-fe01-4c95-c190-39419300ebca"
   },
   "outputs": [
    {
     "data": {
      "text/html": [
       "<div>\n",
       "<style scoped>\n",
       "    .dataframe tbody tr th:only-of-type {\n",
       "        vertical-align: middle;\n",
       "    }\n",
       "\n",
       "    .dataframe tbody tr th {\n",
       "        vertical-align: top;\n",
       "    }\n",
       "\n",
       "    .dataframe thead th {\n",
       "        text-align: right;\n",
       "    }\n",
       "</style>\n",
       "<table border=\"1\" class=\"dataframe\">\n",
       "  <thead>\n",
       "    <tr style=\"text-align: right;\">\n",
       "      <th></th>\n",
       "      <th>Survived</th>\n",
       "    </tr>\n",
       "    <tr>\n",
       "      <th>SibSp</th>\n",
       "      <th></th>\n",
       "    </tr>\n",
       "  </thead>\n",
       "  <tbody>\n",
       "    <tr>\n",
       "      <th>0</th>\n",
       "      <td>0.345395</td>\n",
       "    </tr>\n",
       "    <tr>\n",
       "      <th>1</th>\n",
       "      <td>0.535885</td>\n",
       "    </tr>\n",
       "    <tr>\n",
       "      <th>2</th>\n",
       "      <td>0.464286</td>\n",
       "    </tr>\n",
       "    <tr>\n",
       "      <th>3</th>\n",
       "      <td>0.250000</td>\n",
       "    </tr>\n",
       "    <tr>\n",
       "      <th>4</th>\n",
       "      <td>0.166667</td>\n",
       "    </tr>\n",
       "    <tr>\n",
       "      <th>5</th>\n",
       "      <td>0.000000</td>\n",
       "    </tr>\n",
       "    <tr>\n",
       "      <th>8</th>\n",
       "      <td>0.000000</td>\n",
       "    </tr>\n",
       "  </tbody>\n",
       "</table>\n",
       "</div>"
      ],
      "text/plain": [
       "       Survived\n",
       "SibSp          \n",
       "0      0.345395\n",
       "1      0.535885\n",
       "2      0.464286\n",
       "3      0.250000\n",
       "4      0.166667\n",
       "5      0.000000\n",
       "8      0.000000"
      ]
     },
     "execution_count": 582,
     "metadata": {},
     "output_type": "execute_result"
    }
   ],
   "source": [
    "df.groupby(['SibSp']).Survived.mean().to_frame()"
   ]
  },
  {
   "cell_type": "code",
   "execution_count": 583,
   "id": "qoNiWzDlSs_V",
   "metadata": {
    "colab": {
     "base_uri": "https://localhost:8080/",
     "height": 350
    },
    "id": "qoNiWzDlSs_V",
    "outputId": "f3354fee-2b33-4634-dda2-90b4e8a0f38e"
   },
   "outputs": [
    {
     "data": {
      "image/png": "[encoded data removed]",
      "text/plain": [
       "<Figure size 500x500 with 1 Axes>"
      ]
     },
     "metadata": {},
     "output_type": "display_data"
    }
   ],
   "source": [
    "show_compare_countplot(df, \"SibSp\", \"Survived\", \"Survivor count by number of siblings / spouses aboard the Titanic\")"
   ]
  },
  {
   "cell_type": "markdown",
   "id": "TFT37exYSs_W",
   "metadata": {
    "id": "TFT37exYSs_W"
   },
   "source": [
    "### Observarion:\n",
    "The majority traveled alone.\n",
    "It seems that the more Sibling a passenger has the less chance of survival there is."
   ]
  },
  {
   "cell_type": "markdown",
   "id": "HXweAvZ-Ss_W",
   "metadata": {
    "id": "HXweAvZ-Ss_W"
   },
   "source": [
    "##  2.12 Analyze Feature Parch\n",
    "\n",
    "This feature contains the number of parents or children each passenger was traveling with."
   ]
  },
  {
   "cell_type": "code",
   "execution_count": 584,
   "id": "daf3YYsgSs_X",
   "metadata": {
    "colab": {
     "base_uri": "https://localhost:8080/",
     "height": 350
    },
    "id": "daf3YYsgSs_X",
    "outputId": "6d44ecc4-8233-4426-ef11-c0894f1df140"
   },
   "outputs": [
    {
     "data": {
      "image/png": "[encoded data removed]",
      "text/plain": [
       "<Figure size 500x500 with 1 Axes>"
      ]
     },
     "metadata": {},
     "output_type": "display_data"
    }
   ],
   "source": [
    "bar_chart_compare(df, \"Parch\", title = \"Survival rate by Parch\")"
   ]
  },
  {
   "cell_type": "code",
   "execution_count": 585,
   "id": "ukU1cwRGSs_Y",
   "metadata": {
    "colab": {
     "base_uri": "https://localhost:8080/",
     "height": 301
    },
    "id": "ukU1cwRGSs_Y",
    "outputId": "e4e5d714-e6cf-4363-c6ed-fdbec2ea2653"
   },
   "outputs": [
    {
     "data": {
      "text/html": [
       "<div>\n",
       "<style scoped>\n",
       "    .dataframe tbody tr th:only-of-type {\n",
       "        vertical-align: middle;\n",
       "    }\n",
       "\n",
       "    .dataframe tbody tr th {\n",
       "        vertical-align: top;\n",
       "    }\n",
       "\n",
       "    .dataframe thead th {\n",
       "        text-align: right;\n",
       "    }\n",
       "</style>\n",
       "<table border=\"1\" class=\"dataframe\">\n",
       "  <thead>\n",
       "    <tr style=\"text-align: right;\">\n",
       "      <th></th>\n",
       "      <th>Survived</th>\n",
       "    </tr>\n",
       "    <tr>\n",
       "      <th>Parch</th>\n",
       "      <th></th>\n",
       "    </tr>\n",
       "  </thead>\n",
       "  <tbody>\n",
       "    <tr>\n",
       "      <th>0</th>\n",
       "      <td>0.343658</td>\n",
       "    </tr>\n",
       "    <tr>\n",
       "      <th>1</th>\n",
       "      <td>0.550847</td>\n",
       "    </tr>\n",
       "    <tr>\n",
       "      <th>2</th>\n",
       "      <td>0.500000</td>\n",
       "    </tr>\n",
       "    <tr>\n",
       "      <th>3</th>\n",
       "      <td>0.600000</td>\n",
       "    </tr>\n",
       "    <tr>\n",
       "      <th>4</th>\n",
       "      <td>0.000000</td>\n",
       "    </tr>\n",
       "    <tr>\n",
       "      <th>5</th>\n",
       "      <td>0.200000</td>\n",
       "    </tr>\n",
       "    <tr>\n",
       "      <th>6</th>\n",
       "      <td>0.000000</td>\n",
       "    </tr>\n",
       "  </tbody>\n",
       "</table>\n",
       "</div>"
      ],
      "text/plain": [
       "       Survived\n",
       "Parch          \n",
       "0      0.343658\n",
       "1      0.550847\n",
       "2      0.500000\n",
       "3      0.600000\n",
       "4      0.000000\n",
       "5      0.200000\n",
       "6      0.000000"
      ]
     },
     "execution_count": 585,
     "metadata": {},
     "output_type": "execute_result"
    }
   ],
   "source": [
    "df.groupby(['Parch']).Survived.mean().to_frame()"
   ]
  },
  {
   "cell_type": "code",
   "execution_count": 586,
   "id": "MggqkjJ4Ss_Y",
   "metadata": {
    "colab": {
     "base_uri": "https://localhost:8080/",
     "height": 350
    },
    "id": "MggqkjJ4Ss_Y",
    "outputId": "3dd62c3a-d6c8-4234-b04d-8df34cabc804"
   },
   "outputs": [
    {
     "data": {
      "image/png": "[encoded data removed]",
      "text/plain": [
       "<Figure size 500x500 with 1 Axes>"
      ]
     },
     "metadata": {},
     "output_type": "display_data"
    }
   ],
   "source": [
    "show_compare_countplot(df, \"Parch\", \"Survived\", \"Survivor count by Parch\")"
   ]
  },
  {
   "cell_type": "markdown",
   "id": "6xIn2SU0Ss_Y",
   "metadata": {
    "id": "6xIn2SU0Ss_Y"
   },
   "source": [
    "### Observation:\n",
    "This feature contains the number of parents or children each passenger was traveling with.\n",
    "We see again that small families had more chances to survive than bigger ones and passengers who traveled alone.\n",
    "\n",
    "For faster training, it might be beneficial to combine both features into 1 and create a family size feature."
   ]
  },
  {
   "cell_type": "markdown",
   "id": "ffc9186b",
   "metadata": {},
   "source": [
    "## 2.2 Rank Feature Importance"
   ]
  },
  {
   "cell_type": "markdown",
   "id": "5253a464",
   "metadata": {},
   "source": [
    "### Remove insignificant columns"
   ]
  },
  {
   "cell_type": "code",
   "execution_count": 587,
   "id": "ed09fc3a",
   "metadata": {},
   "outputs": [],
   "source": [
    "y = df['Survived'] \n",
    "X = df.drop([\"Survived\"], axis=1)\n",
    "X = X.drop([\"PassengerId\"], axis=1)\n",
    "X = X.drop([\"Name\"], axis=1)\n",
    "X = X.drop([\"Ticket\"], axis=1)\n",
    "X = X.drop([\"Cabin\"], axis=1)\n"
   ]
  },
  {
   "cell_type": "markdown",
   "id": "2f297978",
   "metadata": {},
   "source": [
    "### Missing Values"
   ]
  },
  {
   "cell_type": "code",
   "execution_count": 588,
   "id": "92d3b15e",
   "metadata": {},
   "outputs": [
    {
     "name": "stdout",
     "output_type": "stream",
     "text": [
      "Pclass        0\n",
      "Sex           0\n",
      "Age         177\n",
      "SibSp         0\n",
      "Parch         0\n",
      "Fare          0\n",
      "Embarked      2\n",
      "dtype: int64\n"
     ]
    }
   ],
   "source": [
    "print(X.isnull().sum())"
   ]
  },
  {
   "cell_type": "markdown",
   "id": "97d99676",
   "metadata": {},
   "source": [
    "### Impute missing values with Mean for 'Age'"
   ]
  },
  {
   "cell_type": "code",
   "execution_count": 589,
   "id": "5d07a130",
   "metadata": {},
   "outputs": [],
   "source": [
    "X['Age'] = X['Age'].replace(np.NaN, X['Age'].median())"
   ]
  },
  {
   "cell_type": "markdown",
   "id": "236f5bf0",
   "metadata": {},
   "source": [
    "### Impute missing values with 'U' for 'Embarked'"
   ]
  },
  {
   "cell_type": "code",
   "execution_count": 590,
   "id": "0b80184a",
   "metadata": {},
   "outputs": [],
   "source": [
    "X['Embarked'] = X['Embarked'].replace(np.NaN, 'U')"
   ]
  },
  {
   "cell_type": "code",
   "execution_count": 591,
   "id": "8153113c",
   "metadata": {},
   "outputs": [
    {
     "name": "stdout",
     "output_type": "stream",
     "text": [
      "Pclass      0\n",
      "Sex         0\n",
      "Age         0\n",
      "SibSp       0\n",
      "Parch       0\n",
      "Fare        0\n",
      "Embarked    0\n",
      "dtype: int64\n"
     ]
    }
   ],
   "source": [
    "print(X.isnull().sum())"
   ]
  },
  {
   "cell_type": "markdown",
   "id": "08bc9a08",
   "metadata": {},
   "source": [
    "### Map to numeric values"
   ]
  },
  {
   "cell_type": "code",
   "execution_count": 592,
   "id": "5ae3dab9",
   "metadata": {},
   "outputs": [
    {
     "data": {
      "text/html": [
       "<div>\n",
       "<style scoped>\n",
       "    .dataframe tbody tr th:only-of-type {\n",
       "        vertical-align: middle;\n",
       "    }\n",
       "\n",
       "    .dataframe tbody tr th {\n",
       "        vertical-align: top;\n",
       "    }\n",
       "\n",
       "    .dataframe thead th {\n",
       "        text-align: right;\n",
       "    }\n",
       "</style>\n",
       "<table border=\"1\" class=\"dataframe\">\n",
       "  <thead>\n",
       "    <tr style=\"text-align: right;\">\n",
       "      <th></th>\n",
       "      <th>Pclass</th>\n",
       "      <th>Sex</th>\n",
       "      <th>Age</th>\n",
       "      <th>SibSp</th>\n",
       "      <th>Parch</th>\n",
       "      <th>Fare</th>\n",
       "      <th>Embarked</th>\n",
       "    </tr>\n",
       "  </thead>\n",
       "  <tbody>\n",
       "    <tr>\n",
       "      <th>0</th>\n",
       "      <td>3</td>\n",
       "      <td>1</td>\n",
       "      <td>22.0</td>\n",
       "      <td>1</td>\n",
       "      <td>0</td>\n",
       "      <td>7.2500</td>\n",
       "      <td>0</td>\n",
       "    </tr>\n",
       "    <tr>\n",
       "      <th>1</th>\n",
       "      <td>1</td>\n",
       "      <td>0</td>\n",
       "      <td>38.0</td>\n",
       "      <td>1</td>\n",
       "      <td>0</td>\n",
       "      <td>71.2833</td>\n",
       "      <td>1</td>\n",
       "    </tr>\n",
       "    <tr>\n",
       "      <th>2</th>\n",
       "      <td>3</td>\n",
       "      <td>0</td>\n",
       "      <td>26.0</td>\n",
       "      <td>0</td>\n",
       "      <td>0</td>\n",
       "      <td>7.9250</td>\n",
       "      <td>0</td>\n",
       "    </tr>\n",
       "    <tr>\n",
       "      <th>3</th>\n",
       "      <td>1</td>\n",
       "      <td>0</td>\n",
       "      <td>35.0</td>\n",
       "      <td>1</td>\n",
       "      <td>0</td>\n",
       "      <td>53.1000</td>\n",
       "      <td>0</td>\n",
       "    </tr>\n",
       "    <tr>\n",
       "      <th>4</th>\n",
       "      <td>3</td>\n",
       "      <td>1</td>\n",
       "      <td>35.0</td>\n",
       "      <td>0</td>\n",
       "      <td>0</td>\n",
       "      <td>8.0500</td>\n",
       "      <td>0</td>\n",
       "    </tr>\n",
       "  </tbody>\n",
       "</table>\n",
       "</div>"
      ],
      "text/plain": [
       "   Pclass  Sex   Age  SibSp  Parch     Fare  Embarked\n",
       "0       3    1  22.0      1      0   7.2500         0\n",
       "1       1    0  38.0      1      0  71.2833         1\n",
       "2       3    0  26.0      0      0   7.9250         0\n",
       "3       1    0  35.0      1      0  53.1000         0\n",
       "4       3    1  35.0      0      0   8.0500         0"
      ]
     },
     "execution_count": 592,
     "metadata": {},
     "output_type": "execute_result"
    }
   ],
   "source": [
    "X['Sex'] = X['Sex'].map({'male':1,'female':0})\n",
    "X['Embarked'] = X['Embarked'].map({'S':0,'C':1,'Q':2,'U':-1 })\n",
    "X.head()"
   ]
  },
  {
   "cell_type": "markdown",
   "id": "95211c15",
   "metadata": {},
   "source": [
    "### Feature Importance"
   ]
  },
  {
   "cell_type": "code",
   "execution_count": 593,
   "id": "26ff0594",
   "metadata": {},
   "outputs": [
    {
     "name": "stdout",
     "output_type": "stream",
     "text": [
      "[0.10805052 0.29242547 0.24309753 0.0444382  0.04173822 0.2389325\n",
      " 0.03131756]\n"
     ]
    },
    {
     "data": {
      "image/png": "[encoded data removed]",
      "text/plain": [
       "<Figure size 640x480 with 1 Axes>"
      ]
     },
     "metadata": {},
     "output_type": "display_data"
    }
   ],
   "source": [
    "import matplotlib.pyplot as plt\n",
    "from sklearn.ensemble import ExtraTreesClassifier\n",
    "model = ExtraTreesClassifier()\n",
    "model.fit(X,y)\n",
    "print(model.feature_importances_) #use inbuilt class feature_importances of tree based classifiers\n",
    "#plot graph of feature importances for better visualization\n",
    "feat_importances = pd.Series(model.feature_importances_, index=X.columns)\n",
    "feat_importances.nlargest(10).plot(kind='barh')\n",
    "plt.show()"
   ]
  },
  {
   "cell_type": "markdown",
   "id": "63d8b576",
   "metadata": {},
   "source": [
    "We see that the features are ranked as follows: Sex, Fare, Age, Pclass, SibSp, Parch, Embraked"
   ]
  },
  {
   "cell_type": "markdown",
   "id": "8hre1LKQSs_H",
   "metadata": {
    "id": "8hre1LKQSs_H"
   },
   "source": [
    "# 3. Feature engineering"
   ]
  },
  {
   "cell_type": "markdown",
   "id": "FPSC9GSMSs_H",
   "metadata": {
    "id": "FPSC9GSMSs_H"
   },
   "source": [
    "## 3.1 Feature Name:"
   ]
  },
  {
   "cell_type": "markdown",
   "id": "wtH9TBhJSs_I",
   "metadata": {
    "id": "wtH9TBhJSs_I"
   },
   "source": [
    "### Observation\n",
    "To create a new feature we can extract the Titles from the name."
   ]
  },
  {
   "cell_type": "code",
   "execution_count": 594,
   "id": "tmuTbvntSs_I",
   "metadata": {
    "id": "tmuTbvntSs_I"
   },
   "outputs": [],
   "source": [
    "df['Title'] = df['Name'].apply(lambda x: x.split(',')[1].split('.')[0].strip())"
   ]
  },
  {
   "cell_type": "code",
   "execution_count": 595,
   "id": "xgD9GZFpSs_I",
   "metadata": {
    "colab": {
     "base_uri": "https://localhost:8080/",
     "height": 206
    },
    "id": "xgD9GZFpSs_I",
    "outputId": "bd816d8f-09d2-4c02-86e8-e998b2592c65"
   },
   "outputs": [
    {
     "data": {
      "text/html": [
       "<div>\n",
       "<style scoped>\n",
       "    .dataframe tbody tr th:only-of-type {\n",
       "        vertical-align: middle;\n",
       "    }\n",
       "\n",
       "    .dataframe tbody tr th {\n",
       "        vertical-align: top;\n",
       "    }\n",
       "\n",
       "    .dataframe thead th {\n",
       "        text-align: right;\n",
       "    }\n",
       "</style>\n",
       "<table border=\"1\" class=\"dataframe\">\n",
       "  <thead>\n",
       "    <tr style=\"text-align: right;\">\n",
       "      <th></th>\n",
       "      <th>PassengerId</th>\n",
       "      <th>Survived</th>\n",
       "      <th>Pclass</th>\n",
       "      <th>Name</th>\n",
       "      <th>Sex</th>\n",
       "      <th>Age</th>\n",
       "      <th>SibSp</th>\n",
       "      <th>Parch</th>\n",
       "      <th>Ticket</th>\n",
       "      <th>Fare</th>\n",
       "      <th>Cabin</th>\n",
       "      <th>Embarked</th>\n",
       "      <th>Title</th>\n",
       "    </tr>\n",
       "  </thead>\n",
       "  <tbody>\n",
       "    <tr>\n",
       "      <th>0</th>\n",
       "      <td>1</td>\n",
       "      <td>0</td>\n",
       "      <td>3</td>\n",
       "      <td>Braund, Mr. Owen Harris</td>\n",
       "      <td>male</td>\n",
       "      <td>22.0</td>\n",
       "      <td>1</td>\n",
       "      <td>0</td>\n",
       "      <td>A/5 21171</td>\n",
       "      <td>7.2500</td>\n",
       "      <td>NaN</td>\n",
       "      <td>S</td>\n",
       "      <td>Mr</td>\n",
       "    </tr>\n",
       "    <tr>\n",
       "      <th>1</th>\n",
       "      <td>2</td>\n",
       "      <td>1</td>\n",
       "      <td>1</td>\n",
       "      <td>Cumings, Mrs. John Bradley (Florence Briggs Th...</td>\n",
       "      <td>female</td>\n",
       "      <td>38.0</td>\n",
       "      <td>1</td>\n",
       "      <td>0</td>\n",
       "      <td>PC 17599</td>\n",
       "      <td>71.2833</td>\n",
       "      <td>C85</td>\n",
       "      <td>C</td>\n",
       "      <td>Mrs</td>\n",
       "    </tr>\n",
       "    <tr>\n",
       "      <th>2</th>\n",
       "      <td>3</td>\n",
       "      <td>1</td>\n",
       "      <td>3</td>\n",
       "      <td>Heikkinen, Miss. Laina</td>\n",
       "      <td>female</td>\n",
       "      <td>26.0</td>\n",
       "      <td>0</td>\n",
       "      <td>0</td>\n",
       "      <td>STON/O2. 3101282</td>\n",
       "      <td>7.9250</td>\n",
       "      <td>NaN</td>\n",
       "      <td>S</td>\n",
       "      <td>Miss</td>\n",
       "    </tr>\n",
       "    <tr>\n",
       "      <th>3</th>\n",
       "      <td>4</td>\n",
       "      <td>1</td>\n",
       "      <td>1</td>\n",
       "      <td>Futrelle, Mrs. Jacques Heath (Lily May Peel)</td>\n",
       "      <td>female</td>\n",
       "      <td>35.0</td>\n",
       "      <td>1</td>\n",
       "      <td>0</td>\n",
       "      <td>113803</td>\n",
       "      <td>53.1000</td>\n",
       "      <td>C123</td>\n",
       "      <td>S</td>\n",
       "      <td>Mrs</td>\n",
       "    </tr>\n",
       "    <tr>\n",
       "      <th>4</th>\n",
       "      <td>5</td>\n",
       "      <td>0</td>\n",
       "      <td>3</td>\n",
       "      <td>Allen, Mr. William Henry</td>\n",
       "      <td>male</td>\n",
       "      <td>35.0</td>\n",
       "      <td>0</td>\n",
       "      <td>0</td>\n",
       "      <td>373450</td>\n",
       "      <td>8.0500</td>\n",
       "      <td>NaN</td>\n",
       "      <td>S</td>\n",
       "      <td>Mr</td>\n",
       "    </tr>\n",
       "  </tbody>\n",
       "</table>\n",
       "</div>"
      ],
      "text/plain": [
       "   PassengerId  Survived  Pclass  \\\n",
       "0            1         0       3   \n",
       "1            2         1       1   \n",
       "2            3         1       3   \n",
       "3            4         1       1   \n",
       "4            5         0       3   \n",
       "\n",
       "                                                Name     Sex   Age  SibSp  \\\n",
       "0                            Braund, Mr. Owen Harris    male  22.0      1   \n",
       "1  Cumings, Mrs. John Bradley (Florence Briggs Th...  female  38.0      1   \n",
       "2                             Heikkinen, Miss. Laina  female  26.0      0   \n",
       "3       Futrelle, Mrs. Jacques Heath (Lily May Peel)  female  35.0      1   \n",
       "4                           Allen, Mr. William Henry    male  35.0      0   \n",
       "\n",
       "   Parch            Ticket     Fare Cabin Embarked Title  \n",
       "0      0         A/5 21171   7.2500   NaN        S    Mr  \n",
       "1      0          PC 17599  71.2833   C85        C   Mrs  \n",
       "2      0  STON/O2. 3101282   7.9250   NaN        S  Miss  \n",
       "3      0            113803  53.1000  C123        S   Mrs  \n",
       "4      0            373450   8.0500   NaN        S    Mr  "
      ]
     },
     "execution_count": 595,
     "metadata": {},
     "output_type": "execute_result"
    }
   ],
   "source": [
    "df.head()"
   ]
  },
  {
   "cell_type": "code",
   "execution_count": 596,
   "id": "nkM6xHoBSs_I",
   "metadata": {
    "colab": {
     "base_uri": "https://localhost:8080/",
     "height": 583
    },
    "id": "nkM6xHoBSs_I",
    "outputId": "f4b3c7dd-90fe-4d21-eb11-42bd80a06752"
   },
   "outputs": [
    {
     "data": {
      "text/html": [
       "<div>\n",
       "<style scoped>\n",
       "    .dataframe tbody tr th:only-of-type {\n",
       "        vertical-align: middle;\n",
       "    }\n",
       "\n",
       "    .dataframe tbody tr th {\n",
       "        vertical-align: top;\n",
       "    }\n",
       "\n",
       "    .dataframe thead th {\n",
       "        text-align: right;\n",
       "    }\n",
       "</style>\n",
       "<table border=\"1\" class=\"dataframe\">\n",
       "  <thead>\n",
       "    <tr style=\"text-align: right;\">\n",
       "      <th></th>\n",
       "      <th>Title</th>\n",
       "    </tr>\n",
       "  </thead>\n",
       "  <tbody>\n",
       "    <tr>\n",
       "      <th>Mr</th>\n",
       "      <td>517</td>\n",
       "    </tr>\n",
       "    <tr>\n",
       "      <th>Miss</th>\n",
       "      <td>182</td>\n",
       "    </tr>\n",
       "    <tr>\n",
       "      <th>Mrs</th>\n",
       "      <td>125</td>\n",
       "    </tr>\n",
       "    <tr>\n",
       "      <th>Master</th>\n",
       "      <td>40</td>\n",
       "    </tr>\n",
       "    <tr>\n",
       "      <th>Dr</th>\n",
       "      <td>7</td>\n",
       "    </tr>\n",
       "    <tr>\n",
       "      <th>Rev</th>\n",
       "      <td>6</td>\n",
       "    </tr>\n",
       "    <tr>\n",
       "      <th>Mlle</th>\n",
       "      <td>2</td>\n",
       "    </tr>\n",
       "    <tr>\n",
       "      <th>Major</th>\n",
       "      <td>2</td>\n",
       "    </tr>\n",
       "    <tr>\n",
       "      <th>Col</th>\n",
       "      <td>2</td>\n",
       "    </tr>\n",
       "    <tr>\n",
       "      <th>the Countess</th>\n",
       "      <td>1</td>\n",
       "    </tr>\n",
       "    <tr>\n",
       "      <th>Capt</th>\n",
       "      <td>1</td>\n",
       "    </tr>\n",
       "    <tr>\n",
       "      <th>Ms</th>\n",
       "      <td>1</td>\n",
       "    </tr>\n",
       "    <tr>\n",
       "      <th>Sir</th>\n",
       "      <td>1</td>\n",
       "    </tr>\n",
       "    <tr>\n",
       "      <th>Lady</th>\n",
       "      <td>1</td>\n",
       "    </tr>\n",
       "    <tr>\n",
       "      <th>Mme</th>\n",
       "      <td>1</td>\n",
       "    </tr>\n",
       "    <tr>\n",
       "      <th>Don</th>\n",
       "      <td>1</td>\n",
       "    </tr>\n",
       "    <tr>\n",
       "      <th>Jonkheer</th>\n",
       "      <td>1</td>\n",
       "    </tr>\n",
       "  </tbody>\n",
       "</table>\n",
       "</div>"
      ],
      "text/plain": [
       "              Title\n",
       "Mr              517\n",
       "Miss            182\n",
       "Mrs             125\n",
       "Master           40\n",
       "Dr                7\n",
       "Rev               6\n",
       "Mlle              2\n",
       "Major             2\n",
       "Col               2\n",
       "the Countess      1\n",
       "Capt              1\n",
       "Ms                1\n",
       "Sir               1\n",
       "Lady              1\n",
       "Mme               1\n",
       "Don               1\n",
       "Jonkheer          1"
      ]
     },
     "execution_count": 596,
     "metadata": {},
     "output_type": "execute_result"
    }
   ],
   "source": [
    "df['Title'].value_counts().to_frame()"
   ]
  },
  {
   "cell_type": "markdown",
   "id": "jOLDebEWSs_J",
   "metadata": {
    "id": "jOLDebEWSs_J"
   },
   "source": [
    "### Observation:\n",
    "The titles are severely imbalanced. Let us group less frequent Titles together by substituting male titles into Mr and female Titles into Miss."
   ]
  },
  {
   "cell_type": "code",
   "execution_count": 597,
   "id": "I-5XX89zSs_J",
   "metadata": {
    "id": "I-5XX89zSs_J"
   },
   "outputs": [],
   "source": [
    "df['Title'].replace(['Mme', 'Ms', 'Lady', 'Mlle', 'the Countess', 'Dona'], 'Miss', inplace=True)\n",
    "df['Title'].replace(['Major', 'Col', 'Capt', 'Don', 'Sir', 'Jonkheer'], 'Mr', inplace=True)"
   ]
  },
  {
   "cell_type": "code",
   "execution_count": 598,
   "id": "f7TwSYSpSs_K",
   "metadata": {
    "colab": {
     "base_uri": "https://localhost:8080/",
     "height": 413
    },
    "id": "f7TwSYSpSs_K",
    "outputId": "771fcc36-ce0d-49df-ce91-ef0473afa15d"
   },
   "outputs": [
    {
     "data": {
      "image/png": "[encoded data removed]",
      "text/plain": [
       "<Figure size 500x500 with 1 Axes>"
      ]
     },
     "metadata": {},
     "output_type": "display_data"
    }
   ],
   "source": [
    "bar_chart_stacked(df, 'Title') "
   ]
  },
  {
   "cell_type": "code",
   "execution_count": 599,
   "id": "UR5QJdBvSs_L",
   "metadata": {
    "colab": {
     "base_uri": "https://localhost:8080/",
     "height": 350
    },
    "id": "UR5QJdBvSs_L",
    "outputId": "1bbbeb9d-955d-4d6b-9788-b8e8030a9761"
   },
   "outputs": [
    {
     "data": {
      "image/png": "[encoded data removed]",
      "text/plain": [
       "<Figure size 500x500 with 1 Axes>"
      ]
     },
     "metadata": {},
     "output_type": "display_data"
    }
   ],
   "source": [
    "bar_chart_compare(df, \"Title\", title = \"Survival rate by Title\")"
   ]
  },
  {
   "cell_type": "markdown",
   "id": "J9Hh94ysSs_L",
   "metadata": {
    "id": "J9Hh94ysSs_L"
   },
   "source": [
    "### Observation:\n",
    "- Female Titles result in a higher survival rate.\n",
    "- Master and Dr are slightly have a surprisingly high survival rate even tough both are male titles\n",
    "- Being only a Mr comes with a compromised survival rate of approx 15%\n",
    "- All 6 Revernands died. Maybe religious reasons caused them to sacrifice their lives for others."
   ]
  },
  {
   "cell_type": "markdown",
   "id": "1KNgsUc2hDc6",
   "metadata": {
    "id": "1KNgsUc2hDc6"
   },
   "source": [
    "## 3.2 Feature Family Size\n",
    "For faster training, it might be beneficial to combine both features into 1 and create a family size feature."
   ]
  },
  {
   "cell_type": "code",
   "execution_count": 600,
   "id": "CtP5hWcbSs_Y",
   "metadata": {
    "id": "CtP5hWcbSs_Y"
   },
   "outputs": [],
   "source": [
    "df['Fam_size'] = df['SibSp'] + df['Parch'] + 1"
   ]
  },
  {
   "cell_type": "code",
   "execution_count": 601,
   "id": "0GSboX1mSs_Y",
   "metadata": {
    "colab": {
     "base_uri": "https://localhost:8080/",
     "height": 351
    },
    "id": "0GSboX1mSs_Y",
    "outputId": "1a8743df-e015-41c2-df52-c7383501bd81"
   },
   "outputs": [
    {
     "data": {
      "image/png": "[encoded data removed]",
      "text/plain": [
       "<Figure size 500x500 with 1 Axes>"
      ]
     },
     "metadata": {},
     "output_type": "display_data"
    }
   ],
   "source": [
    "bar_chart_compare(df, \"Fam_size\", title = \"Survival rate by family size\")"
   ]
  },
  {
   "cell_type": "code",
   "execution_count": 602,
   "id": "FLHZ7kUjSs_Z",
   "metadata": {
    "colab": {
     "base_uri": "https://localhost:8080/",
     "height": 351
    },
    "id": "FLHZ7kUjSs_Z",
    "outputId": "9835d3ec-7892-4696-c9f1-829ff88ae853"
   },
   "outputs": [
    {
     "data": {
      "image/png": "[encoded data removed]",
      "text/plain": [
       "<Figure size 500x500 with 1 Axes>"
      ]
     },
     "metadata": {},
     "output_type": "display_data"
    }
   ],
   "source": [
    "show_compare_countplot(df, \"Fam_size\", \"Survived\", \"Survivor count by family size\")"
   ]
  },
  {
   "cell_type": "markdown",
   "id": "CvYi2-EKSs_Z",
   "metadata": {
    "id": "CvYi2-EKSs_Z"
   },
   "source": [
    "## 3.3 Feature Family Type\n",
    "To further summarize the previous trend, as our final feature, Let's create four groups for family size"
   ]
  },
  {
   "cell_type": "code",
   "execution_count": 603,
   "id": "qDdi1KEZSs_a",
   "metadata": {
    "id": "qDdi1KEZSs_a"
   },
   "outputs": [],
   "source": [
    "# Creation of four groups\n",
    "df['Fam_type'] = pd.cut(df.Fam_size, [0,1,4,7,11], labels=['Solo', 'Small', 'Big', 'Very big'])\n",
    "df['Fam_type'] = pd.cut(df.Fam_size, [0,1,4,7,11], labels=['Solo', 'Small', 'Big', 'Very big'])"
   ]
  },
  {
   "cell_type": "code",
   "execution_count": 604,
   "id": "Hbe1h__PSs_a",
   "metadata": {
    "colab": {
     "base_uri": "https://localhost:8080/",
     "height": 351
    },
    "id": "Hbe1h__PSs_a",
    "outputId": "3c5330ba-8b81-4d4a-cca9-94975be58218"
   },
   "outputs": [
    {
     "data": {
      "image/png": "[encoded data removed]",
      "text/plain": [
       "<Figure size 500x500 with 1 Axes>"
      ]
     },
     "metadata": {},
     "output_type": "display_data"
    }
   ],
   "source": [
    "bar_chart_compare(df, \"Fam_type\", title = \"Surival rate by family type\")"
   ]
  },
  {
   "cell_type": "code",
   "execution_count": 605,
   "id": "9vsgBsY1Ss_b",
   "metadata": {
    "colab": {
     "base_uri": "https://localhost:8080/",
     "height": 351
    },
    "id": "9vsgBsY1Ss_b",
    "outputId": "f88a7e84-7ca0-4ba9-b9fc-5329d020dc3a"
   },
   "outputs": [
    {
     "data": {
      "image/png": "[encoded data removed]",
      "text/plain": [
       "<Figure size 500x500 with 1 Axes>"
      ]
     },
     "metadata": {},
     "output_type": "display_data"
    }
   ],
   "source": [
    "show_compare_countplot(df, \"Fam_type\", \"Survived\", \"Survivor count by family type\")"
   ]
  },
  {
   "cell_type": "markdown",
   "id": "RtTM1gCKSs_b",
   "metadata": {
    "id": "RtTM1gCKSs_b"
   },
   "source": [
    "# 4. Training a classifier\n",
    "\n",
    "- We start by selecting the features we will use and isolating the target.\n",
    "- We will not consider PassengerId, Name, Ticket and Cabin\n",
    "- We did not SibSp, Parch, instead we will use 'Fam_type'.\n",
    "- We also did not use Sex as it is not useful given the Title column:<br> \n",
    "  adult males and young children have the same sex but are different categories as we saw before, so we don't want to confuse our algorithm.\n"
   ]
  },
  {
   "cell_type": "code",
   "execution_count": 606,
   "id": "aea8b4c8",
   "metadata": {},
   "outputs": [
    {
     "data": {
      "text/html": [
       "<div>\n",
       "<style scoped>\n",
       "    .dataframe tbody tr th:only-of-type {\n",
       "        vertical-align: middle;\n",
       "    }\n",
       "\n",
       "    .dataframe tbody tr th {\n",
       "        vertical-align: top;\n",
       "    }\n",
       "\n",
       "    .dataframe thead th {\n",
       "        text-align: right;\n",
       "    }\n",
       "</style>\n",
       "<table border=\"1\" class=\"dataframe\">\n",
       "  <thead>\n",
       "    <tr style=\"text-align: right;\">\n",
       "      <th></th>\n",
       "      <th>Pclass</th>\n",
       "      <th>Sex</th>\n",
       "      <th>Age</th>\n",
       "      <th>SibSp</th>\n",
       "      <th>Parch</th>\n",
       "      <th>Fare</th>\n",
       "      <th>Embarked</th>\n",
       "    </tr>\n",
       "  </thead>\n",
       "  <tbody>\n",
       "    <tr>\n",
       "      <th>0</th>\n",
       "      <td>3</td>\n",
       "      <td>1</td>\n",
       "      <td>22.0</td>\n",
       "      <td>1</td>\n",
       "      <td>0</td>\n",
       "      <td>7.2500</td>\n",
       "      <td>0</td>\n",
       "    </tr>\n",
       "    <tr>\n",
       "      <th>1</th>\n",
       "      <td>1</td>\n",
       "      <td>0</td>\n",
       "      <td>38.0</td>\n",
       "      <td>1</td>\n",
       "      <td>0</td>\n",
       "      <td>71.2833</td>\n",
       "      <td>1</td>\n",
       "    </tr>\n",
       "    <tr>\n",
       "      <th>2</th>\n",
       "      <td>3</td>\n",
       "      <td>0</td>\n",
       "      <td>26.0</td>\n",
       "      <td>0</td>\n",
       "      <td>0</td>\n",
       "      <td>7.9250</td>\n",
       "      <td>0</td>\n",
       "    </tr>\n",
       "    <tr>\n",
       "      <th>3</th>\n",
       "      <td>1</td>\n",
       "      <td>0</td>\n",
       "      <td>35.0</td>\n",
       "      <td>1</td>\n",
       "      <td>0</td>\n",
       "      <td>53.1000</td>\n",
       "      <td>0</td>\n",
       "    </tr>\n",
       "    <tr>\n",
       "      <th>4</th>\n",
       "      <td>3</td>\n",
       "      <td>1</td>\n",
       "      <td>35.0</td>\n",
       "      <td>0</td>\n",
       "      <td>0</td>\n",
       "      <td>8.0500</td>\n",
       "      <td>0</td>\n",
       "    </tr>\n",
       "  </tbody>\n",
       "</table>\n",
       "</div>"
      ],
      "text/plain": [
       "   Pclass  Sex   Age  SibSp  Parch     Fare  Embarked\n",
       "0       3    1  22.0      1      0   7.2500         0\n",
       "1       1    0  38.0      1      0  71.2833         1\n",
       "2       3    0  26.0      0      0   7.9250         0\n",
       "3       1    0  35.0      1      0  53.1000         0\n",
       "4       3    1  35.0      0      0   8.0500         0"
      ]
     },
     "execution_count": 606,
     "metadata": {},
     "output_type": "execute_result"
    }
   ],
   "source": [
    "X.head()"
   ]
  },
  {
   "cell_type": "code",
   "execution_count": 607,
   "id": "ejhCTTzKSs_b",
   "metadata": {
    "colab": {
     "base_uri": "https://localhost:8080/",
     "height": 206
    },
    "id": "ejhCTTzKSs_b",
    "outputId": "e610f7ba-5a79-475c-92bb-cbb20829d724"
   },
   "outputs": [
    {
     "data": {
      "text/html": [
       "<div>\n",
       "<style scoped>\n",
       "    .dataframe tbody tr th:only-of-type {\n",
       "        vertical-align: middle;\n",
       "    }\n",
       "\n",
       "    .dataframe tbody tr th {\n",
       "        vertical-align: top;\n",
       "    }\n",
       "\n",
       "    .dataframe thead th {\n",
       "        text-align: right;\n",
       "    }\n",
       "</style>\n",
       "<table border=\"1\" class=\"dataframe\">\n",
       "  <thead>\n",
       "    <tr style=\"text-align: right;\">\n",
       "      <th></th>\n",
       "      <th>Pclass</th>\n",
       "      <th>Age</th>\n",
       "      <th>Fare</th>\n",
       "      <th>Embarked</th>\n",
       "      <th>Title</th>\n",
       "      <th>Fam_type</th>\n",
       "    </tr>\n",
       "  </thead>\n",
       "  <tbody>\n",
       "    <tr>\n",
       "      <th>0</th>\n",
       "      <td>3</td>\n",
       "      <td>22.0</td>\n",
       "      <td>7.2500</td>\n",
       "      <td>0</td>\n",
       "      <td>Mr</td>\n",
       "      <td>Small</td>\n",
       "    </tr>\n",
       "    <tr>\n",
       "      <th>1</th>\n",
       "      <td>1</td>\n",
       "      <td>38.0</td>\n",
       "      <td>71.2833</td>\n",
       "      <td>1</td>\n",
       "      <td>Mrs</td>\n",
       "      <td>Small</td>\n",
       "    </tr>\n",
       "    <tr>\n",
       "      <th>2</th>\n",
       "      <td>3</td>\n",
       "      <td>26.0</td>\n",
       "      <td>7.9250</td>\n",
       "      <td>0</td>\n",
       "      <td>Miss</td>\n",
       "      <td>Solo</td>\n",
       "    </tr>\n",
       "    <tr>\n",
       "      <th>3</th>\n",
       "      <td>1</td>\n",
       "      <td>35.0</td>\n",
       "      <td>53.1000</td>\n",
       "      <td>0</td>\n",
       "      <td>Mrs</td>\n",
       "      <td>Small</td>\n",
       "    </tr>\n",
       "    <tr>\n",
       "      <th>4</th>\n",
       "      <td>3</td>\n",
       "      <td>35.0</td>\n",
       "      <td>8.0500</td>\n",
       "      <td>0</td>\n",
       "      <td>Mr</td>\n",
       "      <td>Solo</td>\n",
       "    </tr>\n",
       "  </tbody>\n",
       "</table>\n",
       "</div>"
      ],
      "text/plain": [
       "   Pclass   Age     Fare  Embarked Title Fam_type\n",
       "0       3  22.0   7.2500         0    Mr    Small\n",
       "1       1  38.0  71.2833         1   Mrs    Small\n",
       "2       3  26.0   7.9250         0  Miss     Solo\n",
       "3       1  35.0  53.1000         0   Mrs    Small\n",
       "4       3  35.0   8.0500         0    Mr     Solo"
      ]
     },
     "execution_count": 607,
     "metadata": {},
     "output_type": "execute_result"
    }
   ],
   "source": [
    "features = ['Pclass', 'Age', 'Fare', 'Embarked']\n",
    "X = X[features]\n",
    "X['Title']=df['Title']\n",
    "X['Fam_type']=df['Fam_type']\n",
    "X.head()"
   ]
  },
  {
   "cell_type": "markdown",
   "id": "8f90a934",
   "metadata": {},
   "source": [
    "## 4.1 Missing Values"
   ]
  },
  {
   "cell_type": "code",
   "execution_count": 608,
   "id": "a89e45e7",
   "metadata": {},
   "outputs": [
    {
     "name": "stdout",
     "output_type": "stream",
     "text": [
      "Pclass      0\n",
      "Age         0\n",
      "Fare        0\n",
      "Embarked    0\n",
      "Title       0\n",
      "Fam_type    0\n",
      "dtype: int64\n"
     ]
    }
   ],
   "source": [
    "print(X.isnull().sum())"
   ]
  },
  {
   "cell_type": "markdown",
   "id": "029a4971",
   "metadata": {},
   "source": [
    "## One-Hot Encoding of Categorical Column Using Pandas library"
   ]
  },
  {
   "cell_type": "code",
   "execution_count": 609,
   "id": "af40e462",
   "metadata": {},
   "outputs": [
    {
     "name": "stdout",
     "output_type": "stream",
     "text": [
      "     Pclass   Age     Fare  Title_Dr  Title_Master  Title_Miss  Title_Mr  \\\n",
      "0         3  22.0   7.2500         0             0           0         1   \n",
      "1         1  38.0  71.2833         0             0           0         0   \n",
      "2         3  26.0   7.9250         0             0           1         0   \n",
      "3         1  35.0  53.1000         0             0           0         0   \n",
      "4         3  35.0   8.0500         0             0           0         1   \n",
      "..      ...   ...      ...       ...           ...         ...       ...   \n",
      "886       2  27.0  13.0000         0             0           0         0   \n",
      "887       1  19.0  30.0000         0             0           1         0   \n",
      "888       3  28.0  23.4500         0             0           1         0   \n",
      "889       1  26.0  30.0000         0             0           0         1   \n",
      "890       3  32.0   7.7500         0             0           0         1   \n",
      "\n",
      "     Title_Mrs  Title_Rev  Fam_type_Solo  Fam_type_Small  Fam_type_Big  \\\n",
      "0            0          0              0               1             0   \n",
      "1            1          0              0               1             0   \n",
      "2            0          0              1               0             0   \n",
      "3            1          0              0               1             0   \n",
      "4            0          0              1               0             0   \n",
      "..         ...        ...            ...             ...           ...   \n",
      "886          0          1              1               0             0   \n",
      "887          0          0              1               0             0   \n",
      "888          0          0              0               1             0   \n",
      "889          0          0              1               0             0   \n",
      "890          0          0              1               0             0   \n",
      "\n",
      "     Fam_type_Very big  Embarked_-1  Embarked_0  Embarked_1  Embarked_2  \n",
      "0                    0            0           1           0           0  \n",
      "1                    0            0           0           1           0  \n",
      "2                    0            0           1           0           0  \n",
      "3                    0            0           1           0           0  \n",
      "4                    0            0           1           0           0  \n",
      "..                 ...          ...         ...         ...         ...  \n",
      "886                  0            0           1           0           0  \n",
      "887                  0            0           1           0           0  \n",
      "888                  0            0           1           0           0  \n",
      "889                  0            0           0           1           0  \n",
      "890                  0            0           0           0           1  \n",
      "\n",
      "[891 rows x 17 columns]\n"
     ]
    }
   ],
   "source": [
    "one_hot_encoded_data = pd.get_dummies(X, columns = ['Title', 'Fam_type', 'Embarked']) \n",
    "print(one_hot_encoded_data)"
   ]
  },
  {
   "cell_type": "markdown",
   "id": "d4223b4f",
   "metadata": {},
   "source": [
    "## Train - Test Split"
   ]
  },
  {
   "cell_type": "code",
   "execution_count": 610,
   "id": "04498b41",
   "metadata": {},
   "outputs": [],
   "source": [
    "X_train, X_test, y_train, y_test = train_test_split(one_hot_encoded_data, y, test_size=0.25, random_state=42)"
   ]
  },
  {
   "cell_type": "markdown",
   "id": "11244081",
   "metadata": {},
   "source": [
    "## Training a classifier"
   ]
  },
  {
   "cell_type": "code",
   "execution_count": 611,
   "id": "KiUpjzhOSs_b",
   "metadata": {
    "colab": {
     "base_uri": "https://localhost:8080/"
    },
    "id": "KiUpjzhOSs_b",
    "outputId": "d19db7f6-9d4a-4901-fa99-817e4069eb28",
    "scrolled": true
   },
   "outputs": [
    {
     "name": "stdout",
     "output_type": "stream",
     "text": [
      "Cross validation score: 0.828\n"
     ]
    }
   ],
   "source": [
    "model = RandomForestClassifier(random_state=0, n_estimators=500, max_depth=5)\n",
    "model.fit(X_train,y_train)\n",
    "\n",
    "print('Cross validation score: {:.3f}'.format(cross_val_score(model, X_train, y_train, cv=10).mean()))"
   ]
  },
  {
   "cell_type": "code",
   "execution_count": 612,
   "id": "iFwHyo7sSs_c",
   "metadata": {
    "id": "iFwHyo7sSs_c"
   },
   "outputs": [],
   "source": [
    "y_pred = model.predict(X_test)"
   ]
  },
  {
   "cell_type": "code",
   "execution_count": 613,
   "id": "MqfS5EkkSs_c",
   "metadata": {
    "colab": {
     "base_uri": "https://localhost:8080/"
    },
    "id": "MqfS5EkkSs_c",
    "outputId": "274d27a5-ad1c-4ca5-954a-e9f2016c1bb7"
   },
   "outputs": [
    {
     "name": "stdout",
     "output_type": "stream",
     "text": [
      "Accuracy: 0.8295964125560538\n",
      "F1 Score: 0.8280565335902347\n",
      "Precision: 0.8287636464861248\n",
      "Recall: 0.8295964125560538\n"
     ]
    },
    {
     "data": {
      "text/plain": [
       "(0.8295964125560538,\n",
       " 0.8280565335902347,\n",
       " 0.8287636464861248,\n",
       " 0.8295964125560538)"
      ]
     },
     "execution_count": 613,
     "metadata": {},
     "output_type": "execute_result"
    }
   ],
   "source": [
    "overall_model_eval(y_test, y_pred)   "
   ]
  },
  {
   "cell_type": "markdown",
   "id": "19ced4da",
   "metadata": {},
   "source": [
    "We used the random forest classifier to predict if a traveller survived or not. We get a good accuracy of about 83%."
   ]
  },
  {
   "cell_type": "code",
   "execution_count": null,
   "id": "ca0caee5",
   "metadata": {},
   "outputs": [],
   "source": []
  }
 ],
 "metadata": {
  "colab": {
   "collapsed_sections": [
    "y4UOEn80Ss-u",
    "gVpgEjSJSs-x",
    "ZFP7fVviSs-1",
    "tu_fhQw-Ss-3",
    "HxoCFA-8Ss-4",
    "TyPZwV1JSs-6",
    "aX4002xSSs_D",
    "CagbBghaSs_F",
    "TFT37exYSs_W",
    "J9Hh94ysSs_L",
    "GSpap13XSs_T"
   ],
   "name": "Copy of Advanced_Titanic_Analysis.ipynb",
   "provenance": []
  },
  "kernelspec": {
   "display_name": "Python 3 (ipykernel)",
   "language": "python",
   "name": "python3"
  },
  "language_info": {
   "codemirror_mode": {
    "name": "ipython",
    "version": 3
   },
   "file_extension": ".py",
   "mimetype": "text/x-python",
   "name": "python",
   "nbconvert_exporter": "python",
   "pygments_lexer": "ipython3",
   "version": "3.11.4"
  }
 },
 "nbformat": 4,
 "nbformat_minor": 5
}
